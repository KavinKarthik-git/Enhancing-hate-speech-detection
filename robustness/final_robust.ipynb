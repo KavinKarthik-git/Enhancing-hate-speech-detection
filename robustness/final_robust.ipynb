{
  "cells": [
    {
      "cell_type": "code",
      "execution_count": 1,
      "id": "39ea1973-e66a-44d8-843b-d67a364157e2",
      "metadata": {
        "colab": {
          "base_uri": "https://localhost:8080/"
        },
        "id": "39ea1973-e66a-44d8-843b-d67a364157e2",
        "outputId": "6374177b-d816-48c7-e2ce-00afecfde5a9"
      },
      "outputs": [
        {
          "output_type": "stream",
          "name": "stdout",
          "text": [
            "Requirement already satisfied: transformers in /usr/local/lib/python3.10/dist-packages (4.35.2)\n",
            "Collecting datasets\n",
            "  Downloading datasets-2.15.0-py3-none-any.whl (521 kB)\n",
            "\u001b[2K     \u001b[90m━━━━━━━━━━━━━━━━━━━━━━━━━━━━━━━━━━━━━━━━\u001b[0m \u001b[32m521.2/521.2 kB\u001b[0m \u001b[31m5.7 MB/s\u001b[0m eta \u001b[36m0:00:00\u001b[0m\n",
            "\u001b[?25hRequirement already satisfied: filelock in /usr/local/lib/python3.10/dist-packages (from transformers) (3.13.1)\n",
            "Requirement already satisfied: huggingface-hub<1.0,>=0.16.4 in /usr/local/lib/python3.10/dist-packages (from transformers) (0.19.4)\n",
            "Requirement already satisfied: numpy>=1.17 in /usr/local/lib/python3.10/dist-packages (from transformers) (1.23.5)\n",
            "Requirement already satisfied: packaging>=20.0 in /usr/local/lib/python3.10/dist-packages (from transformers) (23.2)\n",
            "Requirement already satisfied: pyyaml>=5.1 in /usr/local/lib/python3.10/dist-packages (from transformers) (6.0.1)\n",
            "Requirement already satisfied: regex!=2019.12.17 in /usr/local/lib/python3.10/dist-packages (from transformers) (2023.6.3)\n",
            "Requirement already satisfied: requests in /usr/local/lib/python3.10/dist-packages (from transformers) (2.31.0)\n",
            "Requirement already satisfied: tokenizers<0.19,>=0.14 in /usr/local/lib/python3.10/dist-packages (from transformers) (0.15.0)\n",
            "Requirement already satisfied: safetensors>=0.3.1 in /usr/local/lib/python3.10/dist-packages (from transformers) (0.4.1)\n",
            "Requirement already satisfied: tqdm>=4.27 in /usr/local/lib/python3.10/dist-packages (from transformers) (4.66.1)\n",
            "Requirement already satisfied: pyarrow>=8.0.0 in /usr/local/lib/python3.10/dist-packages (from datasets) (9.0.0)\n",
            "Collecting pyarrow-hotfix (from datasets)\n",
            "  Downloading pyarrow_hotfix-0.6-py3-none-any.whl (7.9 kB)\n",
            "Collecting dill<0.3.8,>=0.3.0 (from datasets)\n",
            "  Downloading dill-0.3.7-py3-none-any.whl (115 kB)\n",
            "\u001b[2K     \u001b[90m━━━━━━━━━━━━━━━━━━━━━━━━━━━━━━━━━━━━━━━━\u001b[0m \u001b[32m115.3/115.3 kB\u001b[0m \u001b[31m7.8 MB/s\u001b[0m eta \u001b[36m0:00:00\u001b[0m\n",
            "\u001b[?25hRequirement already satisfied: pandas in /usr/local/lib/python3.10/dist-packages (from datasets) (1.5.3)\n",
            "Requirement already satisfied: xxhash in /usr/local/lib/python3.10/dist-packages (from datasets) (3.4.1)\n",
            "Collecting multiprocess (from datasets)\n",
            "  Downloading multiprocess-0.70.15-py310-none-any.whl (134 kB)\n",
            "\u001b[2K     \u001b[90m━━━━━━━━━━━━━━━━━━━━━━━━━━━━━━━━━━━━━━━━\u001b[0m \u001b[32m134.8/134.8 kB\u001b[0m \u001b[31m6.0 MB/s\u001b[0m eta \u001b[36m0:00:00\u001b[0m\n",
            "\u001b[?25hRequirement already satisfied: fsspec[http]<=2023.10.0,>=2023.1.0 in /usr/local/lib/python3.10/dist-packages (from datasets) (2023.6.0)\n",
            "Requirement already satisfied: aiohttp in /usr/local/lib/python3.10/dist-packages (from datasets) (3.9.1)\n",
            "Requirement already satisfied: attrs>=17.3.0 in /usr/local/lib/python3.10/dist-packages (from aiohttp->datasets) (23.1.0)\n",
            "Requirement already satisfied: multidict<7.0,>=4.5 in /usr/local/lib/python3.10/dist-packages (from aiohttp->datasets) (6.0.4)\n",
            "Requirement already satisfied: yarl<2.0,>=1.0 in /usr/local/lib/python3.10/dist-packages (from aiohttp->datasets) (1.9.3)\n",
            "Requirement already satisfied: frozenlist>=1.1.1 in /usr/local/lib/python3.10/dist-packages (from aiohttp->datasets) (1.4.0)\n",
            "Requirement already satisfied: aiosignal>=1.1.2 in /usr/local/lib/python3.10/dist-packages (from aiohttp->datasets) (1.3.1)\n",
            "Requirement already satisfied: async-timeout<5.0,>=4.0 in /usr/local/lib/python3.10/dist-packages (from aiohttp->datasets) (4.0.3)\n",
            "Requirement already satisfied: typing-extensions>=3.7.4.3 in /usr/local/lib/python3.10/dist-packages (from huggingface-hub<1.0,>=0.16.4->transformers) (4.5.0)\n",
            "Requirement already satisfied: charset-normalizer<4,>=2 in /usr/local/lib/python3.10/dist-packages (from requests->transformers) (3.3.2)\n",
            "Requirement already satisfied: idna<4,>=2.5 in /usr/local/lib/python3.10/dist-packages (from requests->transformers) (3.6)\n",
            "Requirement already satisfied: urllib3<3,>=1.21.1 in /usr/local/lib/python3.10/dist-packages (from requests->transformers) (2.0.7)\n",
            "Requirement already satisfied: certifi>=2017.4.17 in /usr/local/lib/python3.10/dist-packages (from requests->transformers) (2023.11.17)\n",
            "Requirement already satisfied: python-dateutil>=2.8.1 in /usr/local/lib/python3.10/dist-packages (from pandas->datasets) (2.8.2)\n",
            "Requirement already satisfied: pytz>=2020.1 in /usr/local/lib/python3.10/dist-packages (from pandas->datasets) (2023.3.post1)\n",
            "Requirement already satisfied: six>=1.5 in /usr/local/lib/python3.10/dist-packages (from python-dateutil>=2.8.1->pandas->datasets) (1.16.0)\n",
            "Installing collected packages: pyarrow-hotfix, dill, multiprocess, datasets\n",
            "Successfully installed datasets-2.15.0 dill-0.3.7 multiprocess-0.70.15 pyarrow-hotfix-0.6\n"
          ]
        }
      ],
      "source": [
        "! pip install transformers datasets\n"
      ]
    },
    {
      "cell_type": "code",
      "source": [
        "! pip install sentencepiece"
      ],
      "metadata": {
        "colab": {
          "base_uri": "https://localhost:8080/"
        },
        "id": "XUdi-aVbfwdE",
        "outputId": "cec3933f-fd20-4b0e-d6f0-a209316b12ea"
      },
      "id": "XUdi-aVbfwdE",
      "execution_count": 2,
      "outputs": [
        {
          "output_type": "stream",
          "name": "stdout",
          "text": [
            "Collecting sentencepiece\n",
            "  Downloading sentencepiece-0.1.99-cp310-cp310-manylinux_2_17_x86_64.manylinux2014_x86_64.whl (1.3 MB)\n",
            "\u001b[2K     \u001b[90m━━━━━━━━━━━━━━━━━━━━━━━━━━━━━━━━━━━━━━━━\u001b[0m \u001b[32m1.3/1.3 MB\u001b[0m \u001b[31m7.7 MB/s\u001b[0m eta \u001b[36m0:00:00\u001b[0m\n",
            "\u001b[?25hInstalling collected packages: sentencepiece\n",
            "Successfully installed sentencepiece-0.1.99\n"
          ]
        }
      ]
    },
    {
      "cell_type": "code",
      "source": [
        "import torch\n",
        "torch.cuda.empty_cache()\n",
        "\n",
        "# Confirm that the GPU is detected\n",
        "\n",
        "assert torch.cuda.is_available()\n",
        "\n",
        "# Get the GPU device name.\n",
        "device_name = torch.cuda.get_device_name()\n",
        "n_gpu = torch.cuda.device_count()\n",
        "print(f\"Found device: {device_name}, n_gpu: {n_gpu}\")\n",
        "device = torch.device(\"cuda\")"
      ],
      "metadata": {
        "colab": {
          "base_uri": "https://localhost:8080/"
        },
        "id": "oqOigbHbfvLS",
        "outputId": "6467f97e-54f0-4b4a-d418-eedfe08338c3"
      },
      "id": "oqOigbHbfvLS",
      "execution_count": 4,
      "outputs": [
        {
          "output_type": "stream",
          "name": "stdout",
          "text": [
            "Found device: Tesla T4, n_gpu: 1\n"
          ]
        }
      ]
    },
    {
      "cell_type": "code",
      "source": [
        "from google.colab import drive\n",
        "drive.mount('/content/drive/')"
      ],
      "metadata": {
        "colab": {
          "base_uri": "https://localhost:8080/"
        },
        "id": "a5vsYl5PcZIs",
        "outputId": "ab9bb2c1-6815-4eb6-8fbc-eb0b4f2a4307"
      },
      "id": "a5vsYl5PcZIs",
      "execution_count": 5,
      "outputs": [
        {
          "output_type": "stream",
          "name": "stdout",
          "text": [
            "Mounted at /content/drive/\n"
          ]
        }
      ]
    },
    {
      "cell_type": "code",
      "source": [
        "import os\n",
        "os.environ[\"CUDA_DEVICE_ORDER\"]=\"PCI_BUS_ID\"\n",
        "os.environ[\"CUDA_VISIBLE_DEVICES\"]=\"1\""
      ],
      "metadata": {
        "id": "BWYFQcUkcMOt"
      },
      "id": "BWYFQcUkcMOt",
      "execution_count": 6,
      "outputs": []
    },
    {
      "cell_type": "code",
      "execution_count": 7,
      "id": "ad239020-27bb-4886-8c61-e1908e57e506",
      "metadata": {
        "id": "ad239020-27bb-4886-8c61-e1908e57e506"
      },
      "outputs": [],
      "source": [
        "import numpy as np\n",
        "import pandas as pd\n",
        "import torch\n",
        "import torch.nn as nn\n",
        "import torch.nn.functional as F\n",
        "from torch.utils.data import Dataset, DataLoader, WeightedRandomSampler\n",
        "from torch import optim\n",
        "import sys\n",
        "import random\n",
        "import math\n",
        "import time\n",
        "from tqdm import tqdm\n",
        "from sklearn.metrics import precision_recall_fscore_support, f1_score\n",
        "from sklearn.metrics import classification_report\n",
        "from sklearn.metrics import ConfusionMatrixDisplay\n",
        "\n",
        "# Ignore warnings\n",
        "import warnings\n",
        "warnings.filterwarnings(\"ignore\")\n",
        "\n",
        "from transformers import BertTokenizer, AutoTokenizer\n",
        "from transformers import BertModel, AutoModel, AutoModelForSequenceClassification\n",
        "from transformers import AdamW, get_linear_schedule_with_warmup\n",
        "\n",
        "from torch.utils.tensorboard import SummaryWriter\n",
        "\n",
        "use_cuda = True if torch.cuda.is_available() else False\n",
        "device = torch.device(\"cuda\" if torch.cuda.is_available() else \"cpu\")\n",
        "# use_cuda=False\n",
        "# device='cpu'\n",
        "\n",
        "torch.autograd.set_detect_anomaly(True)\n",
        "torch.backends.cudnn.benchmark = True\n",
        "np.random.seed(0)\n",
        "torch.manual_seed(0)\n",
        "\n",
        "base_model = 'twitter-xlm-roberta-base-sentiment'\n",
        "model_list = ['bert-base-uncased', 'bert-base-multilingual-uncased', 'google/muril-base-cased', 'xlm-roberta-base',\n",
        "              'ai4bharat/indic-bert','cardiffnlp/twitter-xlm-roberta-base','cardiffnlp/twitter-xlm-roberta-base-sentiment',\n",
        "              'cardiffnlp/twitter-roberta-base', 'cardiffnlp/twitter-roberta-base-sentiment',\n",
        "              'cardiffnlp/twitter-roberta-base-hate', 'roberta-base']\n",
        "model_path = '/content/drive/MyDrive/saved_models/'\n",
        "results_path = '/content/drive/MyDrive/saved_results/'"
      ]
    },
    {
      "cell_type": "code",
      "execution_count": 8,
      "id": "0da5f88b-0f84-4c67-8eba-8a90b0095c5a",
      "metadata": {
        "id": "0da5f88b-0f84-4c67-8eba-8a90b0095c5a"
      },
      "outputs": [],
      "source": [
        "lang = 'hx_modified'\n",
        "model_choice = 6"
      ]
    },
    {
      "cell_type": "code",
      "execution_count": 9,
      "id": "99050998-e6fc-4236-b022-6b337c2aad28",
      "metadata": {
        "colab": {
          "base_uri": "https://localhost:8080/"
        },
        "id": "99050998-e6fc-4236-b022-6b337c2aad28",
        "outputId": "f3192e3f-5f57-4c04-ff9f-525fe4bb0a5c"
      },
      "outputs": [
        {
          "output_type": "execute_result",
          "data": {
            "text/plain": [
              "device(type='cuda')"
            ]
          },
          "metadata": {},
          "execution_count": 9
        }
      ],
      "source": [
        "writer = SummaryWriter(log_dir=\"/content/drive/MyDrive/\" + base_model + \"_\" + lang)\n",
        "device"
      ]
    },
    {
      "cell_type": "code",
      "execution_count": 10,
      "id": "9f2fcfaf-e554-4934-9494-4e162e6d8fc4",
      "metadata": {
        "id": "9f2fcfaf-e554-4934-9494-4e162e6d8fc4",
        "colab": {
          "base_uri": "https://localhost:8080/",
          "height": 113,
          "referenced_widgets": [
            "c00ec19486624d9da0b768a746f3d614",
            "18ca7f9a29de4d118e40d8b095b01e4f",
            "6cc675506ce44fb793327651a4501937",
            "0f79fb1cecb847dab1598afd82cc72aa",
            "2f91e3b2b7ba4523a3a4fcbb6ee7677b",
            "1820f9cb21254ea2866c8e47b18ad6e0",
            "79395d6b56ff46db9e51228a4a963d84",
            "6132f19cb12d4ff684c1cbeb1f774a24",
            "08550a32df32439a9aaef981b73949b6",
            "90851a3dd6a44a0fa520505ba5e36fd7",
            "bce8c549d360453aa9959965e0d69f1a",
            "01d32e3c75424f54bb0284ae51d66bf1",
            "77e7e072db8e4a48b681d729306d8776",
            "7cc3bd42c4d44fe2b41b085336c1df16",
            "0dc588b0397740559c72845895343ebb",
            "b3b728a15b524f1484fe8988f26dfcc7",
            "67dcdac78c9e40db8dcccdf7717592ae",
            "c383393a63c143378b819f76734f8885",
            "e86be6f9ba90448e9e4171d44d7dba78",
            "49f49e927b394fe9826cd088cb266e34",
            "4b5f8e78fd7e473ea1474b689e9b97ad",
            "c051870dc90543cd8ef761d1e945c1c1",
            "f0d31ccd2df94b0b9ace0802c7fca4ea",
            "da15a9320d8642dfbd3e3fdbcf9ea3c1",
            "f478bd48a94f4955a6f9d382d2dd0ee7",
            "a00ba9ad2a8643e8adb2e840b36ba659",
            "5906ac0b6eb94fd7ab69713b1318d9ab",
            "620731596a4d4ae3b7c5d61e273324bf",
            "4c7e19ad777046a1a589ba6bc774c502",
            "d16b4d81ee204bb3b828ada6bab5b738",
            "9436cfc92cb7478db7ef1d45ba491611",
            "7e68ae35bd354a6aaf2c517e18fb001d",
            "482505d279614b8ab783d55750e4cfb9"
          ]
        },
        "outputId": "380dd4a1-0d88-4687-8dd8-a488f297173b"
      },
      "outputs": [
        {
          "output_type": "display_data",
          "data": {
            "text/plain": [
              "config.json:   0%|          | 0.00/841 [00:00<?, ?B/s]"
            ],
            "application/vnd.jupyter.widget-view+json": {
              "version_major": 2,
              "version_minor": 0,
              "model_id": "c00ec19486624d9da0b768a746f3d614"
            }
          },
          "metadata": {}
        },
        {
          "output_type": "display_data",
          "data": {
            "text/plain": [
              "sentencepiece.bpe.model:   0%|          | 0.00/5.07M [00:00<?, ?B/s]"
            ],
            "application/vnd.jupyter.widget-view+json": {
              "version_major": 2,
              "version_minor": 0,
              "model_id": "01d32e3c75424f54bb0284ae51d66bf1"
            }
          },
          "metadata": {}
        },
        {
          "output_type": "display_data",
          "data": {
            "text/plain": [
              "special_tokens_map.json:   0%|          | 0.00/150 [00:00<?, ?B/s]"
            ],
            "application/vnd.jupyter.widget-view+json": {
              "version_major": 2,
              "version_minor": 0,
              "model_id": "f0d31ccd2df94b0b9ace0802c7fca4ea"
            }
          },
          "metadata": {}
        }
      ],
      "source": [
        "tokenizer = AutoTokenizer.from_pretrained(model_list[model_choice])\n",
        "\n",
        "MAX_SEQ_LEN = 128\n",
        "\n",
        "label_idx = 1\n",
        "text_idx = 0\n",
        "\n",
        "class HateData(Dataset):\n",
        "    def __init__(self, data_path, split='train', lang='bengali', aug_prob=0.2, flip_prob=0.5):\n",
        "        self.split = split\n",
        "        # self.data = pd.read_parquet(data_path + lang + \"_\" + split + \".parquet\", engine='fastparquet')\n",
        "        # self.data = pd.read_csv(data_path, sep=',')\n",
        "        # self.data = pd.read_csv(data_path + lang + \"_\" + split + \".tsv\", sep='\\t')\n",
        "        self.data = pd.read_csv(data_path + split + \"_\" + lang + \".tsv\", sep='\\t', lineterminator='\\n')\n",
        "\n",
        "        if self.split == 'train':\n",
        "            self.label2data = {0:[], 1:[], 2:[]}\n",
        "            # self.data = self.data[self.data['language'] == lang]\n",
        "\n",
        "            for i in tqdm(range(len(self.data))):\n",
        "                row = self.data.iloc[i]\n",
        "                self.label2data[row[label_idx]].append(row[text_idx])\n",
        "            self.aug_prob = aug_prob\n",
        "            self.flip_prob = flip_prob\n",
        "\n",
        "    def __len__(self):\n",
        "        return len(self.data)\n",
        "\n",
        "\n",
        "    def __getitem__(self, index):\n",
        "        if torch.is_tensor(index):\n",
        "            index = index.tolist()\n",
        "\n",
        "        data = self.data.iloc[index]\n",
        "\n",
        "        labels = data[label_idx]\n",
        "        text = data[text_idx]\n",
        "        inputs = tokenizer(text, padding='max_length', truncation=True, max_length=MAX_SEQ_LEN)\n",
        "        # print(inputs)\n",
        "        input_ids = inputs['input_ids']\n",
        "        token_type_ids = np.zeros(MAX_SEQ_LEN)#inputs['token_type_ids']#\n",
        "        attn_mask = inputs['attention_mask']\n",
        "\n",
        "        aug_text = text\n",
        "        labels_aug = labels\n",
        "\n",
        "        if self.split == 'train' and labels == 1:\n",
        "            if np.random.uniform() < self.aug_prob:\n",
        "                aug_text = np.random.choice(self.label2data[0])\n",
        "\n",
        "                if np.random.uniform() < self.flip_prob:\n",
        "                    aug_text = aug_text + \" [SEP] \" + text\n",
        "                else:\n",
        "                    aug_text = text + \" [SEP] \" + aug_text\n",
        "            labels_aug = 1\n",
        "\n",
        "        inputs_aug = tokenizer(aug_text, padding='max_length', truncation=True, max_length=MAX_SEQ_LEN)\n",
        "        # print(inputs)\n",
        "        input_ids_aug = inputs_aug['input_ids']\n",
        "        token_type_ids_aug = np.zeros(MAX_SEQ_LEN)#inputs_aug['token_type_ids']#\n",
        "        attn_mask_aug = inputs_aug['attention_mask']\n",
        "\n",
        "        input_ids = torch.tensor(np.vstack([input_ids, input_ids_aug]), dtype=torch.long).view(2, MAX_SEQ_LEN)\n",
        "        token_type_ids = torch.tensor(np.vstack([token_type_ids, token_type_ids_aug]), dtype=torch.long).view(2, MAX_SEQ_LEN)\n",
        "        attn_mask = torch.tensor(np.vstack([attn_mask, attn_mask_aug]), dtype=torch.long).view(2, MAX_SEQ_LEN)\n",
        "        labels = torch.tensor(np.vstack([labels, labels_aug]), dtype=torch.long).view(2)\n",
        "\n",
        "\n",
        "        return input_ids, attn_mask, token_type_ids, labels\n",
        "\n",
        "\n",
        "# train_data = HateData(data_path=\"/home/jupyter/data/implicit-hate-corpus/\", lang='latent')\n",
        "# dataload = DataLoader(train_data, batch_size=4)\n",
        "\n",
        "# for i in (dataload):\n",
        "#     print(i[0].shape)\n",
        "#     print(i[1].shape)\n",
        "#     print(i[2].shape)\n",
        "#     print(i[3].shape)\n",
        "#     break\n",
        "\n",
        "\n"
      ]
    },
    {
      "cell_type": "code",
      "execution_count": 11,
      "id": "cf8548d8-c91b-4ccf-a518-0635f05579ef",
      "metadata": {
        "id": "cf8548d8-c91b-4ccf-a518-0635f05579ef"
      },
      "outputs": [],
      "source": [
        "class Classifier(nn.Module):\n",
        "    def __init__(self):\n",
        "        super(Classifier, self).__init__()\n",
        "\n",
        "        H1, H2, num_class = 768, 128, 3\n",
        "        self.bert = AutoModel.from_pretrained(model_list[model_choice])\n",
        "\n",
        "        # for param in self.bert.parameters():\n",
        "        #     param.requires_grad = False\n",
        "\n",
        "        self.clf = nn.Sequential(\n",
        "            nn.Linear(H1, H2),\n",
        "            nn.ReLU(),\n",
        "            nn.Linear(H2, H2),\n",
        "            nn.ReLU(),\n",
        "            nn.Linear(H2, num_class)\n",
        "        )\n",
        "\n",
        "\n",
        "    def forward(self, input_ids, attn_mask, token_type_ids):\n",
        "        outputs = self.bert(input_ids, attn_mask)#, token_type_ids)\n",
        "        cls_emb = outputs.pooler_output # (batch, 768)\n",
        "        logits = self.clf(cls_emb) # (batch, num_class)\n",
        "        return logits\n"
      ]
    },
    {
      "cell_type": "code",
      "execution_count": 12,
      "id": "b9bbaa46-9b44-49af-bb49-124e9af439ba",
      "metadata": {
        "id": "b9bbaa46-9b44-49af-bb49-124e9af439ba"
      },
      "outputs": [],
      "source": [
        "loss_fn = nn.CrossEntropyLoss()#"
      ]
    },
    {
      "cell_type": "code",
      "execution_count": 13,
      "id": "9a4d0548-5e3d-4279-ad0b-1d9d566d3f90",
      "metadata": {
        "id": "9a4d0548-5e3d-4279-ad0b-1d9d566d3f90"
      },
      "outputs": [],
      "source": [
        "def train(input_ids, attn_mask, token_type_ids, label, model, model_opt, scdl):\n",
        "\n",
        "    model_opt.zero_grad()\n",
        "\n",
        "    batch_size = input_ids.shape[0]\n",
        "    seq_len = input_ids.shape[1]\n",
        "\n",
        "    loss = 0.0\n",
        "\n",
        "    if use_cuda:\n",
        "        input_ids = input_ids.to(device)\n",
        "        attn_mask = attn_mask.to(device)\n",
        "        token_type_ids = token_type_ids.to(device)\n",
        "        label = label.to(device)\n",
        "\n",
        "    # label = label.flatten()\n",
        "\n",
        "    logits = model(input_ids[:,0,:], attn_mask[:,0,:], token_type_ids[:,0,:])\n",
        "    logits_aug = model(input_ids[:,1,:], attn_mask[:,1,:], token_type_ids[:,1,:])\n",
        "\n",
        "    loss = loss_fn(logits, label[:,0]) + loss_fn(logits_aug, label[:,1])\n",
        "\n",
        "    # if torch.isnan(loss):\n",
        "    #     pass\n",
        "    # else:\n",
        "    loss.backward()\n",
        "    # torch.nn.utils.clip_grad_norm_(model.parameters(), 1.0) # clip gradients to prevent exploding\n",
        "    model_opt.step()\n",
        "    scdl.step()\n",
        "    # print(loss)\n",
        "    return float(loss.item())\n",
        "\n"
      ]
    },
    {
      "cell_type": "code",
      "execution_count": 14,
      "id": "9ad57855-ee8b-448e-9c03-0049d81db476",
      "metadata": {
        "id": "9ad57855-ee8b-448e-9c03-0049d81db476"
      },
      "outputs": [],
      "source": [
        "def evaluate(input_ids, attn_mask, token_type_ids, label, model, mode='train'):\n",
        "\n",
        "    batch_size = input_ids.shape[0]\n",
        "    seq_len = input_ids.shape[1]\n",
        "\n",
        "\n",
        "    with torch.no_grad():\n",
        "        if use_cuda:\n",
        "            input_ids = input_ids.to(device)\n",
        "            attn_mask = attn_mask.to(device)\n",
        "            token_type_ids = token_type_ids.to(device)\n",
        "            label = label.to(device)\n",
        "\n",
        "        # label = label.flatten()\n",
        "\n",
        "        logits = model(input_ids[:,0,:], attn_mask[:,0,:], token_type_ids[:,0,:])\n",
        "        loss = loss_fn(logits, label[:,0])\n",
        "\n",
        "        if mode == 'train':\n",
        "            return float(loss.item())\n",
        "\n",
        "        preds = torch.argmax(logits, dim=1).flatten()\n",
        "        # acc = (preds == label).cpu().numpy().mean() * 100\n",
        "\n",
        "        return float(loss.item()), preds.cpu().numpy()\n",
        "\n",
        "\n"
      ]
    },
    {
      "cell_type": "code",
      "source": [
        "df_test = pd.read_csv(\"/content/drive/MyDrive/data_efficient_hatedetect/data/multilingual/test_hx_modified.tsv\", sep='\\t', lineterminator='\\n')\n",
        "gt_labels = np.array(df_test['label'])"
      ],
      "metadata": {
        "id": "QFXbb5WOvV_N"
      },
      "id": "QFXbb5WOvV_N",
      "execution_count": 15,
      "outputs": []
    },
    {
      "cell_type": "code",
      "source": [
        "len(gt_labels)"
      ],
      "metadata": {
        "colab": {
          "base_uri": "https://localhost:8080/"
        },
        "id": "DLd1miwzvZ-a",
        "outputId": "781934aa-1f52-4610-acb4-bc44fe035ef9"
      },
      "id": "DLd1miwzvZ-a",
      "execution_count": 16,
      "outputs": [
        {
          "output_type": "execute_result",
          "data": {
            "text/plain": [
              "500"
            ]
          },
          "metadata": {},
          "execution_count": 16
        }
      ]
    },
    {
      "cell_type": "code",
      "execution_count": 17,
      "id": "dabe9a9f-e8a6-4712-bf00-ae5d75d16bd5",
      "metadata": {
        "id": "dabe9a9f-e8a6-4712-bf00-ae5d75d16bd5"
      },
      "outputs": [],
      "source": [
        "def trainIters(model, epochs, train_loader, test_loader, learning_rate=3e-5, log_step=30, valid_step=30, mode='train'):\n",
        "\n",
        "    model_opt = AdamW(model.parameters(), lr=learning_rate, eps=1e-8)\n",
        "    num_train_steps = (len(train_loader)*epochs)\n",
        "    scdl = get_linear_schedule_with_warmup(model_opt, num_warmup_steps=int(0.1*num_train_steps), num_training_steps=num_train_steps)\n",
        "\n",
        "    print(\"Initialised optimizer and lr scheduler\")\n",
        "\n",
        "    # valid_best_loss = []\n",
        "    best_acc = 0.0\n",
        "    tot = len(train_data) // train_loader.batch_size\n",
        "    tot_val = len(val_data) // test_loader.batch_size\n",
        "    plot_steps = 0\n",
        "\n",
        "    for epoch in range(epochs):\n",
        "        train_loss_total = 0.0\n",
        "        train_step = 0\n",
        "        # Training\n",
        "\n",
        "        model.train()\n",
        "        for entry in tqdm(train_loader, total=tot, position=0, leave=True):\n",
        "            loss = train(entry[0], entry[1], entry[2], entry[3], model, model_opt, scdl)\n",
        "            plot_steps += 1\n",
        "            train_step += 1\n",
        "            # if not math.isnan(loss) :\n",
        "            train_loss_total = train_loss_total + loss\n",
        "\n",
        "            train_loss = train_loss_total / train_step\n",
        "\n",
        "            if plot_steps % log_step == 0:\n",
        "                writer.add_scalar(\"Train Loss\", train_loss, plot_steps)\n",
        "\n",
        "            if (plot_steps % valid_step == 0) or (plot_steps >= num_train_steps - 1):\n",
        "                model.eval()\n",
        "                test_pred = []\n",
        "\n",
        "                for entry in tqdm(test_loader, total=tot_val, position=0, leave=True):\n",
        "                    loss_v, pred_v = evaluate(entry[0], entry[1], entry[2], entry[3], model, mode='test')\n",
        "                    # if not math.isnan(loss) :\n",
        "                    test_pred.extend([pd for pd in pred_v])\n",
        "\n",
        "                # val_acc = (test_pred == gt_labels).mean().item()\n",
        "                val_acc = f1_score(gt_labels, test_pred, average='macro')\n",
        "                print(\"Validation F1: \" + str(val_acc))\n",
        "                writer.add_scalar(\"Val F1\", val_acc, plot_steps)\n",
        "\n",
        "\n",
        "                #   Save best model\n",
        "                # state = {\n",
        "                #         'epoch': epoch,\n",
        "                #         'state_dict': model.state_dict(),\n",
        "                #         'optimizer': model_opt.state_dict(),\n",
        "                #         'loss': train_loss,\n",
        "                #         'scheduler': scdl.state_dict(),\n",
        "                # }\n",
        "\n",
        "\n",
        "                if val_acc > best_acc:\n",
        "                    torch.save(model.state_dict(), model_path + \"model_\" + base_model + \"_\" + lang + \"_easymix_mono_redo\" + \".pth\")\n",
        "                    print(\"Model saved for step: \" + str(plot_steps))\n",
        "                    best_acc = val_acc\n",
        "\n",
        "                model.train()\n",
        "            writer.flush()\n",
        "\n",
        "\n",
        "        print('epoch: '+str(epoch))\n",
        "        print('total loss: '+str(train_loss_total/tot))\n",
        "\n",
        "        # wr_train = open(results_path + \"train_loss_\" + base_model + \".txt\", \"a\")\n",
        "        # wr_train.write(\"epoch \" + str(epoch) + \": \" + str(train_loss_total/tot) + \"\\n\")\n",
        "        # wr_train.close()\n",
        "\n",
        "\n"
      ]
    },
    {
      "cell_type": "markdown",
      "source": [
        "##For EasyMix Tech\n"
      ],
      "metadata": {
        "id": "s8Q_D7HcfyKU"
      },
      "id": "s8Q_D7HcfyKU"
    },
    {
      "cell_type": "code",
      "execution_count": 18,
      "id": "ed2a7f13-faa6-4e64-857e-4b47eea70546",
      "metadata": {
        "colab": {
          "base_uri": "https://localhost:8080/"
        },
        "id": "ed2a7f13-faa6-4e64-857e-4b47eea70546",
        "outputId": "b7922bf2-34f6-407f-cb03-729ad315bbe9"
      },
      "outputs": [
        {
          "output_type": "stream",
          "name": "stderr",
          "text": [
            "100%|██████████| 15383/15383 [00:03<00:00, 4874.77it/s]\n"
          ]
        }
      ],
      "source": [
        "train_data = HateData(data_path=\"/content/drive/MyDrive/data_efficient_hatedetect/data/multilingual/\", split='train', lang=lang)\n",
        "val_data = HateData(data_path=\"/content/drive/MyDrive/data_efficient_hatedetect/data/multilingual/\", split='test', lang=lang)"
      ]
    },
    {
      "cell_type": "code",
      "execution_count": 19,
      "id": "c0410c5b-dd55-4523-9ce0-247538308727",
      "metadata": {
        "id": "c0410c5b-dd55-4523-9ce0-247538308727"
      },
      "outputs": [],
      "source": [
        "BS = 16\n",
        "# weights = [1.0]*15383\n",
        "# weights.extend([0.5]*(len(train_data) - 15383))\n",
        "# sampler = WeightedRandomSampler(weights, num_samples=20000)\n",
        "\n",
        "dataload = DataLoader(train_data, batch_size=BS, shuffle=True)\n",
        "dataload_val = DataLoader(val_data, batch_size=BS, shuffle=False)"
      ]
    },
    {
      "cell_type": "code",
      "execution_count": 20,
      "id": "552520b0-9b62-440a-b8db-5e8468514759",
      "metadata": {
        "colab": {
          "base_uri": "https://localhost:8080/"
        },
        "id": "552520b0-9b62-440a-b8db-5e8468514759",
        "outputId": "e323ef97-daf5-471d-c089-742d6734cd8d"
      },
      "outputs": [
        {
          "output_type": "execute_result",
          "data": {
            "text/plain": [
              "480.0"
            ]
          },
          "metadata": {},
          "execution_count": 20
        }
      ],
      "source": [
        "(len(train_data)/16)//2"
      ]
    },
    {
      "cell_type": "code",
      "execution_count": 21,
      "id": "47dbc8a3-d7fc-4ab9-8b82-ea95cac708d3",
      "metadata": {
        "tags": [],
        "colab": {
          "base_uri": "https://localhost:8080/",
          "height": 104,
          "referenced_widgets": [
            "4747b2e01647468baada64cc0d51088a",
            "2598c56a3ab945df9b4c696a3bdb32c4",
            "7fc9e9a4bb994d2fa4c6bb1ef47f948d",
            "fe0b74415b0a460d9e8714719ee97348",
            "43f99179db0c4982a37806747e3a13c0",
            "5c6f97e6ffcb446ca8db290918dcc5f7",
            "056a79e641c5454ba3e295c82636ed37",
            "539614872040452da8ff4a1aab78cb5a",
            "113b3002631041cbb431bc45386c46b1",
            "267940bc98964711a1a58b0c133864fb",
            "bb1d2172175f48b5ae3c187f33d99d14"
          ]
        },
        "id": "47dbc8a3-d7fc-4ab9-8b82-ea95cac708d3",
        "outputId": "1c35633a-5fdc-4d6d-88c2-f37c89e08407"
      },
      "outputs": [
        {
          "output_type": "display_data",
          "data": {
            "text/plain": [
              "pytorch_model.bin:   0%|          | 0.00/1.11G [00:00<?, ?B/s]"
            ],
            "application/vnd.jupyter.widget-view+json": {
              "version_major": 2,
              "version_minor": 0,
              "model_id": "4747b2e01647468baada64cc0d51088a"
            }
          },
          "metadata": {}
        },
        {
          "output_type": "stream",
          "name": "stderr",
          "text": [
            "Some weights of XLMRobertaModel were not initialized from the model checkpoint at cardiffnlp/twitter-xlm-roberta-base-sentiment and are newly initialized: ['roberta.pooler.dense.bias', 'roberta.pooler.dense.weight']\n",
            "You should probably TRAIN this model on a down-stream task to be able to use it for predictions and inference.\n"
          ]
        }
      ],
      "source": [
        "model = Classifier()\n",
        "model = model.to(device)"
      ]
    },
    {
      "cell_type": "code",
      "execution_count": 22,
      "id": "62b6aaed-5664-4b8f-b2b5-717104c11c16",
      "metadata": {
        "collapsed": true,
        "jupyter": {
          "outputs_hidden": true
        },
        "tags": [],
        "colab": {
          "base_uri": "https://localhost:8080/"
        },
        "id": "62b6aaed-5664-4b8f-b2b5-717104c11c16",
        "outputId": "5b67229f-7528-4378-86bb-ca6ccdce46ac"
      },
      "outputs": [
        {
          "output_type": "stream",
          "name": "stdout",
          "text": [
            "Initialised optimizer and lr scheduler\n"
          ]
        },
        {
          "output_type": "stream",
          "name": "stderr",
          "text": [
            "32it [00:03,  9.37it/s]                        \n"
          ]
        },
        {
          "output_type": "stream",
          "name": "stdout",
          "text": [
            "Validation F1: 0.1698956780923994\n"
          ]
        },
        {
          "output_type": "stream",
          "name": "stderr",
          "text": [
            "\r  3%|▎         | 30/961 [00:53<1:01:30,  3.96s/it]"
          ]
        },
        {
          "output_type": "stream",
          "name": "stdout",
          "text": [
            "Model saved for step: 30\n"
          ]
        },
        {
          "output_type": "stream",
          "name": "stderr",
          "text": [
            "32it [00:03,  9.09it/s]                        \n"
          ]
        },
        {
          "output_type": "stream",
          "name": "stdout",
          "text": [
            "Validation F1: 0.1947990960054005\n"
          ]
        },
        {
          "output_type": "stream",
          "name": "stderr",
          "text": [
            "\r  6%|▌         | 60/961 [01:46<1:01:21,  4.09s/it]"
          ]
        },
        {
          "output_type": "stream",
          "name": "stdout",
          "text": [
            "Model saved for step: 60\n"
          ]
        },
        {
          "output_type": "stream",
          "name": "stderr",
          "text": [
            "32it [00:03,  8.79it/s]                        \n"
          ]
        },
        {
          "output_type": "stream",
          "name": "stdout",
          "text": [
            "Validation F1: 0.40388680425265794\n"
          ]
        },
        {
          "output_type": "stream",
          "name": "stderr",
          "text": [
            "\r  9%|▉         | 90/961 [02:39<57:11,  3.94s/it]"
          ]
        },
        {
          "output_type": "stream",
          "name": "stdout",
          "text": [
            "Model saved for step: 90\n"
          ]
        },
        {
          "output_type": "stream",
          "name": "stderr",
          "text": [
            "32it [00:03,  8.62it/s]                        \n"
          ]
        },
        {
          "output_type": "stream",
          "name": "stdout",
          "text": [
            "Validation F1: 0.43700725103087507\n"
          ]
        },
        {
          "output_type": "stream",
          "name": "stderr",
          "text": [
            "\r 12%|█▏        | 120/961 [03:31<54:49,  3.91s/it]"
          ]
        },
        {
          "output_type": "stream",
          "name": "stdout",
          "text": [
            "Model saved for step: 120\n"
          ]
        },
        {
          "output_type": "stream",
          "name": "stderr",
          "text": [
            "32it [00:03,  8.59it/s]                        \n",
            " 16%|█▌        | 150/961 [04:18<33:57,  2.51s/it]"
          ]
        },
        {
          "output_type": "stream",
          "name": "stdout",
          "text": [
            "Validation F1: 0.4292110874200426\n"
          ]
        },
        {
          "output_type": "stream",
          "name": "stderr",
          "text": [
            "32it [00:03,  8.85it/s]                        \n"
          ]
        },
        {
          "output_type": "stream",
          "name": "stdout",
          "text": [
            "Validation F1: 0.5019354752369577\n"
          ]
        },
        {
          "output_type": "stream",
          "name": "stderr",
          "text": [
            "\r 19%|█▊        | 180/961 [05:15<1:21:34,  6.27s/it]"
          ]
        },
        {
          "output_type": "stream",
          "name": "stdout",
          "text": [
            "Model saved for step: 180\n"
          ]
        },
        {
          "output_type": "stream",
          "name": "stderr",
          "text": [
            "32it [00:03,  8.77it/s]                        \n"
          ]
        },
        {
          "output_type": "stream",
          "name": "stdout",
          "text": [
            "Validation F1: 0.5186561430467277\n"
          ]
        },
        {
          "output_type": "stream",
          "name": "stderr",
          "text": [
            "\r 22%|██▏       | 210/961 [06:12<1:02:04,  4.96s/it]"
          ]
        },
        {
          "output_type": "stream",
          "name": "stdout",
          "text": [
            "Model saved for step: 210\n"
          ]
        },
        {
          "output_type": "stream",
          "name": "stderr",
          "text": [
            "32it [00:03,  8.57it/s]                        \n"
          ]
        },
        {
          "output_type": "stream",
          "name": "stdout",
          "text": [
            "Validation F1: 0.5553990409925869\n"
          ]
        },
        {
          "output_type": "stream",
          "name": "stderr",
          "text": [
            "\r 25%|██▍       | 240/961 [07:04<47:41,  3.97s/it]"
          ]
        },
        {
          "output_type": "stream",
          "name": "stdout",
          "text": [
            "Model saved for step: 240\n"
          ]
        },
        {
          "output_type": "stream",
          "name": "stderr",
          "text": [
            "32it [00:03,  8.91it/s]                        \n"
          ]
        },
        {
          "output_type": "stream",
          "name": "stdout",
          "text": [
            "Validation F1: 0.5814808563310546\n"
          ]
        },
        {
          "output_type": "stream",
          "name": "stderr",
          "text": [
            "\r 28%|██▊       | 270/961 [07:57<47:14,  4.10s/it]"
          ]
        },
        {
          "output_type": "stream",
          "name": "stdout",
          "text": [
            "Model saved for step: 270\n"
          ]
        },
        {
          "output_type": "stream",
          "name": "stderr",
          "text": [
            "32it [00:03,  8.89it/s]                        \n",
            " 31%|███       | 300/961 [08:45<26:36,  2.41s/it]"
          ]
        },
        {
          "output_type": "stream",
          "name": "stdout",
          "text": [
            "Validation F1: 0.5161143599740091\n"
          ]
        },
        {
          "output_type": "stream",
          "name": "stderr",
          "text": [
            "32it [00:03,  8.95it/s]                        \n"
          ]
        },
        {
          "output_type": "stream",
          "name": "stdout",
          "text": [
            "Validation F1: 0.5907278096230676\n"
          ]
        },
        {
          "output_type": "stream",
          "name": "stderr",
          "text": [
            "\r 34%|███▍      | 330/961 [09:36<43:03,  4.09s/it]"
          ]
        },
        {
          "output_type": "stream",
          "name": "stdout",
          "text": [
            "Model saved for step: 330\n"
          ]
        },
        {
          "output_type": "stream",
          "name": "stderr",
          "text": [
            "32it [00:03,  8.86it/s]                        \n",
            " 37%|███▋      | 360/961 [10:24<24:01,  2.40s/it]"
          ]
        },
        {
          "output_type": "stream",
          "name": "stdout",
          "text": [
            "Validation F1: 0.5819186657294\n"
          ]
        },
        {
          "output_type": "stream",
          "name": "stderr",
          "text": [
            "32it [00:03,  8.92it/s]                        \n"
          ]
        },
        {
          "output_type": "stream",
          "name": "stdout",
          "text": [
            "Validation F1: 0.6120239479548354\n"
          ]
        },
        {
          "output_type": "stream",
          "name": "stderr",
          "text": [
            "\r 41%|████      | 390/961 [11:14<38:29,  4.05s/it]"
          ]
        },
        {
          "output_type": "stream",
          "name": "stdout",
          "text": [
            "Model saved for step: 390\n"
          ]
        },
        {
          "output_type": "stream",
          "name": "stderr",
          "text": [
            "32it [00:03,  8.85it/s]                        \n",
            " 44%|████▎     | 420/961 [12:02<21:17,  2.36s/it]"
          ]
        },
        {
          "output_type": "stream",
          "name": "stdout",
          "text": [
            "Validation F1: 0.6044091721723465\n"
          ]
        },
        {
          "output_type": "stream",
          "name": "stderr",
          "text": [
            "32it [00:03,  8.87it/s]                        \n",
            " 47%|████▋     | 450/961 [12:48<20:42,  2.43s/it]"
          ]
        },
        {
          "output_type": "stream",
          "name": "stdout",
          "text": [
            "Validation F1: 0.5681792065846261\n"
          ]
        },
        {
          "output_type": "stream",
          "name": "stderr",
          "text": [
            "32it [00:03,  8.91it/s]                        \n",
            " 50%|████▉     | 480/961 [13:34<20:47,  2.59s/it]"
          ]
        },
        {
          "output_type": "stream",
          "name": "stdout",
          "text": [
            "Validation F1: 0.6057997057176713\n"
          ]
        },
        {
          "output_type": "stream",
          "name": "stderr",
          "text": [
            "32it [00:03,  8.64it/s]                        \n"
          ]
        },
        {
          "output_type": "stream",
          "name": "stdout",
          "text": [
            "Validation F1: 0.6814147588340131\n"
          ]
        },
        {
          "output_type": "stream",
          "name": "stderr",
          "text": [
            "\r 53%|█████▎    | 510/961 [14:23<30:30,  4.06s/it]"
          ]
        },
        {
          "output_type": "stream",
          "name": "stdout",
          "text": [
            "Model saved for step: 510\n"
          ]
        },
        {
          "output_type": "stream",
          "name": "stderr",
          "text": [
            "32it [00:03,  8.87it/s]                        \n",
            " 56%|█████▌    | 540/961 [15:11<17:56,  2.56s/it]"
          ]
        },
        {
          "output_type": "stream",
          "name": "stdout",
          "text": [
            "Validation F1: 0.6660111733670289\n"
          ]
        },
        {
          "output_type": "stream",
          "name": "stderr",
          "text": [
            "32it [00:03,  8.75it/s]                        \n",
            " 59%|█████▉    | 570/961 [15:57<17:11,  2.64s/it]"
          ]
        },
        {
          "output_type": "stream",
          "name": "stdout",
          "text": [
            "Validation F1: 0.6115037986013595\n"
          ]
        },
        {
          "output_type": "stream",
          "name": "stderr",
          "text": [
            "32it [00:03,  8.56it/s]                        \n"
          ]
        },
        {
          "output_type": "stream",
          "name": "stdout",
          "text": [
            "Validation F1: 0.6842113877855164\n"
          ]
        },
        {
          "output_type": "stream",
          "name": "stderr",
          "text": [
            "\r 62%|██████▏   | 600/961 [16:53<36:24,  6.05s/it]"
          ]
        },
        {
          "output_type": "stream",
          "name": "stdout",
          "text": [
            "Model saved for step: 600\n"
          ]
        },
        {
          "output_type": "stream",
          "name": "stderr",
          "text": [
            "32it [00:03,  8.81it/s]                        \n"
          ]
        },
        {
          "output_type": "stream",
          "name": "stdout",
          "text": [
            "Validation F1: 0.6886044359375609\n"
          ]
        },
        {
          "output_type": "stream",
          "name": "stderr",
          "text": [
            "\r 66%|██████▌   | 630/961 [17:47<21:40,  3.93s/it]"
          ]
        },
        {
          "output_type": "stream",
          "name": "stdout",
          "text": [
            "Model saved for step: 630\n"
          ]
        },
        {
          "output_type": "stream",
          "name": "stderr",
          "text": [
            "32it [00:03,  8.64it/s]                        \n",
            " 69%|██████▊   | 660/961 [18:34<11:55,  2.38s/it]"
          ]
        },
        {
          "output_type": "stream",
          "name": "stdout",
          "text": [
            "Validation F1: 0.6560644827823049\n"
          ]
        },
        {
          "output_type": "stream",
          "name": "stderr",
          "text": [
            "32it [00:03,  8.94it/s]                        \n",
            " 72%|███████▏  | 690/961 [19:19<10:46,  2.39s/it]"
          ]
        },
        {
          "output_type": "stream",
          "name": "stdout",
          "text": [
            "Validation F1: 0.6861321148917687\n"
          ]
        },
        {
          "output_type": "stream",
          "name": "stderr",
          "text": [
            "32it [00:03,  8.87it/s]                        \n"
          ]
        },
        {
          "output_type": "stream",
          "name": "stdout",
          "text": [
            "Validation F1: 0.691268256849019\n"
          ]
        },
        {
          "output_type": "stream",
          "name": "stderr",
          "text": [
            "\r 75%|███████▍  | 720/961 [20:10<16:00,  3.99s/it]"
          ]
        },
        {
          "output_type": "stream",
          "name": "stdout",
          "text": [
            "Model saved for step: 720\n"
          ]
        },
        {
          "output_type": "stream",
          "name": "stderr",
          "text": [
            "32it [00:03,  8.51it/s]                        \n"
          ]
        },
        {
          "output_type": "stream",
          "name": "stdout",
          "text": [
            "Validation F1: 0.717395426387942\n"
          ]
        },
        {
          "output_type": "stream",
          "name": "stderr",
          "text": [
            "\r 78%|███████▊  | 750/961 [21:09<14:14,  4.05s/it]"
          ]
        },
        {
          "output_type": "stream",
          "name": "stdout",
          "text": [
            "Model saved for step: 750\n"
          ]
        },
        {
          "output_type": "stream",
          "name": "stderr",
          "text": [
            "32it [00:03,  8.74it/s]                        \n",
            " 81%|████████  | 780/961 [21:57<07:56,  2.63s/it]"
          ]
        },
        {
          "output_type": "stream",
          "name": "stdout",
          "text": [
            "Validation F1: 0.7098869850970692\n"
          ]
        },
        {
          "output_type": "stream",
          "name": "stderr",
          "text": [
            "32it [00:03,  8.55it/s]                        \n"
          ]
        },
        {
          "output_type": "stream",
          "name": "stdout",
          "text": [
            "Validation F1: 0.7241524564816014\n"
          ]
        },
        {
          "output_type": "stream",
          "name": "stderr",
          "text": [
            "\r 84%|████████▍ | 810/961 [22:47<10:01,  3.98s/it]"
          ]
        },
        {
          "output_type": "stream",
          "name": "stdout",
          "text": [
            "Model saved for step: 810\n"
          ]
        },
        {
          "output_type": "stream",
          "name": "stderr",
          "text": [
            "32it [00:03,  8.80it/s]                        \n",
            " 87%|████████▋ | 840/961 [23:41<05:02,  2.50s/it]"
          ]
        },
        {
          "output_type": "stream",
          "name": "stdout",
          "text": [
            "Validation F1: 0.662243234787662\n"
          ]
        },
        {
          "output_type": "stream",
          "name": "stderr",
          "text": [
            "32it [00:03,  8.77it/s]                        \n"
          ]
        },
        {
          "output_type": "stream",
          "name": "stdout",
          "text": [
            "Validation F1: 0.736126392126392\n"
          ]
        },
        {
          "output_type": "stream",
          "name": "stderr",
          "text": [
            "\r 91%|█████████ | 870/961 [24:40<06:05,  4.02s/it]"
          ]
        },
        {
          "output_type": "stream",
          "name": "stdout",
          "text": [
            "Model saved for step: 870\n"
          ]
        },
        {
          "output_type": "stream",
          "name": "stderr",
          "text": [
            "32it [00:04,  7.67it/s]                        \n",
            " 94%|█████████▎| 900/961 [25:39<02:39,  2.62s/it]"
          ]
        },
        {
          "output_type": "stream",
          "name": "stdout",
          "text": [
            "Validation F1: 0.7017344770484444\n"
          ]
        },
        {
          "output_type": "stream",
          "name": "stderr",
          "text": [
            "32it [00:04,  7.60it/s]                        \n",
            " 97%|█████████▋| 930/961 [26:57<01:57,  3.78s/it]"
          ]
        },
        {
          "output_type": "stream",
          "name": "stdout",
          "text": [
            "Validation F1: 0.690442039518015\n"
          ]
        },
        {
          "output_type": "stream",
          "name": "stderr",
          "text": [
            "32it [00:03,  8.57it/s]                        \n",
            "100%|█████████▉| 960/961 [27:44<00:02,  2.46s/it]"
          ]
        },
        {
          "output_type": "stream",
          "name": "stdout",
          "text": [
            "Validation F1: 0.6551435548220351\n"
          ]
        },
        {
          "output_type": "stream",
          "name": "stderr",
          "text": [
            "962it [27:47,  1.73s/it]\n"
          ]
        },
        {
          "output_type": "stream",
          "name": "stdout",
          "text": [
            "epoch: 0\n",
            "total loss: 1.7104706412547586\n"
          ]
        },
        {
          "output_type": "stream",
          "name": "stderr",
          "text": [
            "32it [00:03,  8.13it/s]                        \n",
            "  3%|▎         | 28/961 [00:43<39:52,  2.56s/it]"
          ]
        },
        {
          "output_type": "stream",
          "name": "stdout",
          "text": [
            "Validation F1: 0.7042894570532762\n"
          ]
        },
        {
          "output_type": "stream",
          "name": "stderr",
          "text": [
            "32it [00:03,  8.87it/s]                        \n"
          ]
        },
        {
          "output_type": "stream",
          "name": "stdout",
          "text": [
            "Validation F1: 0.7472490093925517\n"
          ]
        },
        {
          "output_type": "stream",
          "name": "stderr",
          "text": [
            "\r  6%|▌         | 58/961 [01:33<59:39,  3.96s/it]"
          ]
        },
        {
          "output_type": "stream",
          "name": "stdout",
          "text": [
            "Model saved for step: 1020\n"
          ]
        },
        {
          "output_type": "stream",
          "name": "stderr",
          "text": [
            "32it [00:03,  8.73it/s]                        \n"
          ]
        },
        {
          "output_type": "stream",
          "name": "stdout",
          "text": [
            "Validation F1: 0.7506035281877536\n"
          ]
        },
        {
          "output_type": "stream",
          "name": "stderr",
          "text": [
            "\r  9%|▉         | 88/961 [02:26<58:11,  4.00s/it]"
          ]
        },
        {
          "output_type": "stream",
          "name": "stdout",
          "text": [
            "Model saved for step: 1050\n"
          ]
        },
        {
          "output_type": "stream",
          "name": "stderr",
          "text": [
            "32it [00:04,  7.91it/s]                        \n",
            " 12%|█▏        | 118/961 [03:14<35:53,  2.55s/it]"
          ]
        },
        {
          "output_type": "stream",
          "name": "stdout",
          "text": [
            "Validation F1: 0.7142282270908202\n"
          ]
        },
        {
          "output_type": "stream",
          "name": "stderr",
          "text": [
            "32it [00:03,  8.58it/s]                        \n",
            " 15%|█▌        | 148/961 [04:00<32:00,  2.36s/it]"
          ]
        },
        {
          "output_type": "stream",
          "name": "stdout",
          "text": [
            "Validation F1: 0.6756209356208122\n"
          ]
        },
        {
          "output_type": "stream",
          "name": "stderr",
          "text": [
            "32it [00:03,  8.92it/s]                        \n",
            " 19%|█▊        | 178/961 [04:45<30:57,  2.37s/it]"
          ]
        },
        {
          "output_type": "stream",
          "name": "stdout",
          "text": [
            "Validation F1: 0.6956024920816378\n"
          ]
        },
        {
          "output_type": "stream",
          "name": "stderr",
          "text": [
            "32it [00:03,  8.69it/s]                        \n",
            " 22%|██▏       | 208/961 [05:52<41:48,  3.33s/it]"
          ]
        },
        {
          "output_type": "stream",
          "name": "stdout",
          "text": [
            "Validation F1: 0.7320468060799552\n"
          ]
        },
        {
          "output_type": "stream",
          "name": "stderr",
          "text": [
            "32it [00:03,  8.66it/s]                        \n",
            " 25%|██▍       | 238/961 [06:46<28:25,  2.36s/it]"
          ]
        },
        {
          "output_type": "stream",
          "name": "stdout",
          "text": [
            "Validation F1: 0.7302157900197116\n"
          ]
        },
        {
          "output_type": "stream",
          "name": "stderr",
          "text": [
            "32it [00:03,  8.64it/s]                        \n",
            " 28%|██▊       | 268/961 [07:35<27:21,  2.37s/it]"
          ]
        },
        {
          "output_type": "stream",
          "name": "stdout",
          "text": [
            "Validation F1: 0.7460274147540321\n"
          ]
        },
        {
          "output_type": "stream",
          "name": "stderr",
          "text": [
            "32it [00:03,  8.98it/s]                        \n"
          ]
        },
        {
          "output_type": "stream",
          "name": "stdout",
          "text": [
            "Validation F1: 0.7584755715903256\n"
          ]
        },
        {
          "output_type": "stream",
          "name": "stderr",
          "text": [
            "\r 31%|███       | 298/961 [08:25<44:25,  4.02s/it]"
          ]
        },
        {
          "output_type": "stream",
          "name": "stdout",
          "text": [
            "Model saved for step: 1260\n"
          ]
        },
        {
          "output_type": "stream",
          "name": "stderr",
          "text": [
            "32it [00:03,  8.72it/s]                        \n",
            " 34%|███▍      | 328/961 [09:20<28:07,  2.67s/it]"
          ]
        },
        {
          "output_type": "stream",
          "name": "stdout",
          "text": [
            "Validation F1: 0.7244426592568525\n"
          ]
        },
        {
          "output_type": "stream",
          "name": "stderr",
          "text": [
            "32it [00:03,  8.64it/s]                        \n",
            " 37%|███▋      | 358/961 [10:04<24:00,  2.39s/it]"
          ]
        },
        {
          "output_type": "stream",
          "name": "stdout",
          "text": [
            "Validation F1: 0.7522658163977369\n"
          ]
        },
        {
          "output_type": "stream",
          "name": "stderr",
          "text": [
            "32it [00:03,  8.90it/s]                        \n",
            " 40%|████      | 388/961 [10:59<26:51,  2.81s/it]"
          ]
        },
        {
          "output_type": "stream",
          "name": "stdout",
          "text": [
            "Validation F1: 0.7330133231877012\n"
          ]
        },
        {
          "output_type": "stream",
          "name": "stderr",
          "text": [
            "32it [00:03,  8.80it/s]                        \n",
            " 43%|████▎     | 418/961 [11:55<21:50,  2.41s/it]"
          ]
        },
        {
          "output_type": "stream",
          "name": "stdout",
          "text": [
            "Validation F1: 0.7413964255140725\n"
          ]
        },
        {
          "output_type": "stream",
          "name": "stderr",
          "text": [
            "32it [00:04,  7.70it/s]                        \n",
            " 47%|████▋     | 448/961 [12:54<30:05,  3.52s/it]"
          ]
        },
        {
          "output_type": "stream",
          "name": "stdout",
          "text": [
            "Validation F1: 0.7124688668969034\n"
          ]
        },
        {
          "output_type": "stream",
          "name": "stderr",
          "text": [
            "32it [00:04,  7.55it/s]                        \n"
          ]
        },
        {
          "output_type": "stream",
          "name": "stdout",
          "text": [
            "Validation F1: 0.7977687778176102\n"
          ]
        },
        {
          "output_type": "stream",
          "name": "stderr",
          "text": [
            "\r 50%|████▉     | 478/961 [14:05<39:59,  4.97s/it]"
          ]
        },
        {
          "output_type": "stream",
          "name": "stdout",
          "text": [
            "Model saved for step: 1440\n"
          ]
        },
        {
          "output_type": "stream",
          "name": "stderr",
          "text": [
            "32it [00:03,  8.85it/s]                        \n",
            " 53%|█████▎    | 508/961 [14:55<21:09,  2.80s/it]"
          ]
        },
        {
          "output_type": "stream",
          "name": "stdout",
          "text": [
            "Validation F1: 0.7864068488819146\n"
          ]
        },
        {
          "output_type": "stream",
          "name": "stderr",
          "text": [
            "32it [00:03,  8.01it/s]                        \n"
          ]
        },
        {
          "output_type": "stream",
          "name": "stdout",
          "text": [
            "Validation F1: 0.7978828852140448\n"
          ]
        },
        {
          "output_type": "stream",
          "name": "stderr",
          "text": [
            "\r 56%|█████▌    | 538/961 [16:05<37:51,  5.37s/it]"
          ]
        },
        {
          "output_type": "stream",
          "name": "stdout",
          "text": [
            "Model saved for step: 1500\n"
          ]
        },
        {
          "output_type": "stream",
          "name": "stderr",
          "text": [
            "32it [00:04,  7.68it/s]                        \n",
            " 59%|█████▉    | 568/961 [17:04<19:58,  3.05s/it]"
          ]
        },
        {
          "output_type": "stream",
          "name": "stdout",
          "text": [
            "Validation F1: 0.733993687680289\n"
          ]
        },
        {
          "output_type": "stream",
          "name": "stderr",
          "text": [
            "32it [00:03,  8.45it/s]                        \n",
            " 62%|██████▏   | 598/961 [18:05<15:30,  2.56s/it]"
          ]
        },
        {
          "output_type": "stream",
          "name": "stdout",
          "text": [
            "Validation F1: 0.7674930988274317\n"
          ]
        },
        {
          "output_type": "stream",
          "name": "stderr",
          "text": [
            "32it [00:04,  7.98it/s]                        \n",
            " 65%|██████▌   | 628/961 [19:00<14:24,  2.60s/it]"
          ]
        },
        {
          "output_type": "stream",
          "name": "stdout",
          "text": [
            "Validation F1: 0.7507883590193463\n"
          ]
        },
        {
          "output_type": "stream",
          "name": "stderr",
          "text": [
            "32it [00:03,  8.49it/s]                        \n",
            " 68%|██████▊   | 658/961 [19:59<14:52,  2.95s/it]"
          ]
        },
        {
          "output_type": "stream",
          "name": "stdout",
          "text": [
            "Validation F1: 0.7675774868710993\n"
          ]
        },
        {
          "output_type": "stream",
          "name": "stderr",
          "text": [
            "32it [00:04,  7.92it/s]                        \n",
            " 72%|███████▏  | 688/961 [20:58<14:16,  3.14s/it]"
          ]
        },
        {
          "output_type": "stream",
          "name": "stdout",
          "text": [
            "Validation F1: 0.7546810357801004\n"
          ]
        },
        {
          "output_type": "stream",
          "name": "stderr",
          "text": [
            "32it [00:03,  8.57it/s]                        \n",
            " 75%|███████▍  | 718/961 [21:45<09:35,  2.37s/it]"
          ]
        },
        {
          "output_type": "stream",
          "name": "stdout",
          "text": [
            "Validation F1: 0.7838586101975767\n"
          ]
        },
        {
          "output_type": "stream",
          "name": "stderr",
          "text": [
            "32it [00:03,  8.89it/s]                        \n",
            " 78%|███████▊  | 748/961 [22:29<08:17,  2.34s/it]"
          ]
        },
        {
          "output_type": "stream",
          "name": "stdout",
          "text": [
            "Validation F1: 0.7685732020927553\n"
          ]
        },
        {
          "output_type": "stream",
          "name": "stderr",
          "text": [
            "32it [00:03,  8.93it/s]                        \n",
            " 81%|████████  | 778/961 [23:14<07:18,  2.40s/it]"
          ]
        },
        {
          "output_type": "stream",
          "name": "stdout",
          "text": [
            "Validation F1: 0.7670070725992898\n"
          ]
        },
        {
          "output_type": "stream",
          "name": "stderr",
          "text": [
            "32it [00:03,  8.76it/s]                        \n",
            " 84%|████████▍ | 808/961 [24:07<05:59,  2.35s/it]"
          ]
        },
        {
          "output_type": "stream",
          "name": "stdout",
          "text": [
            "Validation F1: 0.7707933046246658\n"
          ]
        },
        {
          "output_type": "stream",
          "name": "stderr",
          "text": [
            "32it [00:03,  8.94it/s]                        \n",
            " 87%|████████▋ | 838/961 [24:52<04:55,  2.40s/it]"
          ]
        },
        {
          "output_type": "stream",
          "name": "stdout",
          "text": [
            "Validation F1: 0.7936889041330817\n"
          ]
        },
        {
          "output_type": "stream",
          "name": "stderr",
          "text": [
            "32it [00:03,  8.90it/s]                        \n",
            " 90%|█████████ | 868/961 [25:38<03:52,  2.50s/it]"
          ]
        },
        {
          "output_type": "stream",
          "name": "stdout",
          "text": [
            "Validation F1: 0.7824246423208617\n"
          ]
        },
        {
          "output_type": "stream",
          "name": "stderr",
          "text": [
            "32it [00:03,  8.79it/s]                        \n",
            " 93%|█████████▎| 898/961 [26:24<02:46,  2.64s/it]"
          ]
        },
        {
          "output_type": "stream",
          "name": "stdout",
          "text": [
            "Validation F1: 0.7731092846690141\n"
          ]
        },
        {
          "output_type": "stream",
          "name": "stderr",
          "text": [
            "32it [00:03,  8.61it/s]                        \n"
          ]
        },
        {
          "output_type": "stream",
          "name": "stdout",
          "text": [
            "Validation F1: 0.8017658614581844\n"
          ]
        },
        {
          "output_type": "stream",
          "name": "stderr",
          "text": [
            "\r 97%|█████████▋| 928/961 [27:15<02:23,  4.36s/it]"
          ]
        },
        {
          "output_type": "stream",
          "name": "stdout",
          "text": [
            "Model saved for step: 1890\n"
          ]
        },
        {
          "output_type": "stream",
          "name": "stderr",
          "text": [
            "32it [00:03,  8.83it/s]                        \n"
          ]
        },
        {
          "output_type": "stream",
          "name": "stdout",
          "text": [
            "Validation F1: 0.8065496047310772\n"
          ]
        },
        {
          "output_type": "stream",
          "name": "stderr",
          "text": [
            "\r100%|█████████▉| 958/961 [28:08<00:12,  4.14s/it]"
          ]
        },
        {
          "output_type": "stream",
          "name": "stdout",
          "text": [
            "Model saved for step: 1920\n"
          ]
        },
        {
          "output_type": "stream",
          "name": "stderr",
          "text": [
            "962it [28:15,  1.76s/it]\n"
          ]
        },
        {
          "output_type": "stream",
          "name": "stdout",
          "text": [
            "epoch: 1\n",
            "total loss: 1.283541322684809\n"
          ]
        },
        {
          "output_type": "stream",
          "name": "stderr",
          "text": [
            "32it [00:03,  8.82it/s]                        \n",
            "  3%|▎         | 26/961 [00:41<37:30,  2.41s/it]"
          ]
        },
        {
          "output_type": "stream",
          "name": "stdout",
          "text": [
            "Validation F1: 0.7879079710065625\n"
          ]
        },
        {
          "output_type": "stream",
          "name": "stderr",
          "text": [
            "32it [00:03,  8.86it/s]                        \n",
            "  6%|▌         | 56/961 [01:27<37:20,  2.48s/it]"
          ]
        },
        {
          "output_type": "stream",
          "name": "stdout",
          "text": [
            "Validation F1: 0.7863125907960397\n"
          ]
        },
        {
          "output_type": "stream",
          "name": "stderr",
          "text": [
            "32it [00:03,  8.84it/s]                        \n"
          ]
        },
        {
          "output_type": "stream",
          "name": "stdout",
          "text": [
            "Validation F1: 0.8143440687979394\n"
          ]
        },
        {
          "output_type": "stream",
          "name": "stderr",
          "text": [
            "\r  9%|▉         | 86/961 [02:18<1:01:05,  4.19s/it]"
          ]
        },
        {
          "output_type": "stream",
          "name": "stdout",
          "text": [
            "Model saved for step: 2010\n"
          ]
        },
        {
          "output_type": "stream",
          "name": "stderr",
          "text": [
            "32it [00:03,  8.84it/s]                        \n",
            " 12%|█▏        | 116/961 [03:07<34:19,  2.44s/it]"
          ]
        },
        {
          "output_type": "stream",
          "name": "stdout",
          "text": [
            "Validation F1: 0.7892097566516171\n"
          ]
        },
        {
          "output_type": "stream",
          "name": "stderr",
          "text": [
            "32it [00:03,  8.93it/s]                        \n",
            " 15%|█▌        | 146/961 [03:53<34:40,  2.55s/it]"
          ]
        },
        {
          "output_type": "stream",
          "name": "stdout",
          "text": [
            "Validation F1: 0.7854572114102906\n"
          ]
        },
        {
          "output_type": "stream",
          "name": "stderr",
          "text": [
            "32it [00:03,  8.77it/s]                        \n"
          ]
        },
        {
          "output_type": "stream",
          "name": "stdout",
          "text": [
            "Validation F1: 0.8256628914607012\n"
          ]
        },
        {
          "output_type": "stream",
          "name": "stderr",
          "text": [
            "\r 18%|█▊        | 176/961 [04:50<1:21:30,  6.23s/it]"
          ]
        },
        {
          "output_type": "stream",
          "name": "stdout",
          "text": [
            "Model saved for step: 2100\n"
          ]
        },
        {
          "output_type": "stream",
          "name": "stderr",
          "text": [
            "32it [00:03,  8.48it/s]                        \n"
          ]
        },
        {
          "output_type": "stream",
          "name": "stdout",
          "text": [
            "Validation F1: 0.829275845132082\n"
          ]
        },
        {
          "output_type": "stream",
          "name": "stderr",
          "text": [
            "\r 21%|██▏       | 206/961 [05:43<53:49,  4.28s/it]"
          ]
        },
        {
          "output_type": "stream",
          "name": "stdout",
          "text": [
            "Model saved for step: 2130\n"
          ]
        },
        {
          "output_type": "stream",
          "name": "stderr",
          "text": [
            "32it [00:03,  8.82it/s]                        \n",
            " 25%|██▍       | 236/961 [06:31<32:17,  2.67s/it]"
          ]
        },
        {
          "output_type": "stream",
          "name": "stdout",
          "text": [
            "Validation F1: 0.8193287037037037\n"
          ]
        },
        {
          "output_type": "stream",
          "name": "stderr",
          "text": [
            "32it [00:03,  8.80it/s]                        \n"
          ]
        },
        {
          "output_type": "stream",
          "name": "stdout",
          "text": [
            "Validation F1: 0.844311458709632\n"
          ]
        },
        {
          "output_type": "stream",
          "name": "stderr",
          "text": [
            "\r 28%|██▊       | 266/961 [07:28<45:55,  3.97s/it]"
          ]
        },
        {
          "output_type": "stream",
          "name": "stdout",
          "text": [
            "Model saved for step: 2190\n"
          ]
        },
        {
          "output_type": "stream",
          "name": "stderr",
          "text": [
            "32it [00:03,  8.83it/s]                        \n",
            " 31%|███       | 296/961 [08:16<26:15,  2.37s/it]"
          ]
        },
        {
          "output_type": "stream",
          "name": "stdout",
          "text": [
            "Validation F1: 0.8366549444008943\n"
          ]
        },
        {
          "output_type": "stream",
          "name": "stderr",
          "text": [
            "32it [00:03,  8.38it/s]                        \n",
            " 34%|███▍      | 326/961 [09:02<27:27,  2.59s/it]"
          ]
        },
        {
          "output_type": "stream",
          "name": "stdout",
          "text": [
            "Validation F1: 0.8291208972004883\n"
          ]
        },
        {
          "output_type": "stream",
          "name": "stderr",
          "text": [
            "32it [00:03,  8.84it/s]                        \n",
            " 37%|███▋      | 356/961 [09:53<24:00,  2.38s/it]"
          ]
        },
        {
          "output_type": "stream",
          "name": "stdout",
          "text": [
            "Validation F1: 0.8145767073361961\n"
          ]
        },
        {
          "output_type": "stream",
          "name": "stderr",
          "text": [
            "32it [00:03,  8.96it/s]                        \n",
            " 40%|████      | 386/961 [10:39<23:31,  2.46s/it]"
          ]
        },
        {
          "output_type": "stream",
          "name": "stdout",
          "text": [
            "Validation F1: 0.8339404820026916\n"
          ]
        },
        {
          "output_type": "stream",
          "name": "stderr",
          "text": [
            "32it [00:03,  8.90it/s]                        \n",
            " 43%|████▎     | 416/961 [11:25<24:08,  2.66s/it]"
          ]
        },
        {
          "output_type": "stream",
          "name": "stdout",
          "text": [
            "Validation F1: 0.8218104335751395\n"
          ]
        },
        {
          "output_type": "stream",
          "name": "stderr",
          "text": [
            "32it [00:03,  8.59it/s]                        \n",
            " 46%|████▋     | 446/961 [12:09<22:02,  2.57s/it]"
          ]
        },
        {
          "output_type": "stream",
          "name": "stdout",
          "text": [
            "Validation F1: 0.8168383261973444\n"
          ]
        },
        {
          "output_type": "stream",
          "name": "stderr",
          "text": [
            "32it [00:03,  8.65it/s]                        \n"
          ]
        },
        {
          "output_type": "stream",
          "name": "stdout",
          "text": [
            "Validation F1: 0.8543734596509456\n"
          ]
        },
        {
          "output_type": "stream",
          "name": "stderr",
          "text": [
            "\r 50%|████▉     | 476/961 [12:59<32:31,  4.02s/it]"
          ]
        },
        {
          "output_type": "stream",
          "name": "stdout",
          "text": [
            "Model saved for step: 2400\n"
          ]
        },
        {
          "output_type": "stream",
          "name": "stderr",
          "text": [
            "32it [00:03,  8.51it/s]                        \n",
            " 53%|█████▎    | 506/961 [13:46<19:10,  2.53s/it]"
          ]
        },
        {
          "output_type": "stream",
          "name": "stdout",
          "text": [
            "Validation F1: 0.8398231587007096\n"
          ]
        },
        {
          "output_type": "stream",
          "name": "stderr",
          "text": [
            "32it [00:03,  8.72it/s]                        \n",
            " 56%|█████▌    | 536/961 [14:30<16:41,  2.36s/it]"
          ]
        },
        {
          "output_type": "stream",
          "name": "stdout",
          "text": [
            "Validation F1: 0.8371909716652128\n"
          ]
        },
        {
          "output_type": "stream",
          "name": "stderr",
          "text": [
            "32it [00:03,  8.88it/s]                        \n",
            " 59%|█████▉    | 566/961 [15:15<15:51,  2.41s/it]"
          ]
        },
        {
          "output_type": "stream",
          "name": "stdout",
          "text": [
            "Validation F1: 0.8474251371099157\n"
          ]
        },
        {
          "output_type": "stream",
          "name": "stderr",
          "text": [
            "32it [00:03,  8.95it/s]                        \n"
          ]
        },
        {
          "output_type": "stream",
          "name": "stdout",
          "text": [
            "Validation F1: 0.8552224301124308\n"
          ]
        },
        {
          "output_type": "stream",
          "name": "stderr",
          "text": [
            "\r 62%|██████▏   | 596/961 [16:09<29:49,  4.90s/it]"
          ]
        },
        {
          "output_type": "stream",
          "name": "stdout",
          "text": [
            "Model saved for step: 2520\n"
          ]
        },
        {
          "output_type": "stream",
          "name": "stderr",
          "text": [
            "32it [00:03,  8.58it/s]                        \n"
          ]
        },
        {
          "output_type": "stream",
          "name": "stdout",
          "text": [
            "Validation F1: 0.8632888242968323\n"
          ]
        },
        {
          "output_type": "stream",
          "name": "stderr",
          "text": [
            "\r 65%|██████▌   | 626/961 [17:01<22:18,  3.99s/it]"
          ]
        },
        {
          "output_type": "stream",
          "name": "stdout",
          "text": [
            "Model saved for step: 2550\n"
          ]
        },
        {
          "output_type": "stream",
          "name": "stderr",
          "text": [
            "32it [00:03,  8.57it/s]                        \n"
          ]
        },
        {
          "output_type": "stream",
          "name": "stdout",
          "text": [
            "Validation F1: 0.8673231906530051\n"
          ]
        },
        {
          "output_type": "stream",
          "name": "stderr",
          "text": [
            "\r 68%|██████▊   | 656/961 [17:53<20:37,  4.06s/it]"
          ]
        },
        {
          "output_type": "stream",
          "name": "stdout",
          "text": [
            "Model saved for step: 2580\n"
          ]
        },
        {
          "output_type": "stream",
          "name": "stderr",
          "text": [
            "32it [00:03,  8.80it/s]                        \n",
            " 71%|███████▏  | 686/961 [18:40<12:02,  2.63s/it]"
          ]
        },
        {
          "output_type": "stream",
          "name": "stdout",
          "text": [
            "Validation F1: 0.8654342459098404\n"
          ]
        },
        {
          "output_type": "stream",
          "name": "stderr",
          "text": [
            "32it [00:03,  8.53it/s]                        \n",
            " 75%|███████▍  | 716/961 [19:25<10:15,  2.51s/it]"
          ]
        },
        {
          "output_type": "stream",
          "name": "stdout",
          "text": [
            "Validation F1: 0.864784371750007\n"
          ]
        },
        {
          "output_type": "stream",
          "name": "stderr",
          "text": [
            "32it [00:03,  8.77it/s]                        \n",
            " 78%|███████▊  | 746/961 [20:08<08:24,  2.35s/it]"
          ]
        },
        {
          "output_type": "stream",
          "name": "stdout",
          "text": [
            "Validation F1: 0.8661136737012439\n"
          ]
        },
        {
          "output_type": "stream",
          "name": "stderr",
          "text": [
            "32it [00:03,  8.83it/s]                        \n",
            " 81%|████████  | 776/961 [20:54<07:28,  2.42s/it]"
          ]
        },
        {
          "output_type": "stream",
          "name": "stdout",
          "text": [
            "Validation F1: 0.8637578005924137\n"
          ]
        },
        {
          "output_type": "stream",
          "name": "stderr",
          "text": [
            "32it [00:03,  8.93it/s]                        \n"
          ]
        },
        {
          "output_type": "stream",
          "name": "stdout",
          "text": [
            "Validation F1: 0.8795966895188686\n"
          ]
        },
        {
          "output_type": "stream",
          "name": "stderr",
          "text": [
            "\r 84%|████████▍ | 806/961 [21:46<12:34,  4.87s/it]"
          ]
        },
        {
          "output_type": "stream",
          "name": "stdout",
          "text": [
            "Model saved for step: 2730\n"
          ]
        },
        {
          "output_type": "stream",
          "name": "stderr",
          "text": [
            "32it [00:03,  8.70it/s]                        \n",
            " 87%|████████▋ | 836/961 [22:33<04:56,  2.37s/it]"
          ]
        },
        {
          "output_type": "stream",
          "name": "stdout",
          "text": [
            "Validation F1: 0.8706370791932289\n"
          ]
        },
        {
          "output_type": "stream",
          "name": "stderr",
          "text": [
            "32it [00:03,  8.89it/s]                        \n"
          ]
        },
        {
          "output_type": "stream",
          "name": "stdout",
          "text": [
            "Validation F1: 0.8888366082907498\n"
          ]
        },
        {
          "output_type": "stream",
          "name": "stderr",
          "text": [
            "\r 90%|█████████ | 866/961 [23:24<06:26,  4.07s/it]"
          ]
        },
        {
          "output_type": "stream",
          "name": "stdout",
          "text": [
            "Model saved for step: 2790\n"
          ]
        },
        {
          "output_type": "stream",
          "name": "stderr",
          "text": [
            "32it [00:03,  8.60it/s]                        \n",
            " 93%|█████████▎| 896/961 [24:11<02:34,  2.37s/it]"
          ]
        },
        {
          "output_type": "stream",
          "name": "stdout",
          "text": [
            "Validation F1: 0.8816498346551723\n"
          ]
        },
        {
          "output_type": "stream",
          "name": "stderr",
          "text": [
            "32it [00:03,  8.93it/s]                        \n",
            " 96%|█████████▋| 926/961 [24:55<01:23,  2.37s/it]"
          ]
        },
        {
          "output_type": "stream",
          "name": "stdout",
          "text": [
            "Validation F1: 0.8679666964851295\n"
          ]
        },
        {
          "output_type": "stream",
          "name": "stderr",
          "text": [
            "32it [00:03,  8.92it/s]                        \n",
            " 99%|█████████▉| 956/961 [25:40<00:12,  2.50s/it]"
          ]
        },
        {
          "output_type": "stream",
          "name": "stdout",
          "text": [
            "Validation F1: 0.8671112602410312\n"
          ]
        },
        {
          "output_type": "stream",
          "name": "stderr",
          "text": [
            "962it [25:49,  1.61s/it]\n"
          ]
        },
        {
          "output_type": "stream",
          "name": "stdout",
          "text": [
            "epoch: 2\n",
            "total loss: 0.9831733296893762\n"
          ]
        },
        {
          "output_type": "stream",
          "name": "stderr",
          "text": [
            "32it [00:03,  8.77it/s]                        \n"
          ]
        },
        {
          "output_type": "stream",
          "name": "stdout",
          "text": [
            "Validation F1: 0.9020531425741698\n"
          ]
        },
        {
          "output_type": "stream",
          "name": "stderr",
          "text": [
            "\r  2%|▏         | 24/961 [00:40<1:03:35,  4.07s/it]"
          ]
        },
        {
          "output_type": "stream",
          "name": "stdout",
          "text": [
            "Model saved for step: 2910\n"
          ]
        },
        {
          "output_type": "stream",
          "name": "stderr",
          "text": [
            "32it [00:03,  8.86it/s]                        \n"
          ]
        },
        {
          "output_type": "stream",
          "name": "stdout",
          "text": [
            "Validation F1: 0.9116021168301479\n"
          ]
        },
        {
          "output_type": "stream",
          "name": "stderr",
          "text": [
            "\r  6%|▌         | 54/961 [01:33<59:15,  3.92s/it]"
          ]
        },
        {
          "output_type": "stream",
          "name": "stdout",
          "text": [
            "Model saved for step: 2940\n"
          ]
        },
        {
          "output_type": "stream",
          "name": "stderr",
          "text": [
            "32it [00:03,  8.83it/s]                        \n",
            "  9%|▊         | 84/961 [02:21<34:46,  2.38s/it]"
          ]
        },
        {
          "output_type": "stream",
          "name": "stdout",
          "text": [
            "Validation F1: 0.897765368400643\n"
          ]
        },
        {
          "output_type": "stream",
          "name": "stderr",
          "text": [
            "32it [00:03,  8.92it/s]                        \n",
            " 12%|█▏        | 114/961 [03:07<34:19,  2.43s/it]"
          ]
        },
        {
          "output_type": "stream",
          "name": "stdout",
          "text": [
            "Validation F1: 0.8734803113012498\n"
          ]
        },
        {
          "output_type": "stream",
          "name": "stderr",
          "text": [
            "32it [00:03,  8.86it/s]                        \n",
            " 15%|█▍        | 144/961 [03:52<34:40,  2.55s/it]"
          ]
        },
        {
          "output_type": "stream",
          "name": "stdout",
          "text": [
            "Validation F1: 0.8955258552148432\n"
          ]
        },
        {
          "output_type": "stream",
          "name": "stderr",
          "text": [
            "32it [00:03,  8.67it/s]                        \n",
            " 18%|█▊        | 174/961 [04:37<33:55,  2.59s/it]"
          ]
        },
        {
          "output_type": "stream",
          "name": "stdout",
          "text": [
            "Validation F1: 0.8918732411455395\n"
          ]
        },
        {
          "output_type": "stream",
          "name": "stderr",
          "text": [
            "32it [00:03,  8.67it/s]                        \n",
            " 21%|██        | 204/961 [05:20<29:33,  2.34s/it]"
          ]
        },
        {
          "output_type": "stream",
          "name": "stdout",
          "text": [
            "Validation F1: 0.8976924501885901\n"
          ]
        },
        {
          "output_type": "stream",
          "name": "stderr",
          "text": [
            "32it [00:03,  8.86it/s]                        \n",
            " 24%|██▍       | 234/961 [06:05<28:49,  2.38s/it]"
          ]
        },
        {
          "output_type": "stream",
          "name": "stdout",
          "text": [
            "Validation F1: 0.9001794303815963\n"
          ]
        },
        {
          "output_type": "stream",
          "name": "stderr",
          "text": [
            "32it [00:03,  8.91it/s]                        \n",
            " 27%|██▋       | 264/961 [06:50<28:35,  2.46s/it]"
          ]
        },
        {
          "output_type": "stream",
          "name": "stdout",
          "text": [
            "Validation F1: 0.9005854721172639\n"
          ]
        },
        {
          "output_type": "stream",
          "name": "stderr",
          "text": [
            "32it [00:03,  8.82it/s]                        \n",
            " 31%|███       | 294/961 [07:35<29:22,  2.64s/it]"
          ]
        },
        {
          "output_type": "stream",
          "name": "stdout",
          "text": [
            "Validation F1: 0.9112101463312247\n"
          ]
        },
        {
          "output_type": "stream",
          "name": "stderr",
          "text": [
            "32it [00:03,  8.54it/s]                        \n",
            " 34%|███▎      | 324/961 [08:19<25:21,  2.39s/it]"
          ]
        },
        {
          "output_type": "stream",
          "name": "stdout",
          "text": [
            "Validation F1: 0.9058191504500365\n"
          ]
        },
        {
          "output_type": "stream",
          "name": "stderr",
          "text": [
            "32it [00:03,  8.90it/s]                        \n",
            " 37%|███▋      | 354/961 [09:03<23:47,  2.35s/it]"
          ]
        },
        {
          "output_type": "stream",
          "name": "stdout",
          "text": [
            "Validation F1: 0.870889512535482\n"
          ]
        },
        {
          "output_type": "stream",
          "name": "stderr",
          "text": [
            "32it [00:03,  8.86it/s]                        \n"
          ]
        },
        {
          "output_type": "stream",
          "name": "stdout",
          "text": [
            "Validation F1: 0.9240388596910337\n"
          ]
        },
        {
          "output_type": "stream",
          "name": "stderr",
          "text": [
            "\r 40%|███▉      | 384/961 [09:53<37:23,  3.89s/it]"
          ]
        },
        {
          "output_type": "stream",
          "name": "stdout",
          "text": [
            "Model saved for step: 3270\n"
          ]
        },
        {
          "output_type": "stream",
          "name": "stderr",
          "text": [
            "32it [00:03,  8.80it/s]                        \n"
          ]
        },
        {
          "output_type": "stream",
          "name": "stdout",
          "text": [
            "Validation F1: 0.9272145854941553\n"
          ]
        },
        {
          "output_type": "stream",
          "name": "stderr",
          "text": [
            "\r 43%|████▎     | 414/961 [10:54<58:37,  6.43s/it]"
          ]
        },
        {
          "output_type": "stream",
          "name": "stdout",
          "text": [
            "Model saved for step: 3300\n"
          ]
        },
        {
          "output_type": "stream",
          "name": "stderr",
          "text": [
            "32it [00:03,  8.80it/s]                        \n",
            " 46%|████▌     | 444/961 [11:42<21:01,  2.44s/it]"
          ]
        },
        {
          "output_type": "stream",
          "name": "stdout",
          "text": [
            "Validation F1: 0.9234931457565851\n"
          ]
        },
        {
          "output_type": "stream",
          "name": "stderr",
          "text": [
            "32it [00:03,  8.96it/s]                        \n",
            " 49%|████▉     | 474/961 [12:28<20:49,  2.57s/it]"
          ]
        },
        {
          "output_type": "stream",
          "name": "stdout",
          "text": [
            "Validation F1: 0.8919920140761443\n"
          ]
        },
        {
          "output_type": "stream",
          "name": "stderr",
          "text": [
            "32it [00:03,  8.63it/s]                        \n"
          ]
        },
        {
          "output_type": "stream",
          "name": "stdout",
          "text": [
            "Validation F1: 0.9378039047638481\n"
          ]
        },
        {
          "output_type": "stream",
          "name": "stderr",
          "text": [
            "\r 52%|█████▏    | 504/961 [13:17<30:51,  4.05s/it]"
          ]
        },
        {
          "output_type": "stream",
          "name": "stdout",
          "text": [
            "Model saved for step: 3390\n"
          ]
        },
        {
          "output_type": "stream",
          "name": "stderr",
          "text": [
            "32it [00:03,  8.86it/s]                        \n",
            " 56%|█████▌    | 534/961 [14:05<17:45,  2.50s/it]"
          ]
        },
        {
          "output_type": "stream",
          "name": "stdout",
          "text": [
            "Validation F1: 0.9327250901446726\n"
          ]
        },
        {
          "output_type": "stream",
          "name": "stderr",
          "text": [
            "32it [00:03,  8.81it/s]                        \n",
            " 59%|█████▊    | 564/961 [14:49<16:59,  2.57s/it]"
          ]
        },
        {
          "output_type": "stream",
          "name": "stdout",
          "text": [
            "Validation F1: 0.9365490282848397\n"
          ]
        },
        {
          "output_type": "stream",
          "name": "stderr",
          "text": [
            "32it [00:03,  8.61it/s]                        \n",
            " 62%|██████▏   | 594/961 [15:33<14:20,  2.34s/it]"
          ]
        },
        {
          "output_type": "stream",
          "name": "stdout",
          "text": [
            "Validation F1: 0.909368440071003\n"
          ]
        },
        {
          "output_type": "stream",
          "name": "stderr",
          "text": [
            "32it [00:03,  8.89it/s]                        \n"
          ]
        },
        {
          "output_type": "stream",
          "name": "stdout",
          "text": [
            "Validation F1: 0.9419135107396855\n"
          ]
        },
        {
          "output_type": "stream",
          "name": "stderr",
          "text": [
            "\r 65%|██████▍   | 624/961 [16:23<22:41,  4.04s/it]"
          ]
        },
        {
          "output_type": "stream",
          "name": "stdout",
          "text": [
            "Model saved for step: 3510\n"
          ]
        },
        {
          "output_type": "stream",
          "name": "stderr",
          "text": [
            "32it [00:03,  8.64it/s]                        \n",
            " 68%|██████▊   | 654/961 [17:09<11:59,  2.35s/it]"
          ]
        },
        {
          "output_type": "stream",
          "name": "stdout",
          "text": [
            "Validation F1: 0.9216276637807118\n"
          ]
        },
        {
          "output_type": "stream",
          "name": "stderr",
          "text": [
            "32it [00:03,  8.93it/s]                        \n",
            " 71%|███████   | 684/961 [17:53<10:54,  2.36s/it]"
          ]
        },
        {
          "output_type": "stream",
          "name": "stdout",
          "text": [
            "Validation F1: 0.9365048149283638\n"
          ]
        },
        {
          "output_type": "stream",
          "name": "stderr",
          "text": [
            "32it [00:03,  8.89it/s]                        \n"
          ]
        },
        {
          "output_type": "stream",
          "name": "stdout",
          "text": [
            "Validation F1: 0.9475602454722347\n"
          ]
        },
        {
          "output_type": "stream",
          "name": "stderr",
          "text": [
            "\r 74%|███████▍  | 714/961 [18:44<16:21,  3.98s/it]"
          ]
        },
        {
          "output_type": "stream",
          "name": "stdout",
          "text": [
            "Model saved for step: 3600\n"
          ]
        },
        {
          "output_type": "stream",
          "name": "stderr",
          "text": [
            "32it [00:03,  8.87it/s]                        \n",
            " 77%|███████▋  | 744/961 [19:31<08:29,  2.35s/it]"
          ]
        },
        {
          "output_type": "stream",
          "name": "stdout",
          "text": [
            "Validation F1: 0.9277007277512413\n"
          ]
        },
        {
          "output_type": "stream",
          "name": "stderr",
          "text": [
            "32it [00:03,  8.97it/s]                        \n",
            " 81%|████████  | 774/961 [20:16<07:32,  2.42s/it]"
          ]
        },
        {
          "output_type": "stream",
          "name": "stdout",
          "text": [
            "Validation F1: 0.9400247381958247\n"
          ]
        },
        {
          "output_type": "stream",
          "name": "stderr",
          "text": [
            "32it [00:03,  8.89it/s]                        \n",
            " 84%|████████▎ | 804/961 [21:02<07:00,  2.68s/it]"
          ]
        },
        {
          "output_type": "stream",
          "name": "stdout",
          "text": [
            "Validation F1: 0.9468080788843013\n"
          ]
        },
        {
          "output_type": "stream",
          "name": "stderr",
          "text": [
            "32it [00:03,  8.59it/s]                        \n",
            " 87%|████████▋ | 834/961 [21:47<05:23,  2.54s/it]"
          ]
        },
        {
          "output_type": "stream",
          "name": "stdout",
          "text": [
            "Validation F1: 0.9452205765249243\n"
          ]
        },
        {
          "output_type": "stream",
          "name": "stderr",
          "text": [
            "32it [00:03,  8.71it/s]                        \n",
            " 90%|████████▉ | 864/961 [22:31<03:48,  2.36s/it]"
          ]
        },
        {
          "output_type": "stream",
          "name": "stdout",
          "text": [
            "Validation F1: 0.9449082826746859\n"
          ]
        },
        {
          "output_type": "stream",
          "name": "stderr",
          "text": [
            "32it [00:03,  8.84it/s]                        \n"
          ]
        },
        {
          "output_type": "stream",
          "name": "stdout",
          "text": [
            "Validation F1: 0.9547183949899182\n"
          ]
        },
        {
          "output_type": "stream",
          "name": "stderr",
          "text": [
            "\r 93%|█████████▎| 894/961 [23:27<06:29,  5.81s/it]"
          ]
        },
        {
          "output_type": "stream",
          "name": "stdout",
          "text": [
            "Model saved for step: 3780\n"
          ]
        },
        {
          "output_type": "stream",
          "name": "stderr",
          "text": [
            "32it [00:03,  8.78it/s]                        \n",
            " 96%|█████████▌| 924/961 [24:15<01:34,  2.57s/it]"
          ]
        },
        {
          "output_type": "stream",
          "name": "stdout",
          "text": [
            "Validation F1: 0.943822637292465\n"
          ]
        },
        {
          "output_type": "stream",
          "name": "stderr",
          "text": [
            "32it [00:03,  8.66it/s]                        \n",
            " 99%|█████████▉| 954/961 [25:00<00:18,  2.61s/it]"
          ]
        },
        {
          "output_type": "stream",
          "name": "stdout",
          "text": [
            "Validation F1: 0.9513673071567809\n"
          ]
        },
        {
          "output_type": "stream",
          "name": "stderr",
          "text": [
            "962it [25:10,  1.57s/it]\n"
          ]
        },
        {
          "output_type": "stream",
          "name": "stdout",
          "text": [
            "epoch: 3\n",
            "total loss: 0.6365631845053847\n"
          ]
        },
        {
          "output_type": "stream",
          "name": "stderr",
          "text": [
            "32it [00:03,  8.59it/s]                        \n",
            "  2%|▏         | 22/961 [00:33<37:03,  2.37s/it]"
          ]
        },
        {
          "output_type": "stream",
          "name": "stdout",
          "text": [
            "Validation F1: 0.9446037368607776\n"
          ]
        },
        {
          "output_type": "stream",
          "name": "stderr",
          "text": [
            "32it [00:03,  8.90it/s]                        \n",
            "  5%|▌         | 52/961 [01:18<35:56,  2.37s/it]"
          ]
        },
        {
          "output_type": "stream",
          "name": "stdout",
          "text": [
            "Validation F1: 0.9520581154465932\n"
          ]
        },
        {
          "output_type": "stream",
          "name": "stderr",
          "text": [
            "32it [00:03,  8.88it/s]                        \n"
          ]
        },
        {
          "output_type": "stream",
          "name": "stdout",
          "text": [
            "Validation F1: 0.9560511342228448\n"
          ]
        },
        {
          "output_type": "stream",
          "name": "stderr",
          "text": [
            "\r  9%|▊         | 82/961 [02:08<58:11,  3.97s/it]"
          ]
        },
        {
          "output_type": "stream",
          "name": "stdout",
          "text": [
            "Model saved for step: 3930\n"
          ]
        },
        {
          "output_type": "stream",
          "name": "stderr",
          "text": [
            "32it [00:03,  8.84it/s]                        \n",
            " 12%|█▏        | 112/961 [02:56<33:24,  2.36s/it]"
          ]
        },
        {
          "output_type": "stream",
          "name": "stdout",
          "text": [
            "Validation F1: 0.95237345943009\n"
          ]
        },
        {
          "output_type": "stream",
          "name": "stderr",
          "text": [
            "32it [00:03,  8.96it/s]                        \n",
            " 15%|█▍        | 142/961 [03:42<33:54,  2.48s/it]"
          ]
        },
        {
          "output_type": "stream",
          "name": "stdout",
          "text": [
            "Validation F1: 0.9539664870277115\n"
          ]
        },
        {
          "output_type": "stream",
          "name": "stderr",
          "text": [
            "32it [00:03,  8.91it/s]                        \n",
            " 18%|█▊        | 172/961 [04:27<34:39,  2.64s/it]"
          ]
        },
        {
          "output_type": "stream",
          "name": "stdout",
          "text": [
            "Validation F1: 0.9483495910245519\n"
          ]
        },
        {
          "output_type": "stream",
          "name": "stderr",
          "text": [
            "32it [00:03,  8.52it/s]                        \n",
            " 21%|██        | 202/961 [05:11<31:39,  2.50s/it]"
          ]
        },
        {
          "output_type": "stream",
          "name": "stdout",
          "text": [
            "Validation F1: 0.9443069063758719\n"
          ]
        },
        {
          "output_type": "stream",
          "name": "stderr",
          "text": [
            "32it [00:03,  8.80it/s]                        \n"
          ]
        },
        {
          "output_type": "stream",
          "name": "stdout",
          "text": [
            "Validation F1: 0.9576824075062573\n"
          ]
        },
        {
          "output_type": "stream",
          "name": "stderr",
          "text": [
            "\r 24%|██▍       | 232/961 [06:03<58:30,  4.82s/it]"
          ]
        },
        {
          "output_type": "stream",
          "name": "stdout",
          "text": [
            "Model saved for step: 4080\n"
          ]
        },
        {
          "output_type": "stream",
          "name": "stderr",
          "text": [
            "32it [00:03,  8.78it/s]                        \n"
          ]
        },
        {
          "output_type": "stream",
          "name": "stdout",
          "text": [
            "Validation F1: 0.9585956634849313\n"
          ]
        },
        {
          "output_type": "stream",
          "name": "stderr",
          "text": [
            "\r 27%|██▋       | 262/961 [06:58<56:04,  4.81s/it]"
          ]
        },
        {
          "output_type": "stream",
          "name": "stdout",
          "text": [
            "Model saved for step: 4110\n"
          ]
        },
        {
          "output_type": "stream",
          "name": "stderr",
          "text": [
            "32it [00:03,  8.85it/s]                        \n",
            " 30%|███       | 292/961 [07:46<26:50,  2.41s/it]"
          ]
        },
        {
          "output_type": "stream",
          "name": "stdout",
          "text": [
            "Validation F1: 0.9582797148057122\n"
          ]
        },
        {
          "output_type": "stream",
          "name": "stderr",
          "text": [
            "32it [00:03,  8.87it/s]                        \n",
            " 34%|███▎      | 322/961 [08:32<26:26,  2.48s/it]"
          ]
        },
        {
          "output_type": "stream",
          "name": "stdout",
          "text": [
            "Validation F1: 0.9579148263411298\n"
          ]
        },
        {
          "output_type": "stream",
          "name": "stderr",
          "text": [
            "32it [00:03,  8.83it/s]                        \n"
          ]
        },
        {
          "output_type": "stream",
          "name": "stdout",
          "text": [
            "Validation F1: 0.9688353409912237\n"
          ]
        },
        {
          "output_type": "stream",
          "name": "stderr",
          "text": [
            "\r 37%|███▋      | 352/961 [09:21<41:37,  4.10s/it]"
          ]
        },
        {
          "output_type": "stream",
          "name": "stdout",
          "text": [
            "Model saved for step: 4200\n"
          ]
        },
        {
          "output_type": "stream",
          "name": "stderr",
          "text": [
            "32it [00:03,  8.81it/s]                        \n",
            " 40%|███▉      | 382/961 [10:10<23:48,  2.47s/it]"
          ]
        },
        {
          "output_type": "stream",
          "name": "stdout",
          "text": [
            "Validation F1: 0.9652302306301571\n"
          ]
        },
        {
          "output_type": "stream",
          "name": "stderr",
          "text": [
            "32it [00:03,  8.93it/s]                        \n",
            " 43%|████▎     | 412/961 [10:55<24:14,  2.65s/it]"
          ]
        },
        {
          "output_type": "stream",
          "name": "stdout",
          "text": [
            "Validation F1: 0.9641861359246827\n"
          ]
        },
        {
          "output_type": "stream",
          "name": "stderr",
          "text": [
            "32it [00:03,  8.53it/s]                        \n",
            " 46%|████▌     | 442/961 [11:40<22:13,  2.57s/it]"
          ]
        },
        {
          "output_type": "stream",
          "name": "stdout",
          "text": [
            "Validation F1: 0.9641861359246827\n"
          ]
        },
        {
          "output_type": "stream",
          "name": "stderr",
          "text": [
            "32it [00:03,  8.52it/s]                        \n",
            " 49%|████▉     | 472/961 [12:25<19:43,  2.42s/it]"
          ]
        },
        {
          "output_type": "stream",
          "name": "stdout",
          "text": [
            "Validation F1: 0.9674683841535003\n"
          ]
        },
        {
          "output_type": "stream",
          "name": "stderr",
          "text": [
            "32it [00:03,  8.86it/s]                        \n",
            " 52%|█████▏    | 502/961 [13:11<18:16,  2.39s/it]"
          ]
        },
        {
          "output_type": "stream",
          "name": "stdout",
          "text": [
            "Validation F1: 0.9658664998566477\n"
          ]
        },
        {
          "output_type": "stream",
          "name": "stderr",
          "text": [
            "32it [00:03,  8.90it/s]                        \n",
            " 55%|█████▌    | 532/961 [13:57<17:33,  2.46s/it]"
          ]
        },
        {
          "output_type": "stream",
          "name": "stdout",
          "text": [
            "Validation F1: 0.9600050065467647\n"
          ]
        },
        {
          "output_type": "stream",
          "name": "stderr",
          "text": [
            "32it [00:03,  8.81it/s]                        \n"
          ]
        },
        {
          "output_type": "stream",
          "name": "stdout",
          "text": [
            "Validation F1: 0.9707127860218497\n"
          ]
        },
        {
          "output_type": "stream",
          "name": "stderr",
          "text": [
            "\r 58%|█████▊    | 562/961 [14:47<27:39,  4.16s/it]"
          ]
        },
        {
          "output_type": "stream",
          "name": "stdout",
          "text": [
            "Model saved for step: 4410\n"
          ]
        },
        {
          "output_type": "stream",
          "name": "stderr",
          "text": [
            "32it [00:03,  8.74it/s]                        \n",
            " 62%|██████▏   | 592/961 [15:36<14:57,  2.43s/it]"
          ]
        },
        {
          "output_type": "stream",
          "name": "stdout",
          "text": [
            "Validation F1: 0.9636480411046886\n"
          ]
        },
        {
          "output_type": "stream",
          "name": "stderr",
          "text": [
            "32it [00:03,  8.83it/s]                        \n",
            " 65%|██████▍   | 622/961 [16:22<13:48,  2.44s/it]"
          ]
        },
        {
          "output_type": "stream",
          "name": "stdout",
          "text": [
            "Validation F1: 0.9633311307959357\n"
          ]
        },
        {
          "output_type": "stream",
          "name": "stderr",
          "text": [
            "32it [00:03,  8.86it/s]                        \n",
            " 68%|██████▊   | 652/961 [17:08<13:44,  2.67s/it]"
          ]
        },
        {
          "output_type": "stream",
          "name": "stdout",
          "text": [
            "Validation F1: 0.9674683841535003\n"
          ]
        },
        {
          "output_type": "stream",
          "name": "stderr",
          "text": [
            "32it [00:03,  8.64it/s]                        \n",
            " 71%|███████   | 682/961 [17:52<11:48,  2.54s/it]"
          ]
        },
        {
          "output_type": "stream",
          "name": "stdout",
          "text": [
            "Validation F1: 0.9677756697060423\n"
          ]
        },
        {
          "output_type": "stream",
          "name": "stderr",
          "text": [
            "32it [00:03,  8.74it/s]                        \n",
            " 74%|███████▍  | 712/961 [18:36<09:49,  2.37s/it]"
          ]
        },
        {
          "output_type": "stream",
          "name": "stdout",
          "text": [
            "Validation F1: 0.9633311307959357\n"
          ]
        },
        {
          "output_type": "stream",
          "name": "stderr",
          "text": [
            "32it [00:03,  8.86it/s]                        \n"
          ]
        },
        {
          "output_type": "stream",
          "name": "stdout",
          "text": [
            "Validation F1: 0.9707206065401137\n"
          ]
        },
        {
          "output_type": "stream",
          "name": "stderr",
          "text": [
            "\r 77%|███████▋  | 742/961 [19:26<14:13,  3.90s/it]"
          ]
        },
        {
          "output_type": "stream",
          "name": "stdout",
          "text": [
            "Model saved for step: 4590\n"
          ]
        },
        {
          "output_type": "stream",
          "name": "stderr",
          "text": [
            "32it [00:03,  8.69it/s]                        \n",
            " 80%|████████  | 772/961 [20:13<07:27,  2.37s/it]"
          ]
        },
        {
          "output_type": "stream",
          "name": "stdout",
          "text": [
            "Validation F1: 0.9693777821089062\n"
          ]
        },
        {
          "output_type": "stream",
          "name": "stderr",
          "text": [
            "32it [00:03,  8.88it/s]                        \n",
            " 83%|████████▎ | 802/961 [20:57<06:16,  2.37s/it]"
          ]
        },
        {
          "output_type": "stream",
          "name": "stdout",
          "text": [
            "Validation F1: 0.9677756697060423\n"
          ]
        },
        {
          "output_type": "stream",
          "name": "stderr",
          "text": [
            "32it [00:03,  8.91it/s]                        \n",
            " 87%|████████▋ | 832/961 [21:42<05:28,  2.55s/it]"
          ]
        },
        {
          "output_type": "stream",
          "name": "stdout",
          "text": [
            "Validation F1: 0.9669252834550438\n"
          ]
        },
        {
          "output_type": "stream",
          "name": "stderr",
          "text": [
            "32it [00:03,  8.77it/s]                        \n",
            " 90%|████████▉ | 862/961 [22:27<04:14,  2.57s/it]"
          ]
        },
        {
          "output_type": "stream",
          "name": "stdout",
          "text": [
            "Validation F1: 0.9636394000159486\n"
          ]
        },
        {
          "output_type": "stream",
          "name": "stderr",
          "text": [
            "32it [00:03,  8.57it/s]                        \n",
            " 93%|█████████▎| 892/961 [23:10<02:42,  2.35s/it]"
          ]
        },
        {
          "output_type": "stream",
          "name": "stdout",
          "text": [
            "Validation F1: 0.9609282282517094\n"
          ]
        },
        {
          "output_type": "stream",
          "name": "stderr",
          "text": [
            "32it [00:03,  8.66it/s]                        \n",
            " 96%|█████████▌| 922/961 [24:00<01:44,  2.69s/it]"
          ]
        },
        {
          "output_type": "stream",
          "name": "stdout",
          "text": [
            "Validation F1: 0.9669252834550438\n"
          ]
        },
        {
          "output_type": "stream",
          "name": "stderr",
          "text": [
            "32it [00:03,  8.89it/s]                        \n",
            " 99%|█████████▉| 952/961 [24:44<00:21,  2.36s/it]"
          ]
        },
        {
          "output_type": "stream",
          "name": "stdout",
          "text": [
            "Validation F1: 0.9633311307959357\n"
          ]
        },
        {
          "output_type": "stream",
          "name": "stderr",
          "text": [
            "32it [00:03,  8.90it/s]                        \n",
            "100%|██████████| 961/961 [25:00<00:00,  2.38s/it]"
          ]
        },
        {
          "output_type": "stream",
          "name": "stdout",
          "text": [
            "Validation F1: 0.9633311307959357\n"
          ]
        },
        {
          "output_type": "stream",
          "name": "stderr",
          "text": [
            "32it [00:03,  8.59it/s]                        \n",
            "962it [25:05,  1.56s/it]"
          ]
        },
        {
          "output_type": "stream",
          "name": "stdout",
          "text": [
            "Validation F1: 0.9633311307959357\n",
            "epoch: 4\n",
            "total loss: 0.3937284553251021\n"
          ]
        },
        {
          "output_type": "stream",
          "name": "stderr",
          "text": [
            "\n"
          ]
        }
      ],
      "source": [
        "trainIters(model, 5, dataload, dataload_val)"
      ]
    },
    {
      "cell_type": "markdown",
      "id": "c1cfb1fe-2c3d-4f0d-b21d-21ce57faa3e5",
      "metadata": {
        "id": "c1cfb1fe-2c3d-4f0d-b21d-21ce57faa3e5"
      },
      "source": [
        "######################## TESTING ######################"
      ]
    },
    {
      "cell_type": "markdown",
      "source": [
        "TEST - 1 : test_hx_modified"
      ],
      "metadata": {
        "id": "mQkk13yur6Wu"
      },
      "id": "mQkk13yur6Wu"
    },
    {
      "cell_type": "code",
      "execution_count": 23,
      "id": "19bbbce2-7488-4118-ba55-8a88b7d67a03",
      "metadata": {
        "tags": [],
        "colab": {
          "base_uri": "https://localhost:8080/"
        },
        "id": "19bbbce2-7488-4118-ba55-8a88b7d67a03",
        "outputId": "6dd8d296-949f-4da0-ac7e-85b0f98b0b79"
      },
      "outputs": [
        {
          "output_type": "stream",
          "name": "stderr",
          "text": [
            "Some weights of XLMRobertaModel were not initialized from the model checkpoint at cardiffnlp/twitter-xlm-roberta-base-sentiment and are newly initialized: ['roberta.pooler.dense.bias', 'roberta.pooler.dense.weight']\n",
            "You should probably TRAIN this model on a down-stream task to be able to use it for predictions and inference.\n"
          ]
        }
      ],
      "source": [
        "model = Classifier()\n",
        "model.load_state_dict(torch.load(\"/content/drive/MyDrive/saved_models/model_twitter-xlm-roberta-base-sentiment_hx_modified_easymix_mono_redo.pth\", map_location=device))\n",
        "model = model.to(device)"
      ]
    },
    {
      "cell_type": "code",
      "execution_count": 24,
      "id": "4a2dcc3d-6bed-46b3-af1f-724e1cc33970",
      "metadata": {
        "id": "4a2dcc3d-6bed-46b3-af1f-724e1cc33970"
      },
      "outputs": [],
      "source": [
        "lang = 'hx_modified'"
      ]
    },
    {
      "cell_type": "code",
      "execution_count": 25,
      "id": "1bb602bc-5bc9-4da0-a92a-3798f2b91dca",
      "metadata": {
        "tags": [],
        "id": "1bb602bc-5bc9-4da0-a92a-3798f2b91dca"
      },
      "outputs": [],
      "source": [
        "# test_data = HateData(data_path=\"/home/jupyter/data/test_data/bq_test_\" + lang + \"_process_10k.csv\")\n",
        "test_data = HateData(data_path=\"/content/drive/MyDrive/data_efficient_hatedetect/data/multilingual/\", split='test', lang=lang)\n",
        "test_loader = DataLoader(test_data, batch_size=1, shuffle=False)"
      ]
    },
    {
      "cell_type": "code",
      "source": [],
      "metadata": {
        "id": "wErKyjSv7rYp"
      },
      "id": "wErKyjSv7rYp",
      "execution_count": null,
      "outputs": []
    },
    {
      "cell_type": "code",
      "execution_count": 26,
      "id": "1d3a48d8-f73b-41ff-98e9-4ba1734cb2cc",
      "metadata": {
        "colab": {
          "base_uri": "https://localhost:8080/"
        },
        "id": "1d3a48d8-f73b-41ff-98e9-4ba1734cb2cc",
        "outputId": "70a6d9ca-e78d-49f0-ef8a-9aa6e3fcf61c"
      },
      "outputs": [
        {
          "output_type": "stream",
          "name": "stderr",
          "text": [
            "100%|██████████| 500/500 [00:07<00:00, 63.46it/s]"
          ]
        },
        {
          "output_type": "stream",
          "name": "stdout",
          "text": [
            "Test Loss:  0.11667285490594805\n"
          ]
        },
        {
          "output_type": "stream",
          "name": "stderr",
          "text": [
            "\n"
          ]
        }
      ],
      "source": [
        "model.eval()\n",
        "test_loss = []\n",
        "test_pred = []\n",
        "\n",
        "# wr = open(results_path + \"test_prediction_\" + base_model + \"_\" + lang + \"_process_10k.txt\", \"w\")\n",
        "wr = open(results_path + \"test_prediction_\" + base_model + \"_\" + lang + \".txt\", \"w\")\n",
        "for entry in tqdm(test_loader, total=len(test_data)//test_loader.batch_size, position=0, leave=True):\n",
        "    v_loss, v_pred = evaluate(entry[0], entry[1], entry[2], entry[3], model, mode='test')\n",
        "    test_loss.append(v_loss)\n",
        "    test_pred.append(v_pred)\n",
        "    wr.write(str(v_pred)+\"\\n\")\n",
        "\n",
        "test_loss = np.mean(test_loss)#.item()\n",
        "\n",
        "print(\"Test Loss: \", test_loss)\n",
        "\n",
        "wr.close()"
      ]
    },
    {
      "cell_type": "code",
      "execution_count": 27,
      "id": "fb8b4197-be6d-44f1-b67d-89f8d3834b75",
      "metadata": {
        "id": "fb8b4197-be6d-44f1-b67d-89f8d3834b75"
      },
      "outputs": [],
      "source": [
        "df_test = pd.read_csv(\"/content/drive/MyDrive/data_efficient_hatedetect/data/multilingual/test_hx_modified.tsv\", sep='\\t', lineterminator='\\n')\n",
        "gt_labels = np.array(df_test['label'])"
      ]
    },
    {
      "cell_type": "code",
      "execution_count": 28,
      "id": "8d23d212-69ff-400c-a4e9-36173cae12a4",
      "metadata": {
        "colab": {
          "base_uri": "https://localhost:8080/"
        },
        "id": "8d23d212-69ff-400c-a4e9-36173cae12a4",
        "outputId": "b0891d92-32a1-4144-9151-141c9ce11808"
      },
      "outputs": [
        {
          "output_type": "stream",
          "name": "stdout",
          "text": [
            "              precision    recall  f1-score   support\n",
            "\n",
            "           0     0.9961    0.9771    0.9865       262\n",
            "           1     0.9286    0.9701    0.9489        67\n",
            "           2     0.9711    0.9825    0.9767       171\n",
            "\n",
            "    accuracy                         0.9780       500\n",
            "   macro avg     0.9653    0.9766    0.9707       500\n",
            "weighted avg     0.9785    0.9780    0.9781       500\n",
            "\n"
          ]
        }
      ],
      "source": [
        "print(classification_report(gt_labels, test_pred, digits=4))"
      ]
    },
    {
      "cell_type": "markdown",
      "source": [
        "TEST - 2 : test_approach1_Invariance"
      ],
      "metadata": {
        "id": "wbv2MM34sGqI"
      },
      "id": "wbv2MM34sGqI"
    },
    {
      "cell_type": "code",
      "execution_count": 29,
      "metadata": {
        "id": "GsIAfJFbtmam"
      },
      "outputs": [],
      "source": [
        "lang = 'approach1_Invariance'"
      ],
      "id": "GsIAfJFbtmam"
    },
    {
      "cell_type": "code",
      "source": [
        "# test_data = HateData(data_path=\"/home/jupyter/data/test_data/bq_test_\" + lang + \"_process_10k.csv\")\n",
        "test_data = HateData(data_path=\"/content/drive/MyDrive/data_efficient_hatedetect/data/multilingual/\", split='test', lang=lang)\n",
        "test_loader = DataLoader(test_data, batch_size=1, shuffle=False)"
      ],
      "metadata": {
        "id": "ckGcZFtntlLA"
      },
      "id": "ckGcZFtntlLA",
      "execution_count": 30,
      "outputs": []
    },
    {
      "cell_type": "code",
      "source": [
        "model.eval()\n",
        "test_loss = []\n",
        "test_pred = []\n",
        "\n",
        "# wr = open(results_path + \"test_prediction_\" + base_model + \"_\" + lang + \"_process_10k.txt\", \"w\")\n",
        "wr = open(results_path + \"test_prediction_\" + base_model + \"_\" + lang + \".txt\", \"w\")\n",
        "for entry in tqdm(test_loader, total=len(test_data)//test_loader.batch_size, position=0, leave=True):\n",
        "    v_loss, v_pred = evaluate(entry[0], entry[1], entry[2], entry[3], model, mode='test')\n",
        "    test_loss.append(v_loss)\n",
        "    test_pred.append(v_pred)\n",
        "    wr.write(str(v_pred)+\"\\n\")\n",
        "\n",
        "test_loss = np.mean(test_loss)#.item()\n",
        "\n",
        "print(\"Test Loss: \", test_loss)\n",
        "\n",
        "wr.close()"
      ],
      "metadata": {
        "colab": {
          "base_uri": "https://localhost:8080/"
        },
        "id": "bOpyzdALAmjg",
        "outputId": "d7cf5e16-8cee-434a-a68f-809c9fb03dfc"
      },
      "id": "bOpyzdALAmjg",
      "execution_count": 31,
      "outputs": [
        {
          "output_type": "stream",
          "name": "stderr",
          "text": [
            "100%|██████████| 500/500 [00:08<00:00, 60.47it/s]"
          ]
        },
        {
          "output_type": "stream",
          "name": "stdout",
          "text": [
            "Test Loss:  0.12121780578047037\n"
          ]
        },
        {
          "output_type": "stream",
          "name": "stderr",
          "text": [
            "\n"
          ]
        }
      ]
    },
    {
      "cell_type": "code",
      "source": [
        "df_test = pd.read_csv(\"/content/drive/MyDrive/data_efficient_hatedetect/data/multilingual/test_approach1_Invariance.tsv\", sep='\\t', lineterminator='\\n')\n",
        "gt_labels = np.array(df_test['label'])"
      ],
      "metadata": {
        "id": "1WzrkT7SA2dN"
      },
      "id": "1WzrkT7SA2dN",
      "execution_count": 34,
      "outputs": []
    },
    {
      "cell_type": "code",
      "source": [
        "print(classification_report(gt_labels, test_pred, digits=4))"
      ],
      "metadata": {
        "colab": {
          "base_uri": "https://localhost:8080/"
        },
        "id": "c5dgDlZwBIUL",
        "outputId": "a9a51352-e47d-46c4-fd04-ca1e2a73b7e7"
      },
      "id": "c5dgDlZwBIUL",
      "execution_count": 35,
      "outputs": [
        {
          "output_type": "stream",
          "name": "stdout",
          "text": [
            "              precision    recall  f1-score   support\n",
            "\n",
            "           0     0.9961    0.9809    0.9885       262\n",
            "           1     0.9286    0.9701    0.9489        67\n",
            "           2     0.9767    0.9825    0.9796       171\n",
            "\n",
            "    accuracy                         0.9800       500\n",
            "   macro avg     0.9671    0.9778    0.9723       500\n",
            "weighted avg     0.9804    0.9800    0.9801       500\n",
            "\n"
          ]
        }
      ]
    },
    {
      "cell_type": "markdown",
      "source": [
        "TEST - 3 : approach2"
      ],
      "metadata": {
        "id": "dfudBxVwveG2"
      },
      "id": "dfudBxVwveG2"
    },
    {
      "cell_type": "code",
      "source": [
        "\n",
        "lang = 'approach2'\n",
        "test_data = HateData(data_path=\"/content/drive/MyDrive/data_efficient_hatedetect/data/multilingual/\", split='test', lang=lang)\n",
        "test_loader = DataLoader(test_data, batch_size=1, shuffle=False)"
      ],
      "metadata": {
        "id": "xgVDOp73DFGr"
      },
      "id": "xgVDOp73DFGr",
      "execution_count": 53,
      "outputs": []
    },
    {
      "cell_type": "code",
      "source": [
        "model.eval()\n",
        "test_loss = []\n",
        "test_pred = []\n",
        "\n",
        "# wr = open(results_path + \"test_prediction_\" + base_model + \"_\" + lang + \"_process_10k.txt\", \"w\")\n",
        "wr = open(results_path + \"test_prediction_\" + base_model + \"_\" + lang + \".txt\", \"w\")\n",
        "for entry in tqdm(test_loader, total=len(test_data)//test_loader.batch_size, position=0, leave=True):\n",
        "    v_loss, v_pred = evaluate(entry[0], entry[1], entry[2], entry[3], model, mode='test')\n",
        "    test_loss.append(v_loss)\n",
        "    test_pred.append(v_pred)\n",
        "    wr.write(str(v_pred)+\"\\n\")\n",
        "\n",
        "test_loss = np.mean(test_loss)#.item()\n",
        "\n",
        "print(\"Test Loss: \", test_loss)\n",
        "\n",
        "wr.close()"
      ],
      "metadata": {
        "colab": {
          "base_uri": "https://localhost:8080/"
        },
        "id": "carTLgHYDWD7",
        "outputId": "faa73166-ccda-47e5-aea5-eb8c74294d93"
      },
      "id": "carTLgHYDWD7",
      "execution_count": 54,
      "outputs": [
        {
          "output_type": "stream",
          "name": "stderr",
          "text": [
            "100%|██████████| 500/500 [00:08<00:00, 62.32it/s]"
          ]
        },
        {
          "output_type": "stream",
          "name": "stdout",
          "text": [
            "Test Loss:  0.12736381910927594\n"
          ]
        },
        {
          "output_type": "stream",
          "name": "stderr",
          "text": [
            "\n"
          ]
        }
      ]
    },
    {
      "cell_type": "code",
      "source": [
        "df_test = pd.read_csv(\"/content/drive/MyDrive/data_efficient_hatedetect/data/multilingual/test_approach2.tsv\", sep='\\t', lineterminator='\\n')\n",
        "gt_labels = np.array(df_test['label'])\n",
        "print(classification_report(gt_labels, test_pred, digits=4))"
      ],
      "metadata": {
        "colab": {
          "base_uri": "https://localhost:8080/"
        },
        "id": "lEM4zzQ9DoTu",
        "outputId": "b276a917-1410-4aba-b709-3cf39119c9d8"
      },
      "id": "lEM4zzQ9DoTu",
      "execution_count": 56,
      "outputs": [
        {
          "output_type": "stream",
          "name": "stdout",
          "text": [
            "              precision    recall  f1-score   support\n",
            "\n",
            "           0     0.9961    0.9695    0.9826       262\n",
            "           1     0.9041    0.9851    0.9429        67\n",
            "           2     0.9767    0.9825    0.9796       171\n",
            "\n",
            "    accuracy                         0.9760       500\n",
            "   macro avg     0.9590    0.9790    0.9683       500\n",
            "weighted avg     0.9771    0.9760    0.9762       500\n",
            "\n"
          ]
        }
      ]
    },
    {
      "cell_type": "markdown",
      "source": [
        "TEST - 4 : approach3"
      ],
      "metadata": {
        "id": "243SoyAKwSiG"
      },
      "id": "243SoyAKwSiG"
    },
    {
      "cell_type": "code",
      "source": [
        "\n",
        "lang = 'approach3'\n",
        "test_data = HateData(data_path=\"/content/drive/MyDrive/data_efficient_hatedetect/data/multilingual/\", split='test', lang=lang)\n",
        "test_loader = DataLoader(test_data, batch_size=1, shuffle=False)"
      ],
      "metadata": {
        "id": "mS4TrrZaRDza"
      },
      "id": "mS4TrrZaRDza",
      "execution_count": 41,
      "outputs": []
    },
    {
      "cell_type": "code",
      "source": [
        "model.eval()\n",
        "test_loss = []\n",
        "test_pred = []\n",
        "\n",
        "# wr = open(results_path + \"test_prediction_\" + base_model + \"_\" + lang + \"_process_10k.txt\", \"w\")\n",
        "wr = open(results_path + \"test_prediction_\" + base_model + \"_\" + lang + \".txt\", \"w\")\n",
        "for entry in tqdm(test_loader, total=len(test_data)//test_loader.batch_size, position=0, leave=True):\n",
        "    v_loss, v_pred = evaluate(entry[0], entry[1], entry[2], entry[3], model, mode='test')\n",
        "    test_loss.append(v_loss)\n",
        "    test_pred.append(v_pred)\n",
        "    wr.write(str(v_pred)+\"\\n\")\n",
        "\n",
        "test_loss = np.mean(test_loss)#.item()\n",
        "\n",
        "print(\"Test Loss: \", test_loss)\n",
        "\n",
        "wr.close()\n"
      ],
      "metadata": {
        "id": "WFQTUOxDRJKY",
        "colab": {
          "base_uri": "https://localhost:8080/"
        },
        "outputId": "d820a62a-6c91-44fb-9939-0db55620b751"
      },
      "id": "WFQTUOxDRJKY",
      "execution_count": 42,
      "outputs": [
        {
          "output_type": "stream",
          "name": "stderr",
          "text": [
            "100%|██████████| 500/500 [00:08<00:00, 56.16it/s]"
          ]
        },
        {
          "output_type": "stream",
          "name": "stdout",
          "text": [
            "Test Loss:  0.2159024285096675\n"
          ]
        },
        {
          "output_type": "stream",
          "name": "stderr",
          "text": [
            "\n"
          ]
        }
      ]
    },
    {
      "cell_type": "code",
      "source": [
        "df_test = pd.read_csv(\"/content/drive/MyDrive/data_efficient_hatedetect/data/multilingual/test_approach3.tsv\", sep='\\t', lineterminator='\\n')\n",
        "gt_labels = np.array(df_test['label'])\n",
        "print(classification_report(gt_labels, test_pred, digits=4))"
      ],
      "metadata": {
        "id": "ScRSUwCVRPxO",
        "colab": {
          "base_uri": "https://localhost:8080/"
        },
        "outputId": "7f8dba60-2ace-486c-9644-32a838543581"
      },
      "id": "ScRSUwCVRPxO",
      "execution_count": 43,
      "outputs": [
        {
          "output_type": "stream",
          "name": "stdout",
          "text": [
            "              precision    recall  f1-score   support\n",
            "\n",
            "           0     0.9805    0.9618    0.9711       262\n",
            "           1     0.7590    0.9403    0.8400        67\n",
            "           2     0.9688    0.9064    0.9366       171\n",
            "\n",
            "    accuracy                         0.9400       500\n",
            "   macro avg     0.9028    0.9362    0.9159       500\n",
            "weighted avg     0.9468    0.9400    0.9417       500\n",
            "\n"
          ]
        }
      ]
    },
    {
      "cell_type": "markdown",
      "source": [
        "TEST - 5 : approach4_directional_expectation"
      ],
      "metadata": {
        "id": "-ltpEhCcwqkV"
      },
      "id": "-ltpEhCcwqkV"
    },
    {
      "cell_type": "code",
      "source": [
        "\n",
        "lang = 'approach4_directional_expectation'\n",
        "test_data = HateData(data_path=\"/content/drive/MyDrive/data_efficient_hatedetect/data/multilingual/\", split='test', lang=lang)\n",
        "test_loader = DataLoader(test_data, batch_size=1, shuffle=False)"
      ],
      "metadata": {
        "id": "xEjKiSepxEHe"
      },
      "id": "xEjKiSepxEHe",
      "execution_count": 44,
      "outputs": []
    },
    {
      "cell_type": "code",
      "source": [
        "model.eval()\n",
        "test_loss = []\n",
        "test_pred = []\n",
        "\n",
        "# wr = open(results_path + \"test_prediction_\" + base_model + \"_\" + lang + \"_process_10k.txt\", \"w\")\n",
        "wr = open(results_path + \"test_prediction_\" + base_model + \"_\" + lang + \".txt\", \"w\")\n",
        "for entry in tqdm(test_loader, total=len(test_data)//test_loader.batch_size, position=0, leave=True):\n",
        "    v_loss, v_pred = evaluate(entry[0], entry[1], entry[2], entry[3], model, mode='test')\n",
        "    test_loss.append(v_loss)\n",
        "    test_pred.append(v_pred)\n",
        "    wr.write(str(v_pred)+\"\\n\")\n",
        "\n",
        "test_loss = np.mean(test_loss)#.item()\n",
        "\n",
        "print(\"Test Loss: \", test_loss)\n",
        "\n",
        "wr.close()"
      ],
      "metadata": {
        "colab": {
          "base_uri": "https://localhost:8080/"
        },
        "id": "ZrcGog-Rxsdu",
        "outputId": "18a972b8-8137-4691-d223-059491f6c1b5"
      },
      "id": "ZrcGog-Rxsdu",
      "execution_count": 45,
      "outputs": [
        {
          "output_type": "stream",
          "name": "stderr",
          "text": [
            "100%|██████████| 500/500 [00:08<00:00, 57.54it/s]"
          ]
        },
        {
          "output_type": "stream",
          "name": "stdout",
          "text": [
            "Test Loss:  0.17388737560249864\n"
          ]
        },
        {
          "output_type": "stream",
          "name": "stderr",
          "text": [
            "\n"
          ]
        }
      ]
    },
    {
      "cell_type": "code",
      "source": [
        "df_test = pd.read_csv(\"/content/drive/MyDrive/data_efficient_hatedetect/data/multilingual/test_approach3.tsv\", sep='\\t', lineterminator='\\n')\n",
        "gt_labels = np.array(df_test['label'])\n",
        "print(classification_report(gt_labels, test_pred, digits=4))"
      ],
      "metadata": {
        "colab": {
          "base_uri": "https://localhost:8080/"
        },
        "id": "p8JDetL1017n",
        "outputId": "bf1d4798-048f-4f07-b78e-be35653fa557"
      },
      "id": "p8JDetL1017n",
      "execution_count": 46,
      "outputs": [
        {
          "output_type": "stream",
          "name": "stdout",
          "text": [
            "              precision    recall  f1-score   support\n",
            "\n",
            "           0     0.9662    0.9809    0.9735       262\n",
            "           1     0.9016    0.8209    0.8594        67\n",
            "           2     0.9653    0.9766    0.9709       171\n",
            "\n",
            "    accuracy                         0.9580       500\n",
            "   macro avg     0.9444    0.9261    0.9346       500\n",
            "weighted avg     0.9572    0.9580    0.9573       500\n",
            "\n"
          ]
        }
      ]
    }
  ],
  "metadata": {
    "environment": {
      "kernel": "python3",
      "name": "common-cu110.m89",
      "type": "gcloud",
      "uri": "gcr.io/deeplearning-platform-release/base-cu110:m89"
    },
    "kernelspec": {
      "display_name": "Python 3",
      "name": "python3"
    },
    "language_info": {
      "codemirror_mode": {
        "name": "ipython",
        "version": 3
      },
      "file_extension": ".py",
      "mimetype": "text/x-python",
      "name": "python",
      "nbconvert_exporter": "python",
      "pygments_lexer": "ipython3",
      "version": "3.7.12"
    },
    "colab": {
      "provenance": [],
      "gpuType": "T4"
    },
    "accelerator": "GPU",
    "widgets": {
      "application/vnd.jupyter.widget-state+json": {
        "c00ec19486624d9da0b768a746f3d614": {
          "model_module": "@jupyter-widgets/controls",
          "model_name": "HBoxModel",
          "model_module_version": "1.5.0",
          "state": {
            "_dom_classes": [],
            "_model_module": "@jupyter-widgets/controls",
            "_model_module_version": "1.5.0",
            "_model_name": "HBoxModel",
            "_view_count": null,
            "_view_module": "@jupyter-widgets/controls",
            "_view_module_version": "1.5.0",
            "_view_name": "HBoxView",
            "box_style": "",
            "children": [
              "IPY_MODEL_18ca7f9a29de4d118e40d8b095b01e4f",
              "IPY_MODEL_6cc675506ce44fb793327651a4501937",
              "IPY_MODEL_0f79fb1cecb847dab1598afd82cc72aa"
            ],
            "layout": "IPY_MODEL_2f91e3b2b7ba4523a3a4fcbb6ee7677b"
          }
        },
        "18ca7f9a29de4d118e40d8b095b01e4f": {
          "model_module": "@jupyter-widgets/controls",
          "model_name": "HTMLModel",
          "model_module_version": "1.5.0",
          "state": {
            "_dom_classes": [],
            "_model_module": "@jupyter-widgets/controls",
            "_model_module_version": "1.5.0",
            "_model_name": "HTMLModel",
            "_view_count": null,
            "_view_module": "@jupyter-widgets/controls",
            "_view_module_version": "1.5.0",
            "_view_name": "HTMLView",
            "description": "",
            "description_tooltip": null,
            "layout": "IPY_MODEL_1820f9cb21254ea2866c8e47b18ad6e0",
            "placeholder": "​",
            "style": "IPY_MODEL_79395d6b56ff46db9e51228a4a963d84",
            "value": "config.json: 100%"
          }
        },
        "6cc675506ce44fb793327651a4501937": {
          "model_module": "@jupyter-widgets/controls",
          "model_name": "FloatProgressModel",
          "model_module_version": "1.5.0",
          "state": {
            "_dom_classes": [],
            "_model_module": "@jupyter-widgets/controls",
            "_model_module_version": "1.5.0",
            "_model_name": "FloatProgressModel",
            "_view_count": null,
            "_view_module": "@jupyter-widgets/controls",
            "_view_module_version": "1.5.0",
            "_view_name": "ProgressView",
            "bar_style": "success",
            "description": "",
            "description_tooltip": null,
            "layout": "IPY_MODEL_6132f19cb12d4ff684c1cbeb1f774a24",
            "max": 841,
            "min": 0,
            "orientation": "horizontal",
            "style": "IPY_MODEL_08550a32df32439a9aaef981b73949b6",
            "value": 841
          }
        },
        "0f79fb1cecb847dab1598afd82cc72aa": {
          "model_module": "@jupyter-widgets/controls",
          "model_name": "HTMLModel",
          "model_module_version": "1.5.0",
          "state": {
            "_dom_classes": [],
            "_model_module": "@jupyter-widgets/controls",
            "_model_module_version": "1.5.0",
            "_model_name": "HTMLModel",
            "_view_count": null,
            "_view_module": "@jupyter-widgets/controls",
            "_view_module_version": "1.5.0",
            "_view_name": "HTMLView",
            "description": "",
            "description_tooltip": null,
            "layout": "IPY_MODEL_90851a3dd6a44a0fa520505ba5e36fd7",
            "placeholder": "​",
            "style": "IPY_MODEL_bce8c549d360453aa9959965e0d69f1a",
            "value": " 841/841 [00:00&lt;00:00, 50.4kB/s]"
          }
        },
        "2f91e3b2b7ba4523a3a4fcbb6ee7677b": {
          "model_module": "@jupyter-widgets/base",
          "model_name": "LayoutModel",
          "model_module_version": "1.2.0",
          "state": {
            "_model_module": "@jupyter-widgets/base",
            "_model_module_version": "1.2.0",
            "_model_name": "LayoutModel",
            "_view_count": null,
            "_view_module": "@jupyter-widgets/base",
            "_view_module_version": "1.2.0",
            "_view_name": "LayoutView",
            "align_content": null,
            "align_items": null,
            "align_self": null,
            "border": null,
            "bottom": null,
            "display": null,
            "flex": null,
            "flex_flow": null,
            "grid_area": null,
            "grid_auto_columns": null,
            "grid_auto_flow": null,
            "grid_auto_rows": null,
            "grid_column": null,
            "grid_gap": null,
            "grid_row": null,
            "grid_template_areas": null,
            "grid_template_columns": null,
            "grid_template_rows": null,
            "height": null,
            "justify_content": null,
            "justify_items": null,
            "left": null,
            "margin": null,
            "max_height": null,
            "max_width": null,
            "min_height": null,
            "min_width": null,
            "object_fit": null,
            "object_position": null,
            "order": null,
            "overflow": null,
            "overflow_x": null,
            "overflow_y": null,
            "padding": null,
            "right": null,
            "top": null,
            "visibility": null,
            "width": null
          }
        },
        "1820f9cb21254ea2866c8e47b18ad6e0": {
          "model_module": "@jupyter-widgets/base",
          "model_name": "LayoutModel",
          "model_module_version": "1.2.0",
          "state": {
            "_model_module": "@jupyter-widgets/base",
            "_model_module_version": "1.2.0",
            "_model_name": "LayoutModel",
            "_view_count": null,
            "_view_module": "@jupyter-widgets/base",
            "_view_module_version": "1.2.0",
            "_view_name": "LayoutView",
            "align_content": null,
            "align_items": null,
            "align_self": null,
            "border": null,
            "bottom": null,
            "display": null,
            "flex": null,
            "flex_flow": null,
            "grid_area": null,
            "grid_auto_columns": null,
            "grid_auto_flow": null,
            "grid_auto_rows": null,
            "grid_column": null,
            "grid_gap": null,
            "grid_row": null,
            "grid_template_areas": null,
            "grid_template_columns": null,
            "grid_template_rows": null,
            "height": null,
            "justify_content": null,
            "justify_items": null,
            "left": null,
            "margin": null,
            "max_height": null,
            "max_width": null,
            "min_height": null,
            "min_width": null,
            "object_fit": null,
            "object_position": null,
            "order": null,
            "overflow": null,
            "overflow_x": null,
            "overflow_y": null,
            "padding": null,
            "right": null,
            "top": null,
            "visibility": null,
            "width": null
          }
        },
        "79395d6b56ff46db9e51228a4a963d84": {
          "model_module": "@jupyter-widgets/controls",
          "model_name": "DescriptionStyleModel",
          "model_module_version": "1.5.0",
          "state": {
            "_model_module": "@jupyter-widgets/controls",
            "_model_module_version": "1.5.0",
            "_model_name": "DescriptionStyleModel",
            "_view_count": null,
            "_view_module": "@jupyter-widgets/base",
            "_view_module_version": "1.2.0",
            "_view_name": "StyleView",
            "description_width": ""
          }
        },
        "6132f19cb12d4ff684c1cbeb1f774a24": {
          "model_module": "@jupyter-widgets/base",
          "model_name": "LayoutModel",
          "model_module_version": "1.2.0",
          "state": {
            "_model_module": "@jupyter-widgets/base",
            "_model_module_version": "1.2.0",
            "_model_name": "LayoutModel",
            "_view_count": null,
            "_view_module": "@jupyter-widgets/base",
            "_view_module_version": "1.2.0",
            "_view_name": "LayoutView",
            "align_content": null,
            "align_items": null,
            "align_self": null,
            "border": null,
            "bottom": null,
            "display": null,
            "flex": null,
            "flex_flow": null,
            "grid_area": null,
            "grid_auto_columns": null,
            "grid_auto_flow": null,
            "grid_auto_rows": null,
            "grid_column": null,
            "grid_gap": null,
            "grid_row": null,
            "grid_template_areas": null,
            "grid_template_columns": null,
            "grid_template_rows": null,
            "height": null,
            "justify_content": null,
            "justify_items": null,
            "left": null,
            "margin": null,
            "max_height": null,
            "max_width": null,
            "min_height": null,
            "min_width": null,
            "object_fit": null,
            "object_position": null,
            "order": null,
            "overflow": null,
            "overflow_x": null,
            "overflow_y": null,
            "padding": null,
            "right": null,
            "top": null,
            "visibility": null,
            "width": null
          }
        },
        "08550a32df32439a9aaef981b73949b6": {
          "model_module": "@jupyter-widgets/controls",
          "model_name": "ProgressStyleModel",
          "model_module_version": "1.5.0",
          "state": {
            "_model_module": "@jupyter-widgets/controls",
            "_model_module_version": "1.5.0",
            "_model_name": "ProgressStyleModel",
            "_view_count": null,
            "_view_module": "@jupyter-widgets/base",
            "_view_module_version": "1.2.0",
            "_view_name": "StyleView",
            "bar_color": null,
            "description_width": ""
          }
        },
        "90851a3dd6a44a0fa520505ba5e36fd7": {
          "model_module": "@jupyter-widgets/base",
          "model_name": "LayoutModel",
          "model_module_version": "1.2.0",
          "state": {
            "_model_module": "@jupyter-widgets/base",
            "_model_module_version": "1.2.0",
            "_model_name": "LayoutModel",
            "_view_count": null,
            "_view_module": "@jupyter-widgets/base",
            "_view_module_version": "1.2.0",
            "_view_name": "LayoutView",
            "align_content": null,
            "align_items": null,
            "align_self": null,
            "border": null,
            "bottom": null,
            "display": null,
            "flex": null,
            "flex_flow": null,
            "grid_area": null,
            "grid_auto_columns": null,
            "grid_auto_flow": null,
            "grid_auto_rows": null,
            "grid_column": null,
            "grid_gap": null,
            "grid_row": null,
            "grid_template_areas": null,
            "grid_template_columns": null,
            "grid_template_rows": null,
            "height": null,
            "justify_content": null,
            "justify_items": null,
            "left": null,
            "margin": null,
            "max_height": null,
            "max_width": null,
            "min_height": null,
            "min_width": null,
            "object_fit": null,
            "object_position": null,
            "order": null,
            "overflow": null,
            "overflow_x": null,
            "overflow_y": null,
            "padding": null,
            "right": null,
            "top": null,
            "visibility": null,
            "width": null
          }
        },
        "bce8c549d360453aa9959965e0d69f1a": {
          "model_module": "@jupyter-widgets/controls",
          "model_name": "DescriptionStyleModel",
          "model_module_version": "1.5.0",
          "state": {
            "_model_module": "@jupyter-widgets/controls",
            "_model_module_version": "1.5.0",
            "_model_name": "DescriptionStyleModel",
            "_view_count": null,
            "_view_module": "@jupyter-widgets/base",
            "_view_module_version": "1.2.0",
            "_view_name": "StyleView",
            "description_width": ""
          }
        },
        "01d32e3c75424f54bb0284ae51d66bf1": {
          "model_module": "@jupyter-widgets/controls",
          "model_name": "HBoxModel",
          "model_module_version": "1.5.0",
          "state": {
            "_dom_classes": [],
            "_model_module": "@jupyter-widgets/controls",
            "_model_module_version": "1.5.0",
            "_model_name": "HBoxModel",
            "_view_count": null,
            "_view_module": "@jupyter-widgets/controls",
            "_view_module_version": "1.5.0",
            "_view_name": "HBoxView",
            "box_style": "",
            "children": [
              "IPY_MODEL_77e7e072db8e4a48b681d729306d8776",
              "IPY_MODEL_7cc3bd42c4d44fe2b41b085336c1df16",
              "IPY_MODEL_0dc588b0397740559c72845895343ebb"
            ],
            "layout": "IPY_MODEL_b3b728a15b524f1484fe8988f26dfcc7"
          }
        },
        "77e7e072db8e4a48b681d729306d8776": {
          "model_module": "@jupyter-widgets/controls",
          "model_name": "HTMLModel",
          "model_module_version": "1.5.0",
          "state": {
            "_dom_classes": [],
            "_model_module": "@jupyter-widgets/controls",
            "_model_module_version": "1.5.0",
            "_model_name": "HTMLModel",
            "_view_count": null,
            "_view_module": "@jupyter-widgets/controls",
            "_view_module_version": "1.5.0",
            "_view_name": "HTMLView",
            "description": "",
            "description_tooltip": null,
            "layout": "IPY_MODEL_67dcdac78c9e40db8dcccdf7717592ae",
            "placeholder": "​",
            "style": "IPY_MODEL_c383393a63c143378b819f76734f8885",
            "value": "sentencepiece.bpe.model: 100%"
          }
        },
        "7cc3bd42c4d44fe2b41b085336c1df16": {
          "model_module": "@jupyter-widgets/controls",
          "model_name": "FloatProgressModel",
          "model_module_version": "1.5.0",
          "state": {
            "_dom_classes": [],
            "_model_module": "@jupyter-widgets/controls",
            "_model_module_version": "1.5.0",
            "_model_name": "FloatProgressModel",
            "_view_count": null,
            "_view_module": "@jupyter-widgets/controls",
            "_view_module_version": "1.5.0",
            "_view_name": "ProgressView",
            "bar_style": "success",
            "description": "",
            "description_tooltip": null,
            "layout": "IPY_MODEL_e86be6f9ba90448e9e4171d44d7dba78",
            "max": 5069051,
            "min": 0,
            "orientation": "horizontal",
            "style": "IPY_MODEL_49f49e927b394fe9826cd088cb266e34",
            "value": 5069051
          }
        },
        "0dc588b0397740559c72845895343ebb": {
          "model_module": "@jupyter-widgets/controls",
          "model_name": "HTMLModel",
          "model_module_version": "1.5.0",
          "state": {
            "_dom_classes": [],
            "_model_module": "@jupyter-widgets/controls",
            "_model_module_version": "1.5.0",
            "_model_name": "HTMLModel",
            "_view_count": null,
            "_view_module": "@jupyter-widgets/controls",
            "_view_module_version": "1.5.0",
            "_view_name": "HTMLView",
            "description": "",
            "description_tooltip": null,
            "layout": "IPY_MODEL_4b5f8e78fd7e473ea1474b689e9b97ad",
            "placeholder": "​",
            "style": "IPY_MODEL_c051870dc90543cd8ef761d1e945c1c1",
            "value": " 5.07M/5.07M [00:00&lt;00:00, 22.9MB/s]"
          }
        },
        "b3b728a15b524f1484fe8988f26dfcc7": {
          "model_module": "@jupyter-widgets/base",
          "model_name": "LayoutModel",
          "model_module_version": "1.2.0",
          "state": {
            "_model_module": "@jupyter-widgets/base",
            "_model_module_version": "1.2.0",
            "_model_name": "LayoutModel",
            "_view_count": null,
            "_view_module": "@jupyter-widgets/base",
            "_view_module_version": "1.2.0",
            "_view_name": "LayoutView",
            "align_content": null,
            "align_items": null,
            "align_self": null,
            "border": null,
            "bottom": null,
            "display": null,
            "flex": null,
            "flex_flow": null,
            "grid_area": null,
            "grid_auto_columns": null,
            "grid_auto_flow": null,
            "grid_auto_rows": null,
            "grid_column": null,
            "grid_gap": null,
            "grid_row": null,
            "grid_template_areas": null,
            "grid_template_columns": null,
            "grid_template_rows": null,
            "height": null,
            "justify_content": null,
            "justify_items": null,
            "left": null,
            "margin": null,
            "max_height": null,
            "max_width": null,
            "min_height": null,
            "min_width": null,
            "object_fit": null,
            "object_position": null,
            "order": null,
            "overflow": null,
            "overflow_x": null,
            "overflow_y": null,
            "padding": null,
            "right": null,
            "top": null,
            "visibility": null,
            "width": null
          }
        },
        "67dcdac78c9e40db8dcccdf7717592ae": {
          "model_module": "@jupyter-widgets/base",
          "model_name": "LayoutModel",
          "model_module_version": "1.2.0",
          "state": {
            "_model_module": "@jupyter-widgets/base",
            "_model_module_version": "1.2.0",
            "_model_name": "LayoutModel",
            "_view_count": null,
            "_view_module": "@jupyter-widgets/base",
            "_view_module_version": "1.2.0",
            "_view_name": "LayoutView",
            "align_content": null,
            "align_items": null,
            "align_self": null,
            "border": null,
            "bottom": null,
            "display": null,
            "flex": null,
            "flex_flow": null,
            "grid_area": null,
            "grid_auto_columns": null,
            "grid_auto_flow": null,
            "grid_auto_rows": null,
            "grid_column": null,
            "grid_gap": null,
            "grid_row": null,
            "grid_template_areas": null,
            "grid_template_columns": null,
            "grid_template_rows": null,
            "height": null,
            "justify_content": null,
            "justify_items": null,
            "left": null,
            "margin": null,
            "max_height": null,
            "max_width": null,
            "min_height": null,
            "min_width": null,
            "object_fit": null,
            "object_position": null,
            "order": null,
            "overflow": null,
            "overflow_x": null,
            "overflow_y": null,
            "padding": null,
            "right": null,
            "top": null,
            "visibility": null,
            "width": null
          }
        },
        "c383393a63c143378b819f76734f8885": {
          "model_module": "@jupyter-widgets/controls",
          "model_name": "DescriptionStyleModel",
          "model_module_version": "1.5.0",
          "state": {
            "_model_module": "@jupyter-widgets/controls",
            "_model_module_version": "1.5.0",
            "_model_name": "DescriptionStyleModel",
            "_view_count": null,
            "_view_module": "@jupyter-widgets/base",
            "_view_module_version": "1.2.0",
            "_view_name": "StyleView",
            "description_width": ""
          }
        },
        "e86be6f9ba90448e9e4171d44d7dba78": {
          "model_module": "@jupyter-widgets/base",
          "model_name": "LayoutModel",
          "model_module_version": "1.2.0",
          "state": {
            "_model_module": "@jupyter-widgets/base",
            "_model_module_version": "1.2.0",
            "_model_name": "LayoutModel",
            "_view_count": null,
            "_view_module": "@jupyter-widgets/base",
            "_view_module_version": "1.2.0",
            "_view_name": "LayoutView",
            "align_content": null,
            "align_items": null,
            "align_self": null,
            "border": null,
            "bottom": null,
            "display": null,
            "flex": null,
            "flex_flow": null,
            "grid_area": null,
            "grid_auto_columns": null,
            "grid_auto_flow": null,
            "grid_auto_rows": null,
            "grid_column": null,
            "grid_gap": null,
            "grid_row": null,
            "grid_template_areas": null,
            "grid_template_columns": null,
            "grid_template_rows": null,
            "height": null,
            "justify_content": null,
            "justify_items": null,
            "left": null,
            "margin": null,
            "max_height": null,
            "max_width": null,
            "min_height": null,
            "min_width": null,
            "object_fit": null,
            "object_position": null,
            "order": null,
            "overflow": null,
            "overflow_x": null,
            "overflow_y": null,
            "padding": null,
            "right": null,
            "top": null,
            "visibility": null,
            "width": null
          }
        },
        "49f49e927b394fe9826cd088cb266e34": {
          "model_module": "@jupyter-widgets/controls",
          "model_name": "ProgressStyleModel",
          "model_module_version": "1.5.0",
          "state": {
            "_model_module": "@jupyter-widgets/controls",
            "_model_module_version": "1.5.0",
            "_model_name": "ProgressStyleModel",
            "_view_count": null,
            "_view_module": "@jupyter-widgets/base",
            "_view_module_version": "1.2.0",
            "_view_name": "StyleView",
            "bar_color": null,
            "description_width": ""
          }
        },
        "4b5f8e78fd7e473ea1474b689e9b97ad": {
          "model_module": "@jupyter-widgets/base",
          "model_name": "LayoutModel",
          "model_module_version": "1.2.0",
          "state": {
            "_model_module": "@jupyter-widgets/base",
            "_model_module_version": "1.2.0",
            "_model_name": "LayoutModel",
            "_view_count": null,
            "_view_module": "@jupyter-widgets/base",
            "_view_module_version": "1.2.0",
            "_view_name": "LayoutView",
            "align_content": null,
            "align_items": null,
            "align_self": null,
            "border": null,
            "bottom": null,
            "display": null,
            "flex": null,
            "flex_flow": null,
            "grid_area": null,
            "grid_auto_columns": null,
            "grid_auto_flow": null,
            "grid_auto_rows": null,
            "grid_column": null,
            "grid_gap": null,
            "grid_row": null,
            "grid_template_areas": null,
            "grid_template_columns": null,
            "grid_template_rows": null,
            "height": null,
            "justify_content": null,
            "justify_items": null,
            "left": null,
            "margin": null,
            "max_height": null,
            "max_width": null,
            "min_height": null,
            "min_width": null,
            "object_fit": null,
            "object_position": null,
            "order": null,
            "overflow": null,
            "overflow_x": null,
            "overflow_y": null,
            "padding": null,
            "right": null,
            "top": null,
            "visibility": null,
            "width": null
          }
        },
        "c051870dc90543cd8ef761d1e945c1c1": {
          "model_module": "@jupyter-widgets/controls",
          "model_name": "DescriptionStyleModel",
          "model_module_version": "1.5.0",
          "state": {
            "_model_module": "@jupyter-widgets/controls",
            "_model_module_version": "1.5.0",
            "_model_name": "DescriptionStyleModel",
            "_view_count": null,
            "_view_module": "@jupyter-widgets/base",
            "_view_module_version": "1.2.0",
            "_view_name": "StyleView",
            "description_width": ""
          }
        },
        "f0d31ccd2df94b0b9ace0802c7fca4ea": {
          "model_module": "@jupyter-widgets/controls",
          "model_name": "HBoxModel",
          "model_module_version": "1.5.0",
          "state": {
            "_dom_classes": [],
            "_model_module": "@jupyter-widgets/controls",
            "_model_module_version": "1.5.0",
            "_model_name": "HBoxModel",
            "_view_count": null,
            "_view_module": "@jupyter-widgets/controls",
            "_view_module_version": "1.5.0",
            "_view_name": "HBoxView",
            "box_style": "",
            "children": [
              "IPY_MODEL_da15a9320d8642dfbd3e3fdbcf9ea3c1",
              "IPY_MODEL_f478bd48a94f4955a6f9d382d2dd0ee7",
              "IPY_MODEL_a00ba9ad2a8643e8adb2e840b36ba659"
            ],
            "layout": "IPY_MODEL_5906ac0b6eb94fd7ab69713b1318d9ab"
          }
        },
        "da15a9320d8642dfbd3e3fdbcf9ea3c1": {
          "model_module": "@jupyter-widgets/controls",
          "model_name": "HTMLModel",
          "model_module_version": "1.5.0",
          "state": {
            "_dom_classes": [],
            "_model_module": "@jupyter-widgets/controls",
            "_model_module_version": "1.5.0",
            "_model_name": "HTMLModel",
            "_view_count": null,
            "_view_module": "@jupyter-widgets/controls",
            "_view_module_version": "1.5.0",
            "_view_name": "HTMLView",
            "description": "",
            "description_tooltip": null,
            "layout": "IPY_MODEL_620731596a4d4ae3b7c5d61e273324bf",
            "placeholder": "​",
            "style": "IPY_MODEL_4c7e19ad777046a1a589ba6bc774c502",
            "value": "special_tokens_map.json: 100%"
          }
        },
        "f478bd48a94f4955a6f9d382d2dd0ee7": {
          "model_module": "@jupyter-widgets/controls",
          "model_name": "FloatProgressModel",
          "model_module_version": "1.5.0",
          "state": {
            "_dom_classes": [],
            "_model_module": "@jupyter-widgets/controls",
            "_model_module_version": "1.5.0",
            "_model_name": "FloatProgressModel",
            "_view_count": null,
            "_view_module": "@jupyter-widgets/controls",
            "_view_module_version": "1.5.0",
            "_view_name": "ProgressView",
            "bar_style": "success",
            "description": "",
            "description_tooltip": null,
            "layout": "IPY_MODEL_d16b4d81ee204bb3b828ada6bab5b738",
            "max": 150,
            "min": 0,
            "orientation": "horizontal",
            "style": "IPY_MODEL_9436cfc92cb7478db7ef1d45ba491611",
            "value": 150
          }
        },
        "a00ba9ad2a8643e8adb2e840b36ba659": {
          "model_module": "@jupyter-widgets/controls",
          "model_name": "HTMLModel",
          "model_module_version": "1.5.0",
          "state": {
            "_dom_classes": [],
            "_model_module": "@jupyter-widgets/controls",
            "_model_module_version": "1.5.0",
            "_model_name": "HTMLModel",
            "_view_count": null,
            "_view_module": "@jupyter-widgets/controls",
            "_view_module_version": "1.5.0",
            "_view_name": "HTMLView",
            "description": "",
            "description_tooltip": null,
            "layout": "IPY_MODEL_7e68ae35bd354a6aaf2c517e18fb001d",
            "placeholder": "​",
            "style": "IPY_MODEL_482505d279614b8ab783d55750e4cfb9",
            "value": " 150/150 [00:00&lt;00:00, 8.99kB/s]"
          }
        },
        "5906ac0b6eb94fd7ab69713b1318d9ab": {
          "model_module": "@jupyter-widgets/base",
          "model_name": "LayoutModel",
          "model_module_version": "1.2.0",
          "state": {
            "_model_module": "@jupyter-widgets/base",
            "_model_module_version": "1.2.0",
            "_model_name": "LayoutModel",
            "_view_count": null,
            "_view_module": "@jupyter-widgets/base",
            "_view_module_version": "1.2.0",
            "_view_name": "LayoutView",
            "align_content": null,
            "align_items": null,
            "align_self": null,
            "border": null,
            "bottom": null,
            "display": null,
            "flex": null,
            "flex_flow": null,
            "grid_area": null,
            "grid_auto_columns": null,
            "grid_auto_flow": null,
            "grid_auto_rows": null,
            "grid_column": null,
            "grid_gap": null,
            "grid_row": null,
            "grid_template_areas": null,
            "grid_template_columns": null,
            "grid_template_rows": null,
            "height": null,
            "justify_content": null,
            "justify_items": null,
            "left": null,
            "margin": null,
            "max_height": null,
            "max_width": null,
            "min_height": null,
            "min_width": null,
            "object_fit": null,
            "object_position": null,
            "order": null,
            "overflow": null,
            "overflow_x": null,
            "overflow_y": null,
            "padding": null,
            "right": null,
            "top": null,
            "visibility": null,
            "width": null
          }
        },
        "620731596a4d4ae3b7c5d61e273324bf": {
          "model_module": "@jupyter-widgets/base",
          "model_name": "LayoutModel",
          "model_module_version": "1.2.0",
          "state": {
            "_model_module": "@jupyter-widgets/base",
            "_model_module_version": "1.2.0",
            "_model_name": "LayoutModel",
            "_view_count": null,
            "_view_module": "@jupyter-widgets/base",
            "_view_module_version": "1.2.0",
            "_view_name": "LayoutView",
            "align_content": null,
            "align_items": null,
            "align_self": null,
            "border": null,
            "bottom": null,
            "display": null,
            "flex": null,
            "flex_flow": null,
            "grid_area": null,
            "grid_auto_columns": null,
            "grid_auto_flow": null,
            "grid_auto_rows": null,
            "grid_column": null,
            "grid_gap": null,
            "grid_row": null,
            "grid_template_areas": null,
            "grid_template_columns": null,
            "grid_template_rows": null,
            "height": null,
            "justify_content": null,
            "justify_items": null,
            "left": null,
            "margin": null,
            "max_height": null,
            "max_width": null,
            "min_height": null,
            "min_width": null,
            "object_fit": null,
            "object_position": null,
            "order": null,
            "overflow": null,
            "overflow_x": null,
            "overflow_y": null,
            "padding": null,
            "right": null,
            "top": null,
            "visibility": null,
            "width": null
          }
        },
        "4c7e19ad777046a1a589ba6bc774c502": {
          "model_module": "@jupyter-widgets/controls",
          "model_name": "DescriptionStyleModel",
          "model_module_version": "1.5.0",
          "state": {
            "_model_module": "@jupyter-widgets/controls",
            "_model_module_version": "1.5.0",
            "_model_name": "DescriptionStyleModel",
            "_view_count": null,
            "_view_module": "@jupyter-widgets/base",
            "_view_module_version": "1.2.0",
            "_view_name": "StyleView",
            "description_width": ""
          }
        },
        "d16b4d81ee204bb3b828ada6bab5b738": {
          "model_module": "@jupyter-widgets/base",
          "model_name": "LayoutModel",
          "model_module_version": "1.2.0",
          "state": {
            "_model_module": "@jupyter-widgets/base",
            "_model_module_version": "1.2.0",
            "_model_name": "LayoutModel",
            "_view_count": null,
            "_view_module": "@jupyter-widgets/base",
            "_view_module_version": "1.2.0",
            "_view_name": "LayoutView",
            "align_content": null,
            "align_items": null,
            "align_self": null,
            "border": null,
            "bottom": null,
            "display": null,
            "flex": null,
            "flex_flow": null,
            "grid_area": null,
            "grid_auto_columns": null,
            "grid_auto_flow": null,
            "grid_auto_rows": null,
            "grid_column": null,
            "grid_gap": null,
            "grid_row": null,
            "grid_template_areas": null,
            "grid_template_columns": null,
            "grid_template_rows": null,
            "height": null,
            "justify_content": null,
            "justify_items": null,
            "left": null,
            "margin": null,
            "max_height": null,
            "max_width": null,
            "min_height": null,
            "min_width": null,
            "object_fit": null,
            "object_position": null,
            "order": null,
            "overflow": null,
            "overflow_x": null,
            "overflow_y": null,
            "padding": null,
            "right": null,
            "top": null,
            "visibility": null,
            "width": null
          }
        },
        "9436cfc92cb7478db7ef1d45ba491611": {
          "model_module": "@jupyter-widgets/controls",
          "model_name": "ProgressStyleModel",
          "model_module_version": "1.5.0",
          "state": {
            "_model_module": "@jupyter-widgets/controls",
            "_model_module_version": "1.5.0",
            "_model_name": "ProgressStyleModel",
            "_view_count": null,
            "_view_module": "@jupyter-widgets/base",
            "_view_module_version": "1.2.0",
            "_view_name": "StyleView",
            "bar_color": null,
            "description_width": ""
          }
        },
        "7e68ae35bd354a6aaf2c517e18fb001d": {
          "model_module": "@jupyter-widgets/base",
          "model_name": "LayoutModel",
          "model_module_version": "1.2.0",
          "state": {
            "_model_module": "@jupyter-widgets/base",
            "_model_module_version": "1.2.0",
            "_model_name": "LayoutModel",
            "_view_count": null,
            "_view_module": "@jupyter-widgets/base",
            "_view_module_version": "1.2.0",
            "_view_name": "LayoutView",
            "align_content": null,
            "align_items": null,
            "align_self": null,
            "border": null,
            "bottom": null,
            "display": null,
            "flex": null,
            "flex_flow": null,
            "grid_area": null,
            "grid_auto_columns": null,
            "grid_auto_flow": null,
            "grid_auto_rows": null,
            "grid_column": null,
            "grid_gap": null,
            "grid_row": null,
            "grid_template_areas": null,
            "grid_template_columns": null,
            "grid_template_rows": null,
            "height": null,
            "justify_content": null,
            "justify_items": null,
            "left": null,
            "margin": null,
            "max_height": null,
            "max_width": null,
            "min_height": null,
            "min_width": null,
            "object_fit": null,
            "object_position": null,
            "order": null,
            "overflow": null,
            "overflow_x": null,
            "overflow_y": null,
            "padding": null,
            "right": null,
            "top": null,
            "visibility": null,
            "width": null
          }
        },
        "482505d279614b8ab783d55750e4cfb9": {
          "model_module": "@jupyter-widgets/controls",
          "model_name": "DescriptionStyleModel",
          "model_module_version": "1.5.0",
          "state": {
            "_model_module": "@jupyter-widgets/controls",
            "_model_module_version": "1.5.0",
            "_model_name": "DescriptionStyleModel",
            "_view_count": null,
            "_view_module": "@jupyter-widgets/base",
            "_view_module_version": "1.2.0",
            "_view_name": "StyleView",
            "description_width": ""
          }
        },
        "4747b2e01647468baada64cc0d51088a": {
          "model_module": "@jupyter-widgets/controls",
          "model_name": "HBoxModel",
          "model_module_version": "1.5.0",
          "state": {
            "_dom_classes": [],
            "_model_module": "@jupyter-widgets/controls",
            "_model_module_version": "1.5.0",
            "_model_name": "HBoxModel",
            "_view_count": null,
            "_view_module": "@jupyter-widgets/controls",
            "_view_module_version": "1.5.0",
            "_view_name": "HBoxView",
            "box_style": "",
            "children": [
              "IPY_MODEL_2598c56a3ab945df9b4c696a3bdb32c4",
              "IPY_MODEL_7fc9e9a4bb994d2fa4c6bb1ef47f948d",
              "IPY_MODEL_fe0b74415b0a460d9e8714719ee97348"
            ],
            "layout": "IPY_MODEL_43f99179db0c4982a37806747e3a13c0"
          }
        },
        "2598c56a3ab945df9b4c696a3bdb32c4": {
          "model_module": "@jupyter-widgets/controls",
          "model_name": "HTMLModel",
          "model_module_version": "1.5.0",
          "state": {
            "_dom_classes": [],
            "_model_module": "@jupyter-widgets/controls",
            "_model_module_version": "1.5.0",
            "_model_name": "HTMLModel",
            "_view_count": null,
            "_view_module": "@jupyter-widgets/controls",
            "_view_module_version": "1.5.0",
            "_view_name": "HTMLView",
            "description": "",
            "description_tooltip": null,
            "layout": "IPY_MODEL_5c6f97e6ffcb446ca8db290918dcc5f7",
            "placeholder": "​",
            "style": "IPY_MODEL_056a79e641c5454ba3e295c82636ed37",
            "value": "pytorch_model.bin: 100%"
          }
        },
        "7fc9e9a4bb994d2fa4c6bb1ef47f948d": {
          "model_module": "@jupyter-widgets/controls",
          "model_name": "FloatProgressModel",
          "model_module_version": "1.5.0",
          "state": {
            "_dom_classes": [],
            "_model_module": "@jupyter-widgets/controls",
            "_model_module_version": "1.5.0",
            "_model_name": "FloatProgressModel",
            "_view_count": null,
            "_view_module": "@jupyter-widgets/controls",
            "_view_module_version": "1.5.0",
            "_view_name": "ProgressView",
            "bar_style": "success",
            "description": "",
            "description_tooltip": null,
            "layout": "IPY_MODEL_539614872040452da8ff4a1aab78cb5a",
            "max": 1112271561,
            "min": 0,
            "orientation": "horizontal",
            "style": "IPY_MODEL_113b3002631041cbb431bc45386c46b1",
            "value": 1112271561
          }
        },
        "fe0b74415b0a460d9e8714719ee97348": {
          "model_module": "@jupyter-widgets/controls",
          "model_name": "HTMLModel",
          "model_module_version": "1.5.0",
          "state": {
            "_dom_classes": [],
            "_model_module": "@jupyter-widgets/controls",
            "_model_module_version": "1.5.0",
            "_model_name": "HTMLModel",
            "_view_count": null,
            "_view_module": "@jupyter-widgets/controls",
            "_view_module_version": "1.5.0",
            "_view_name": "HTMLView",
            "description": "",
            "description_tooltip": null,
            "layout": "IPY_MODEL_267940bc98964711a1a58b0c133864fb",
            "placeholder": "​",
            "style": "IPY_MODEL_bb1d2172175f48b5ae3c187f33d99d14",
            "value": " 1.11G/1.11G [00:08&lt;00:00, 118MB/s]"
          }
        },
        "43f99179db0c4982a37806747e3a13c0": {
          "model_module": "@jupyter-widgets/base",
          "model_name": "LayoutModel",
          "model_module_version": "1.2.0",
          "state": {
            "_model_module": "@jupyter-widgets/base",
            "_model_module_version": "1.2.0",
            "_model_name": "LayoutModel",
            "_view_count": null,
            "_view_module": "@jupyter-widgets/base",
            "_view_module_version": "1.2.0",
            "_view_name": "LayoutView",
            "align_content": null,
            "align_items": null,
            "align_self": null,
            "border": null,
            "bottom": null,
            "display": null,
            "flex": null,
            "flex_flow": null,
            "grid_area": null,
            "grid_auto_columns": null,
            "grid_auto_flow": null,
            "grid_auto_rows": null,
            "grid_column": null,
            "grid_gap": null,
            "grid_row": null,
            "grid_template_areas": null,
            "grid_template_columns": null,
            "grid_template_rows": null,
            "height": null,
            "justify_content": null,
            "justify_items": null,
            "left": null,
            "margin": null,
            "max_height": null,
            "max_width": null,
            "min_height": null,
            "min_width": null,
            "object_fit": null,
            "object_position": null,
            "order": null,
            "overflow": null,
            "overflow_x": null,
            "overflow_y": null,
            "padding": null,
            "right": null,
            "top": null,
            "visibility": null,
            "width": null
          }
        },
        "5c6f97e6ffcb446ca8db290918dcc5f7": {
          "model_module": "@jupyter-widgets/base",
          "model_name": "LayoutModel",
          "model_module_version": "1.2.0",
          "state": {
            "_model_module": "@jupyter-widgets/base",
            "_model_module_version": "1.2.0",
            "_model_name": "LayoutModel",
            "_view_count": null,
            "_view_module": "@jupyter-widgets/base",
            "_view_module_version": "1.2.0",
            "_view_name": "LayoutView",
            "align_content": null,
            "align_items": null,
            "align_self": null,
            "border": null,
            "bottom": null,
            "display": null,
            "flex": null,
            "flex_flow": null,
            "grid_area": null,
            "grid_auto_columns": null,
            "grid_auto_flow": null,
            "grid_auto_rows": null,
            "grid_column": null,
            "grid_gap": null,
            "grid_row": null,
            "grid_template_areas": null,
            "grid_template_columns": null,
            "grid_template_rows": null,
            "height": null,
            "justify_content": null,
            "justify_items": null,
            "left": null,
            "margin": null,
            "max_height": null,
            "max_width": null,
            "min_height": null,
            "min_width": null,
            "object_fit": null,
            "object_position": null,
            "order": null,
            "overflow": null,
            "overflow_x": null,
            "overflow_y": null,
            "padding": null,
            "right": null,
            "top": null,
            "visibility": null,
            "width": null
          }
        },
        "056a79e641c5454ba3e295c82636ed37": {
          "model_module": "@jupyter-widgets/controls",
          "model_name": "DescriptionStyleModel",
          "model_module_version": "1.5.0",
          "state": {
            "_model_module": "@jupyter-widgets/controls",
            "_model_module_version": "1.5.0",
            "_model_name": "DescriptionStyleModel",
            "_view_count": null,
            "_view_module": "@jupyter-widgets/base",
            "_view_module_version": "1.2.0",
            "_view_name": "StyleView",
            "description_width": ""
          }
        },
        "539614872040452da8ff4a1aab78cb5a": {
          "model_module": "@jupyter-widgets/base",
          "model_name": "LayoutModel",
          "model_module_version": "1.2.0",
          "state": {
            "_model_module": "@jupyter-widgets/base",
            "_model_module_version": "1.2.0",
            "_model_name": "LayoutModel",
            "_view_count": null,
            "_view_module": "@jupyter-widgets/base",
            "_view_module_version": "1.2.0",
            "_view_name": "LayoutView",
            "align_content": null,
            "align_items": null,
            "align_self": null,
            "border": null,
            "bottom": null,
            "display": null,
            "flex": null,
            "flex_flow": null,
            "grid_area": null,
            "grid_auto_columns": null,
            "grid_auto_flow": null,
            "grid_auto_rows": null,
            "grid_column": null,
            "grid_gap": null,
            "grid_row": null,
            "grid_template_areas": null,
            "grid_template_columns": null,
            "grid_template_rows": null,
            "height": null,
            "justify_content": null,
            "justify_items": null,
            "left": null,
            "margin": null,
            "max_height": null,
            "max_width": null,
            "min_height": null,
            "min_width": null,
            "object_fit": null,
            "object_position": null,
            "order": null,
            "overflow": null,
            "overflow_x": null,
            "overflow_y": null,
            "padding": null,
            "right": null,
            "top": null,
            "visibility": null,
            "width": null
          }
        },
        "113b3002631041cbb431bc45386c46b1": {
          "model_module": "@jupyter-widgets/controls",
          "model_name": "ProgressStyleModel",
          "model_module_version": "1.5.0",
          "state": {
            "_model_module": "@jupyter-widgets/controls",
            "_model_module_version": "1.5.0",
            "_model_name": "ProgressStyleModel",
            "_view_count": null,
            "_view_module": "@jupyter-widgets/base",
            "_view_module_version": "1.2.0",
            "_view_name": "StyleView",
            "bar_color": null,
            "description_width": ""
          }
        },
        "267940bc98964711a1a58b0c133864fb": {
          "model_module": "@jupyter-widgets/base",
          "model_name": "LayoutModel",
          "model_module_version": "1.2.0",
          "state": {
            "_model_module": "@jupyter-widgets/base",
            "_model_module_version": "1.2.0",
            "_model_name": "LayoutModel",
            "_view_count": null,
            "_view_module": "@jupyter-widgets/base",
            "_view_module_version": "1.2.0",
            "_view_name": "LayoutView",
            "align_content": null,
            "align_items": null,
            "align_self": null,
            "border": null,
            "bottom": null,
            "display": null,
            "flex": null,
            "flex_flow": null,
            "grid_area": null,
            "grid_auto_columns": null,
            "grid_auto_flow": null,
            "grid_auto_rows": null,
            "grid_column": null,
            "grid_gap": null,
            "grid_row": null,
            "grid_template_areas": null,
            "grid_template_columns": null,
            "grid_template_rows": null,
            "height": null,
            "justify_content": null,
            "justify_items": null,
            "left": null,
            "margin": null,
            "max_height": null,
            "max_width": null,
            "min_height": null,
            "min_width": null,
            "object_fit": null,
            "object_position": null,
            "order": null,
            "overflow": null,
            "overflow_x": null,
            "overflow_y": null,
            "padding": null,
            "right": null,
            "top": null,
            "visibility": null,
            "width": null
          }
        },
        "bb1d2172175f48b5ae3c187f33d99d14": {
          "model_module": "@jupyter-widgets/controls",
          "model_name": "DescriptionStyleModel",
          "model_module_version": "1.5.0",
          "state": {
            "_model_module": "@jupyter-widgets/controls",
            "_model_module_version": "1.5.0",
            "_model_name": "DescriptionStyleModel",
            "_view_count": null,
            "_view_module": "@jupyter-widgets/base",
            "_view_module_version": "1.2.0",
            "_view_name": "StyleView",
            "description_width": ""
          }
        }
      }
    }
  },
  "nbformat": 4,
  "nbformat_minor": 5
}