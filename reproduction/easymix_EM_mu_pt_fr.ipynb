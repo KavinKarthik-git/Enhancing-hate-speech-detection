{
  "cells": [
    {
      "cell_type": "code",
      "execution_count": 1,
      "id": "39ea1973-e66a-44d8-843b-d67a364157e2",
      "metadata": {
        "colab": {
          "base_uri": "https://localhost:8080/"
        },
        "id": "39ea1973-e66a-44d8-843b-d67a364157e2",
        "outputId": "cc07831e-0e3d-4479-c636-78f86669eedd"
      },
      "outputs": [
        {
          "output_type": "stream",
          "name": "stdout",
          "text": [
            "Collecting transformers\n",
            "  Downloading transformers-4.35.0-py3-none-any.whl (7.9 MB)\n",
            "\u001b[2K     \u001b[90m━━━━━━━━━━━━━━━━━━━━━━━━━━━━━━━━━━━━━━━━\u001b[0m \u001b[32m7.9/7.9 MB\u001b[0m \u001b[31m15.1 MB/s\u001b[0m eta \u001b[36m0:00:00\u001b[0m\n",
            "\u001b[?25hCollecting datasets\n",
            "  Downloading datasets-2.14.6-py3-none-any.whl (493 kB)\n",
            "\u001b[2K     \u001b[90m━━━━━━━━━━━━━━━━━━━━━━━━━━━━━━━━━━━━━━━━\u001b[0m \u001b[32m493.7/493.7 kB\u001b[0m \u001b[31m27.1 MB/s\u001b[0m eta \u001b[36m0:00:00\u001b[0m\n",
            "\u001b[?25hRequirement already satisfied: filelock in /usr/local/lib/python3.10/dist-packages (from transformers) (3.12.4)\n",
            "Collecting huggingface-hub<1.0,>=0.16.4 (from transformers)\n",
            "  Downloading huggingface_hub-0.18.0-py3-none-any.whl (301 kB)\n",
            "\u001b[2K     \u001b[90m━━━━━━━━━━━━━━━━━━━━━━━━━━━━━━━━━━━━━━━━\u001b[0m \u001b[32m302.0/302.0 kB\u001b[0m \u001b[31m29.6 MB/s\u001b[0m eta \u001b[36m0:00:00\u001b[0m\n",
            "\u001b[?25hRequirement already satisfied: numpy>=1.17 in /usr/local/lib/python3.10/dist-packages (from transformers) (1.23.5)\n",
            "Requirement already satisfied: packaging>=20.0 in /usr/local/lib/python3.10/dist-packages (from transformers) (23.2)\n",
            "Requirement already satisfied: pyyaml>=5.1 in /usr/local/lib/python3.10/dist-packages (from transformers) (6.0.1)\n",
            "Requirement already satisfied: regex!=2019.12.17 in /usr/local/lib/python3.10/dist-packages (from transformers) (2023.6.3)\n",
            "Requirement already satisfied: requests in /usr/local/lib/python3.10/dist-packages (from transformers) (2.31.0)\n",
            "Collecting tokenizers<0.15,>=0.14 (from transformers)\n",
            "  Downloading tokenizers-0.14.1-cp310-cp310-manylinux_2_17_x86_64.manylinux2014_x86_64.whl (3.8 MB)\n",
            "\u001b[2K     \u001b[90m━━━━━━━━━━━━━━━━━━━━━━━━━━━━━━━━━━━━━━━━\u001b[0m \u001b[32m3.8/3.8 MB\u001b[0m \u001b[31m34.5 MB/s\u001b[0m eta \u001b[36m0:00:00\u001b[0m\n",
            "\u001b[?25hCollecting safetensors>=0.3.1 (from transformers)\n",
            "  Downloading safetensors-0.4.0-cp310-cp310-manylinux_2_17_x86_64.manylinux2014_x86_64.whl (1.3 MB)\n",
            "\u001b[2K     \u001b[90m━━━━━━━━━━━━━━━━━━━━━━━━━━━━━━━━━━━━━━━━\u001b[0m \u001b[32m1.3/1.3 MB\u001b[0m \u001b[31m38.8 MB/s\u001b[0m eta \u001b[36m0:00:00\u001b[0m\n",
            "\u001b[?25hRequirement already satisfied: tqdm>=4.27 in /usr/local/lib/python3.10/dist-packages (from transformers) (4.66.1)\n",
            "Requirement already satisfied: pyarrow>=8.0.0 in /usr/local/lib/python3.10/dist-packages (from datasets) (9.0.0)\n",
            "Collecting dill<0.3.8,>=0.3.0 (from datasets)\n",
            "  Downloading dill-0.3.7-py3-none-any.whl (115 kB)\n",
            "\u001b[2K     \u001b[90m━━━━━━━━━━━━━━━━━━━━━━━━━━━━━━━━━━━━━━━━\u001b[0m \u001b[32m115.3/115.3 kB\u001b[0m \u001b[31m15.1 MB/s\u001b[0m eta \u001b[36m0:00:00\u001b[0m\n",
            "\u001b[?25hRequirement already satisfied: pandas in /usr/local/lib/python3.10/dist-packages (from datasets) (1.5.3)\n",
            "Requirement already satisfied: xxhash in /usr/local/lib/python3.10/dist-packages (from datasets) (3.4.1)\n",
            "Collecting multiprocess (from datasets)\n",
            "  Downloading multiprocess-0.70.15-py310-none-any.whl (134 kB)\n",
            "\u001b[2K     \u001b[90m━━━━━━━━━━━━━━━━━━━━━━━━━━━━━━━━━━━━━━━━\u001b[0m \u001b[32m134.8/134.8 kB\u001b[0m \u001b[31m9.6 MB/s\u001b[0m eta \u001b[36m0:00:00\u001b[0m\n",
            "\u001b[?25hRequirement already satisfied: fsspec[http]<=2023.10.0,>=2023.1.0 in /usr/local/lib/python3.10/dist-packages (from datasets) (2023.6.0)\n",
            "Requirement already satisfied: aiohttp in /usr/local/lib/python3.10/dist-packages (from datasets) (3.8.6)\n",
            "Requirement already satisfied: attrs>=17.3.0 in /usr/local/lib/python3.10/dist-packages (from aiohttp->datasets) (23.1.0)\n",
            "Requirement already satisfied: charset-normalizer<4.0,>=2.0 in /usr/local/lib/python3.10/dist-packages (from aiohttp->datasets) (3.3.1)\n",
            "Requirement already satisfied: multidict<7.0,>=4.5 in /usr/local/lib/python3.10/dist-packages (from aiohttp->datasets) (6.0.4)\n",
            "Requirement already satisfied: async-timeout<5.0,>=4.0.0a3 in /usr/local/lib/python3.10/dist-packages (from aiohttp->datasets) (4.0.3)\n",
            "Requirement already satisfied: yarl<2.0,>=1.0 in /usr/local/lib/python3.10/dist-packages (from aiohttp->datasets) (1.9.2)\n",
            "Requirement already satisfied: frozenlist>=1.1.1 in /usr/local/lib/python3.10/dist-packages (from aiohttp->datasets) (1.4.0)\n",
            "Requirement already satisfied: aiosignal>=1.1.2 in /usr/local/lib/python3.10/dist-packages (from aiohttp->datasets) (1.3.1)\n",
            "Requirement already satisfied: typing-extensions>=3.7.4.3 in /usr/local/lib/python3.10/dist-packages (from huggingface-hub<1.0,>=0.16.4->transformers) (4.5.0)\n",
            "Requirement already satisfied: idna<4,>=2.5 in /usr/local/lib/python3.10/dist-packages (from requests->transformers) (3.4)\n",
            "Requirement already satisfied: urllib3<3,>=1.21.1 in /usr/local/lib/python3.10/dist-packages (from requests->transformers) (2.0.7)\n",
            "Requirement already satisfied: certifi>=2017.4.17 in /usr/local/lib/python3.10/dist-packages (from requests->transformers) (2023.7.22)\n",
            "Collecting huggingface-hub<1.0,>=0.16.4 (from transformers)\n",
            "  Downloading huggingface_hub-0.17.3-py3-none-any.whl (295 kB)\n",
            "\u001b[2K     \u001b[90m━━━━━━━━━━━━━━━━━━━━━━━━━━━━━━━━━━━━━━━━\u001b[0m \u001b[32m295.0/295.0 kB\u001b[0m \u001b[31m9.7 MB/s\u001b[0m eta \u001b[36m0:00:00\u001b[0m\n",
            "\u001b[?25hRequirement already satisfied: python-dateutil>=2.8.1 in /usr/local/lib/python3.10/dist-packages (from pandas->datasets) (2.8.2)\n",
            "Requirement already satisfied: pytz>=2020.1 in /usr/local/lib/python3.10/dist-packages (from pandas->datasets) (2023.3.post1)\n",
            "Requirement already satisfied: six>=1.5 in /usr/local/lib/python3.10/dist-packages (from python-dateutil>=2.8.1->pandas->datasets) (1.16.0)\n",
            "Installing collected packages: safetensors, dill, multiprocess, huggingface-hub, tokenizers, transformers, datasets\n",
            "Successfully installed datasets-2.14.6 dill-0.3.7 huggingface-hub-0.17.3 multiprocess-0.70.15 safetensors-0.4.0 tokenizers-0.14.1 transformers-4.35.0\n"
          ]
        }
      ],
      "source": [
        "! pip install transformers datasets\n"
      ]
    },
    {
      "cell_type": "code",
      "source": [
        "! pip install sentencepiece"
      ],
      "metadata": {
        "colab": {
          "base_uri": "https://localhost:8080/"
        },
        "id": "XUdi-aVbfwdE",
        "outputId": "bc13e414-3840-4aca-fdbf-172699b8672b"
      },
      "id": "XUdi-aVbfwdE",
      "execution_count": 2,
      "outputs": [
        {
          "output_type": "stream",
          "name": "stdout",
          "text": [
            "Collecting sentencepiece\n",
            "  Downloading sentencepiece-0.1.99-cp310-cp310-manylinux_2_17_x86_64.manylinux2014_x86_64.whl (1.3 MB)\n",
            "\u001b[2K     \u001b[90m━━━━━━━━━━━━━━━━━━━━━━━━━━━━━━━━━━━━━━━━\u001b[0m \u001b[32m1.3/1.3 MB\u001b[0m \u001b[31m6.9 MB/s\u001b[0m eta \u001b[36m0:00:00\u001b[0m\n",
            "\u001b[?25hInstalling collected packages: sentencepiece\n",
            "Successfully installed sentencepiece-0.1.99\n"
          ]
        }
      ]
    },
    {
      "cell_type": "code",
      "source": [
        "import torch\n",
        "torch.cuda.empty_cache()\n",
        "\n",
        "# Confirm that the GPU is detected\n",
        "\n",
        "assert torch.cuda.is_available()\n",
        "\n",
        "# Get the GPU device name.\n",
        "device_name = torch.cuda.get_device_name()\n",
        "n_gpu = torch.cuda.device_count()\n",
        "print(f\"Found device: {device_name}, n_gpu: {n_gpu}\")\n",
        "device = torch.device(\"cuda\")"
      ],
      "metadata": {
        "colab": {
          "base_uri": "https://localhost:8080/"
        },
        "id": "oqOigbHbfvLS",
        "outputId": "85701f27-72c1-485c-c8f4-43b49a396754"
      },
      "id": "oqOigbHbfvLS",
      "execution_count": 3,
      "outputs": [
        {
          "output_type": "stream",
          "name": "stdout",
          "text": [
            "Found device: Tesla T4, n_gpu: 1\n"
          ]
        }
      ]
    },
    {
      "cell_type": "code",
      "source": [
        "from google.colab import drive\n",
        "drive.mount('/content/drive/')"
      ],
      "metadata": {
        "colab": {
          "base_uri": "https://localhost:8080/"
        },
        "id": "a5vsYl5PcZIs",
        "outputId": "8102091a-312c-4704-e81e-aa8e0151aa84"
      },
      "id": "a5vsYl5PcZIs",
      "execution_count": 5,
      "outputs": [
        {
          "output_type": "stream",
          "name": "stdout",
          "text": [
            "Drive already mounted at /content/drive/; to attempt to forcibly remount, call drive.mount(\"/content/drive/\", force_remount=True).\n"
          ]
        }
      ]
    },
    {
      "cell_type": "code",
      "source": [
        "import os\n",
        "os.environ[\"CUDA_DEVICE_ORDER\"]=\"PCI_BUS_ID\"\n",
        "os.environ[\"CUDA_VISIBLE_DEVICES\"]=\"1\""
      ],
      "metadata": {
        "id": "BWYFQcUkcMOt"
      },
      "id": "BWYFQcUkcMOt",
      "execution_count": 6,
      "outputs": []
    },
    {
      "cell_type": "code",
      "execution_count": 7,
      "id": "ad239020-27bb-4886-8c61-e1908e57e506",
      "metadata": {
        "id": "ad239020-27bb-4886-8c61-e1908e57e506"
      },
      "outputs": [],
      "source": [
        "import numpy as np\n",
        "import pandas as pd\n",
        "import torch\n",
        "import torch.nn as nn\n",
        "import torch.nn.functional as F\n",
        "from torch.utils.data import Dataset, DataLoader, WeightedRandomSampler\n",
        "from torch import optim\n",
        "import sys\n",
        "import random\n",
        "import math\n",
        "import time\n",
        "from tqdm import tqdm\n",
        "from sklearn.metrics import precision_recall_fscore_support, f1_score\n",
        "from sklearn.metrics import classification_report\n",
        "from sklearn.metrics import ConfusionMatrixDisplay\n",
        "\n",
        "# Ignore warnings\n",
        "import warnings\n",
        "warnings.filterwarnings(\"ignore\")\n",
        "\n",
        "from transformers import BertTokenizer, AutoTokenizer\n",
        "from transformers import BertModel, AutoModel, AutoModelForSequenceClassification\n",
        "from transformers import AdamW, get_linear_schedule_with_warmup\n",
        "\n",
        "from torch.utils.tensorboard import SummaryWriter\n",
        "\n",
        "use_cuda = True if torch.cuda.is_available() else False\n",
        "device = torch.device(\"cuda\" if torch.cuda.is_available() else \"cpu\")\n",
        "# use_cuda=False\n",
        "# device='cpu'\n",
        "\n",
        "torch.autograd.set_detect_anomaly(True)\n",
        "torch.backends.cudnn.benchmark = True\n",
        "np.random.seed(0)\n",
        "torch.manual_seed(0)\n",
        "\n",
        "base_model = 'xlm-roberta-base'\n",
        "model_list = ['bert-base-uncased', 'bert-base-multilingual-uncased', 'google/muril-base-cased', 'xlm-roberta-base',\n",
        "              'ai4bharat/indic-bert','cardiffnlp/twitter-xlm-roberta-base','cardiffnlp/twitter-xlm-roberta-base-sentiment',\n",
        "              'cardiffnlp/twitter-roberta-base', 'cardiffnlp/twitter-roberta-base-sentiment',\n",
        "              'cardiffnlp/twitter-roberta-base-hate', 'roberta-base']\n",
        "model_path = '/content/drive/MyDrive/saved_models/'\n",
        "results_path = '/content/drive/MyDrive/saved_results/'"
      ]
    },
    {
      "cell_type": "code",
      "execution_count": 8,
      "id": "0da5f88b-0f84-4c67-8eba-8a90b0095c5a",
      "metadata": {
        "id": "0da5f88b-0f84-4c67-8eba-8a90b0095c5a"
      },
      "outputs": [],
      "source": [
        "lang = 'portuguese'\n",
        "model_choice = 6"
      ]
    },
    {
      "cell_type": "code",
      "execution_count": 9,
      "id": "99050998-e6fc-4236-b022-6b337c2aad28",
      "metadata": {
        "colab": {
          "base_uri": "https://localhost:8080/"
        },
        "id": "99050998-e6fc-4236-b022-6b337c2aad28",
        "outputId": "d5687ff2-504a-4ad3-df62-f992a25f2aba"
      },
      "outputs": [
        {
          "output_type": "execute_result",
          "data": {
            "text/plain": [
              "device(type='cuda')"
            ]
          },
          "metadata": {},
          "execution_count": 9
        }
      ],
      "source": [
        "writer = SummaryWriter(log_dir=\"/content/drive/MyDrive/\" + base_model + \"_\" + lang)\n",
        "device"
      ]
    },
    {
      "cell_type": "code",
      "execution_count": 10,
      "id": "9f2fcfaf-e554-4934-9494-4e162e6d8fc4",
      "metadata": {
        "id": "9f2fcfaf-e554-4934-9494-4e162e6d8fc4",
        "colab": {
          "base_uri": "https://localhost:8080/",
          "height": 113,
          "referenced_widgets": [
            "a097bfc701224c0fab8f7441ecf3a70a",
            "f4506c512f204b8690f01738da988e57",
            "70894c4f9f18449da63ba189d25a8133",
            "dc5a369ae19a41ccade4de7238351c84",
            "1794c504a35147ed922cb633d87f497a",
            "6d8220bfd8d74137987e39adb9f3ea9f",
            "d4e1b83294bf477c9f7c53598327acb8",
            "3fe4a2506566431c9476e05c9cd4f1e3",
            "361061f6c55846aa987f2568209bd562",
            "34caeb63981248a38ffbde20a22d3f4b",
            "89ae9b334736406fa097dad4c91d2d6d",
            "709b577494af462d9c160bd159ce4fd8",
            "210f2f44f0bd4e71a8409630737b8948",
            "0a85519e897249119ebea914636fd112",
            "437a2e99a3614aa09f1ba2def509fd09",
            "e3ca299524b94d2ab1212e7d2d012ce2",
            "a4f347138f784938908bcff6ad746575",
            "01be7a8e1c4a4bc2bf8828ec12e8f5a2",
            "3a2175b104a54dbfad5d998c54736d91",
            "8f96fc36824248deb80bf7f15d8b2f26",
            "f2518733c570487ca2a618d1f1768b0d",
            "b86aa9531c3f4502a62b857ecf0c5351",
            "80edc7c1106c4541b6f23b14a596b9f5",
            "5b217b10b3ea4fffb408f22f8558ce71",
            "9eb5041c43df4e7ebac238edcaf46c8b",
            "49c36466c129485ea756860a88754055",
            "2894f4d2857c474990658da2d4839f3a",
            "617defb830a1491ebf87fdc8cfe700b7",
            "c847e359f2914834800385a909c58d9b",
            "aa25d70a1acf4c3595ccab78bd64aed1",
            "3d1cbba127e14bcab3975929b4a6f53d",
            "229a0d7cbbdd4392af0d40c8d566ece5",
            "ecf9813b0a37416caf1ddd1051cd4637"
          ]
        },
        "outputId": "03be34fd-5807-4102-ce18-0e4a16d406bf"
      },
      "outputs": [
        {
          "output_type": "display_data",
          "data": {
            "text/plain": [
              "Downloading (…)lve/main/config.json:   0%|          | 0.00/841 [00:00<?, ?B/s]"
            ],
            "application/vnd.jupyter.widget-view+json": {
              "version_major": 2,
              "version_minor": 0,
              "model_id": "a097bfc701224c0fab8f7441ecf3a70a"
            }
          },
          "metadata": {}
        },
        {
          "output_type": "display_data",
          "data": {
            "text/plain": [
              "Downloading (…)tencepiece.bpe.model:   0%|          | 0.00/5.07M [00:00<?, ?B/s]"
            ],
            "application/vnd.jupyter.widget-view+json": {
              "version_major": 2,
              "version_minor": 0,
              "model_id": "709b577494af462d9c160bd159ce4fd8"
            }
          },
          "metadata": {}
        },
        {
          "output_type": "display_data",
          "data": {
            "text/plain": [
              "Downloading (…)cial_tokens_map.json:   0%|          | 0.00/150 [00:00<?, ?B/s]"
            ],
            "application/vnd.jupyter.widget-view+json": {
              "version_major": 2,
              "version_minor": 0,
              "model_id": "80edc7c1106c4541b6f23b14a596b9f5"
            }
          },
          "metadata": {}
        }
      ],
      "source": [
        "tokenizer = AutoTokenizer.from_pretrained(model_list[model_choice])\n",
        "\n",
        "MAX_SEQ_LEN = 128\n",
        "\n",
        "label_idx = 1\n",
        "text_idx = 0\n",
        "\n",
        "class HateData(Dataset):\n",
        "    def __init__(self, data_path, split='train', lang='bengali', aug_prob=0.2, flip_prob=0.5):\n",
        "        self.split = split\n",
        "        # self.data = pd.read_parquet(data_path + lang + \"_\" + split + \".parquet\", engine='fastparquet')\n",
        "        # self.data = pd.read_csv(data_path, sep=',')\n",
        "        # self.data = pd.read_csv(data_path + lang + \"_\" + split + \".tsv\", sep='\\t')\n",
        "        self.data = pd.read_csv(data_path + split + \"_\" + lang + \".tsv\", sep='\\t', lineterminator='\\n')\n",
        "\n",
        "        if self.split == 'train':\n",
        "            self.label2data = {0:[], 1:[], 2:[]}\n",
        "            # self.data = self.data[self.data['language'] == lang]\n",
        "\n",
        "            for i in tqdm(range(len(self.data))):\n",
        "                row = self.data.iloc[i]\n",
        "                self.label2data[row[label_idx]].append(row[text_idx])\n",
        "            self.aug_prob = aug_prob\n",
        "            self.flip_prob = flip_prob\n",
        "\n",
        "    def __len__(self):\n",
        "        return len(self.data)\n",
        "\n",
        "\n",
        "    def __getitem__(self, index):\n",
        "        if torch.is_tensor(index):\n",
        "            index = index.tolist()\n",
        "\n",
        "        data = self.data.iloc[index]\n",
        "\n",
        "        labels = data[label_idx]\n",
        "        text = data[text_idx]\n",
        "        inputs = tokenizer(text, padding='max_length', truncation=True, max_length=MAX_SEQ_LEN)\n",
        "        # print(inputs)\n",
        "        input_ids = inputs['input_ids']\n",
        "        token_type_ids = np.zeros(MAX_SEQ_LEN)#inputs['token_type_ids']#\n",
        "        attn_mask = inputs['attention_mask']\n",
        "\n",
        "        aug_text = text\n",
        "        labels_aug = labels\n",
        "\n",
        "        if self.split == 'train' and labels == 1:\n",
        "            if np.random.uniform() < self.aug_prob:\n",
        "                aug_text = np.random.choice(self.label2data[0])\n",
        "\n",
        "                if np.random.uniform() < self.flip_prob:\n",
        "                    aug_text = aug_text + \" [SEP] \" + text\n",
        "                else:\n",
        "                    aug_text = text + \" [SEP] \" + aug_text\n",
        "            labels_aug = 1\n",
        "\n",
        "        inputs_aug = tokenizer(aug_text, padding='max_length', truncation=True, max_length=MAX_SEQ_LEN)\n",
        "        # print(inputs)\n",
        "        input_ids_aug = inputs_aug['input_ids']\n",
        "        token_type_ids_aug = np.zeros(MAX_SEQ_LEN)#inputs_aug['token_type_ids']#\n",
        "        attn_mask_aug = inputs_aug['attention_mask']\n",
        "\n",
        "        input_ids = torch.tensor(np.vstack([input_ids, input_ids_aug]), dtype=torch.long).view(2, MAX_SEQ_LEN)\n",
        "        token_type_ids = torch.tensor(np.vstack([token_type_ids, token_type_ids_aug]), dtype=torch.long).view(2, MAX_SEQ_LEN)\n",
        "        attn_mask = torch.tensor(np.vstack([attn_mask, attn_mask_aug]), dtype=torch.long).view(2, MAX_SEQ_LEN)\n",
        "        labels = torch.tensor(np.vstack([labels, labels_aug]), dtype=torch.long).view(2)\n",
        "\n",
        "\n",
        "        return input_ids, attn_mask, token_type_ids, labels\n",
        "\n",
        "\n",
        "# train_data = HateData(data_path=\"/home/jupyter/data/implicit-hate-corpus/\", lang='latent')\n",
        "# dataload = DataLoader(train_data, batch_size=4)\n",
        "\n",
        "# for i in (dataload):\n",
        "#     print(i[0].shape)\n",
        "#     print(i[1].shape)\n",
        "#     print(i[2].shape)\n",
        "#     print(i[3].shape)\n",
        "#     break\n",
        "\n",
        "\n"
      ]
    },
    {
      "cell_type": "code",
      "execution_count": 11,
      "id": "cf8548d8-c91b-4ccf-a518-0635f05579ef",
      "metadata": {
        "id": "cf8548d8-c91b-4ccf-a518-0635f05579ef"
      },
      "outputs": [],
      "source": [
        "class Classifier(nn.Module):\n",
        "    def __init__(self):\n",
        "        super(Classifier, self).__init__()\n",
        "\n",
        "        H1, H2, num_class = 768, 128, 2\n",
        "        self.bert = AutoModel.from_pretrained(model_list[model_choice])\n",
        "\n",
        "        # for param in self.bert.parameters():\n",
        "        #     param.requires_grad = False\n",
        "\n",
        "        self.clf = nn.Sequential(\n",
        "            nn.Linear(H1, H2),\n",
        "            nn.ReLU(),\n",
        "            nn.Linear(H2, H2),\n",
        "            nn.ReLU(),\n",
        "            nn.Linear(H2, num_class)\n",
        "        )\n",
        "\n",
        "\n",
        "    def forward(self, input_ids, attn_mask, token_type_ids):\n",
        "        outputs = self.bert(input_ids, attn_mask)#, token_type_ids)\n",
        "        cls_emb = outputs.pooler_output # (batch, 768)\n",
        "        logits = self.clf(cls_emb) # (batch, num_class)\n",
        "        return logits\n"
      ]
    },
    {
      "cell_type": "code",
      "execution_count": 12,
      "id": "b9bbaa46-9b44-49af-bb49-124e9af439ba",
      "metadata": {
        "id": "b9bbaa46-9b44-49af-bb49-124e9af439ba"
      },
      "outputs": [],
      "source": [
        "loss_fn = nn.CrossEntropyLoss()#"
      ]
    },
    {
      "cell_type": "code",
      "execution_count": 13,
      "id": "9a4d0548-5e3d-4279-ad0b-1d9d566d3f90",
      "metadata": {
        "id": "9a4d0548-5e3d-4279-ad0b-1d9d566d3f90"
      },
      "outputs": [],
      "source": [
        "def train(input_ids, attn_mask, token_type_ids, label, model, model_opt, scdl):\n",
        "\n",
        "    model_opt.zero_grad()\n",
        "\n",
        "    batch_size = input_ids.shape[0]\n",
        "    seq_len = input_ids.shape[1]\n",
        "\n",
        "    loss = 0.0\n",
        "\n",
        "    if use_cuda:\n",
        "        input_ids = input_ids.to(device)\n",
        "        attn_mask = attn_mask.to(device)\n",
        "        token_type_ids = token_type_ids.to(device)\n",
        "        label = label.to(device)\n",
        "\n",
        "    # label = label.flatten()\n",
        "\n",
        "    logits = model(input_ids[:,0,:], attn_mask[:,0,:], token_type_ids[:,0,:])\n",
        "    logits_aug = model(input_ids[:,1,:], attn_mask[:,1,:], token_type_ids[:,1,:])\n",
        "\n",
        "    loss = loss_fn(logits, label[:,0]) + loss_fn(logits_aug, label[:,1])\n",
        "\n",
        "    # if torch.isnan(loss):\n",
        "    #     pass\n",
        "    # else:\n",
        "    loss.backward()\n",
        "    # torch.nn.utils.clip_grad_norm_(model.parameters(), 1.0) # clip gradients to prevent exploding\n",
        "    model_opt.step()\n",
        "    scdl.step()\n",
        "    # print(loss)\n",
        "    return float(loss.item())\n",
        "\n"
      ]
    },
    {
      "cell_type": "code",
      "execution_count": 14,
      "id": "9ad57855-ee8b-448e-9c03-0049d81db476",
      "metadata": {
        "id": "9ad57855-ee8b-448e-9c03-0049d81db476"
      },
      "outputs": [],
      "source": [
        "def evaluate(input_ids, attn_mask, token_type_ids, label, model, mode='train'):\n",
        "\n",
        "    batch_size = input_ids.shape[0]\n",
        "    seq_len = input_ids.shape[1]\n",
        "\n",
        "\n",
        "    with torch.no_grad():\n",
        "        if use_cuda:\n",
        "            input_ids = input_ids.to(device)\n",
        "            attn_mask = attn_mask.to(device)\n",
        "            token_type_ids = token_type_ids.to(device)\n",
        "            label = label.to(device)\n",
        "\n",
        "        # label = label.flatten()\n",
        "\n",
        "        logits = model(input_ids[:,0,:], attn_mask[:,0,:], token_type_ids[:,0,:])\n",
        "        loss = loss_fn(logits, label[:,0])\n",
        "\n",
        "        if mode == 'train':\n",
        "            return float(loss.item())\n",
        "\n",
        "        preds = torch.argmax(logits, dim=1).flatten()\n",
        "        # acc = (preds == label).cpu().numpy().mean() * 100\n",
        "\n",
        "        return float(loss.item()), preds.cpu().numpy()\n",
        "\n",
        "\n"
      ]
    },
    {
      "cell_type": "code",
      "execution_count": 15,
      "id": "1958148f-3d6f-4574-b799-9edf2a791f25",
      "metadata": {
        "id": "1958148f-3d6f-4574-b799-9edf2a791f25"
      },
      "outputs": [],
      "source": [
        "df_test = pd.read_csv(\"/content/drive/MyDrive/data_efficient_hatedetect/data/multilingual/test_portuguese.tsv\", sep='\\t', lineterminator='\\n')\n",
        "gt_labels = np.array(df_test['label'])"
      ]
    },
    {
      "cell_type": "code",
      "execution_count": 16,
      "id": "f7016425-389c-45d9-8cb6-a11c73fcdb1f",
      "metadata": {
        "colab": {
          "base_uri": "https://localhost:8080/"
        },
        "id": "f7016425-389c-45d9-8cb6-a11c73fcdb1f",
        "outputId": "01de853a-f3d6-48e0-e982-c41e1c15a49a"
      },
      "outputs": [
        {
          "output_type": "execute_result",
          "data": {
            "text/plain": [
              "284"
            ]
          },
          "metadata": {},
          "execution_count": 16
        }
      ],
      "source": [
        "len(gt_labels)"
      ]
    },
    {
      "cell_type": "code",
      "execution_count": 17,
      "id": "dabe9a9f-e8a6-4712-bf00-ae5d75d16bd5",
      "metadata": {
        "id": "dabe9a9f-e8a6-4712-bf00-ae5d75d16bd5"
      },
      "outputs": [],
      "source": [
        "def trainIters(model, epochs, train_loader, test_loader, learning_rate=3e-5, log_step=168, valid_step=168, mode='train'):\n",
        "\n",
        "    model_opt = AdamW(model.parameters(), lr=learning_rate, eps=1e-8)\n",
        "    num_train_steps = (len(train_loader)*epochs)\n",
        "    scdl = get_linear_schedule_with_warmup(model_opt, num_warmup_steps=int(0.1*num_train_steps), num_training_steps=num_train_steps)\n",
        "\n",
        "    print(\"Initialised optimizer and lr scheduler\")\n",
        "\n",
        "    # valid_best_loss = []\n",
        "    best_acc = 0.0\n",
        "    tot = len(train_data) // train_loader.batch_size\n",
        "    tot_val = len(val_data) // test_loader.batch_size\n",
        "    plot_steps = 0\n",
        "\n",
        "    for epoch in range(epochs):\n",
        "        train_loss_total = 0.0\n",
        "        train_step = 0\n",
        "        # Training\n",
        "\n",
        "        model.train()\n",
        "        for entry in tqdm(train_loader, total=tot, position=0, leave=True):\n",
        "            loss = train(entry[0], entry[1], entry[2], entry[3], model, model_opt, scdl)\n",
        "            plot_steps += 1\n",
        "            train_step += 1\n",
        "            # if not math.isnan(loss) :\n",
        "            train_loss_total = train_loss_total + loss\n",
        "\n",
        "            train_loss = train_loss_total / train_step\n",
        "\n",
        "            if plot_steps % log_step == 0:\n",
        "                writer.add_scalar(\"Train Loss\", train_loss, plot_steps)\n",
        "\n",
        "            if (plot_steps % valid_step == 0) or (plot_steps >= num_train_steps - 1):\n",
        "                model.eval()\n",
        "                test_pred = []\n",
        "\n",
        "                for entry in tqdm(test_loader, total=tot_val, position=0, leave=True):\n",
        "                    loss_v, pred_v = evaluate(entry[0], entry[1], entry[2], entry[3], model, mode='test')\n",
        "                    # if not math.isnan(loss) :\n",
        "                    test_pred.extend([pd for pd in pred_v])\n",
        "\n",
        "                # val_acc = (test_pred == gt_labels).mean().item()\n",
        "                val_acc = f1_score(gt_labels, test_pred, average='macro')\n",
        "                print(\"Validation F1: \" + str(val_acc))\n",
        "                writer.add_scalar(\"Val F1\", val_acc, plot_steps)\n",
        "\n",
        "\n",
        "                #   Save best model\n",
        "                # state = {\n",
        "                #         'epoch': epoch,\n",
        "                #         'state_dict': model.state_dict(),\n",
        "                #         'optimizer': model_opt.state_dict(),\n",
        "                #         'loss': train_loss,\n",
        "                #         'scheduler': scdl.state_dict(),\n",
        "                # }\n",
        "\n",
        "\n",
        "                if val_acc > best_acc:\n",
        "                    torch.save(model.state_dict(), model_path + \"model_\" + base_model + \"_\" + lang + \"_easymix_mono_redo\" + \".pth\")\n",
        "                    print(\"Model saved for step: \" + str(plot_steps))\n",
        "                    best_acc = val_acc\n",
        "\n",
        "                model.train()\n",
        "            writer.flush()\n",
        "\n",
        "\n",
        "        print('epoch: '+str(epoch))\n",
        "        print('total loss: '+str(train_loss_total/tot))\n",
        "\n",
        "        # wr_train = open(results_path + \"train_loss_\" + base_model + \".txt\", \"a\")\n",
        "        # wr_train.write(\"epoch \" + str(epoch) + \": \" + str(train_loss_total/tot) + \"\\n\")\n",
        "        # wr_train.close()\n",
        "\n",
        "\n"
      ]
    },
    {
      "cell_type": "code",
      "execution_count": 18,
      "id": "ed2a7f13-faa6-4e64-857e-4b47eea70546",
      "metadata": {
        "colab": {
          "base_uri": "https://localhost:8080/"
        },
        "id": "ed2a7f13-faa6-4e64-857e-4b47eea70546",
        "outputId": "f5428cdb-9e04-441e-89fc-bc8898475ca4"
      },
      "outputs": [
        {
          "output_type": "stream",
          "name": "stderr",
          "text": [
            "100%|██████████| 5386/5386 [00:00<00:00, 14090.74it/s]\n"
          ]
        }
      ],
      "source": [
        "train_data = HateData(data_path=\"/content/drive/MyDrive/data_efficient_hatedetect/data/multilingual/\", split='train', lang=lang)\n",
        "val_data = HateData(data_path=\"/content/drive/MyDrive/data_efficient_hatedetect/data/multilingual/\", split='test', lang=lang)"
      ]
    },
    {
      "cell_type": "code",
      "execution_count": 19,
      "id": "c0410c5b-dd55-4523-9ce0-247538308727",
      "metadata": {
        "id": "c0410c5b-dd55-4523-9ce0-247538308727"
      },
      "outputs": [],
      "source": [
        "BS = 16\n",
        "# weights = [1.0]*15383\n",
        "# weights.extend([0.5]*(len(train_data) - 15383))\n",
        "# sampler = WeightedRandomSampler(weights, num_samples=20000)\n",
        "\n",
        "dataload = DataLoader(train_data, batch_size=BS, shuffle=True)\n",
        "dataload_val = DataLoader(val_data, batch_size=BS, shuffle=False)"
      ]
    },
    {
      "cell_type": "code",
      "execution_count": 20,
      "id": "552520b0-9b62-440a-b8db-5e8468514759",
      "metadata": {
        "colab": {
          "base_uri": "https://localhost:8080/"
        },
        "id": "552520b0-9b62-440a-b8db-5e8468514759",
        "outputId": "1ddd9cb4-188d-41c8-af30-9b27a0ccd8b1"
      },
      "outputs": [
        {
          "output_type": "execute_result",
          "data": {
            "text/plain": [
              "168.0"
            ]
          },
          "metadata": {},
          "execution_count": 20
        }
      ],
      "source": [
        "(len(train_data)/16)//2"
      ]
    },
    {
      "cell_type": "code",
      "execution_count": 21,
      "id": "47dbc8a3-d7fc-4ab9-8b82-ea95cac708d3",
      "metadata": {
        "tags": [],
        "colab": {
          "base_uri": "https://localhost:8080/",
          "height": 104,
          "referenced_widgets": [
            "6802eba80ceb4d9183308fd237a54057",
            "443eb5a10c9c4d57a8508e052fab143c",
            "7228f4d840b04f33bc0189f6d43e1024",
            "60ea112111614934aec2c4e7eeb8d04f",
            "181bf8affe314688a2ee25a0b5dfc140",
            "886e256d1c2342028ce7d642845f9055",
            "5576e8e128734ea3a3dfb352e909333b",
            "128416ee7c1141ad8df018179b2f5326",
            "c631b1f13eea45918d41728723d1f4cc",
            "fe873d84375646668bd439e659994605",
            "c636292f83c842b39f42b9c6f72b3080"
          ]
        },
        "id": "47dbc8a3-d7fc-4ab9-8b82-ea95cac708d3",
        "outputId": "47beb015-408d-4727-c43d-a43ae0b97cb3"
      },
      "outputs": [
        {
          "output_type": "display_data",
          "data": {
            "text/plain": [
              "Downloading pytorch_model.bin:   0%|          | 0.00/1.11G [00:00<?, ?B/s]"
            ],
            "application/vnd.jupyter.widget-view+json": {
              "version_major": 2,
              "version_minor": 0,
              "model_id": "6802eba80ceb4d9183308fd237a54057"
            }
          },
          "metadata": {}
        },
        {
          "output_type": "stream",
          "name": "stderr",
          "text": [
            "Some weights of XLMRobertaModel were not initialized from the model checkpoint at cardiffnlp/twitter-xlm-roberta-base-sentiment and are newly initialized: ['roberta.pooler.dense.bias', 'roberta.pooler.dense.weight']\n",
            "You should probably TRAIN this model on a down-stream task to be able to use it for predictions and inference.\n"
          ]
        }
      ],
      "source": [
        "# model = Classifier()\n",
        "# model = model.float()\n",
        "# # model = nn.DataParallel(model)#, device_ids = [2, 3]\n",
        "# model = model.to(device)\n",
        "model = Classifier()\n",
        "# model = nn.DataParallel(model)\n",
        "#model.load_state_dict(torch.load(\"/content/drive/MyDrive/saved_models/model_twitter-xlm-roberta-base-sentiment_multilingual_redo.pth\", map_location=device))\n",
        "model = model.to(device)"
      ]
    },
    {
      "cell_type": "code",
      "execution_count": 22,
      "id": "62b6aaed-5664-4b8f-b2b5-717104c11c16",
      "metadata": {
        "collapsed": true,
        "jupyter": {
          "outputs_hidden": true
        },
        "tags": [],
        "colab": {
          "base_uri": "https://localhost:8080/"
        },
        "id": "62b6aaed-5664-4b8f-b2b5-717104c11c16",
        "outputId": "6d4b3ca8-77e7-42c9-b8ce-e06f5e65e39e"
      },
      "outputs": [
        {
          "output_type": "stream",
          "name": "stdout",
          "text": [
            "Initialised optimizer and lr scheduler\n"
          ]
        },
        {
          "output_type": "stream",
          "name": "stderr",
          "text": [
            "18it [00:02,  7.97it/s]                        \n"
          ]
        },
        {
          "output_type": "stream",
          "name": "stdout",
          "text": [
            "Validation F1: 0.6182795698924731\n"
          ]
        },
        {
          "output_type": "stream",
          "name": "stderr",
          "text": [
            "\r 50%|█████     | 168/336 [04:29<25:20,  9.05s/it]"
          ]
        },
        {
          "output_type": "stream",
          "name": "stdout",
          "text": [
            "Model saved for step: 168\n"
          ]
        },
        {
          "output_type": "stream",
          "name": "stderr",
          "text": [
            "18it [00:02,  8.28it/s]                        \n"
          ]
        },
        {
          "output_type": "stream",
          "name": "stdout",
          "text": [
            "Validation F1: 0.7116090146750524\n"
          ]
        },
        {
          "output_type": "stream",
          "name": "stderr",
          "text": [
            "\r100%|██████████| 336/336 [08:37<00:00,  4.89s/it]"
          ]
        },
        {
          "output_type": "stream",
          "name": "stdout",
          "text": [
            "Model saved for step: 336\n"
          ]
        },
        {
          "output_type": "stream",
          "name": "stderr",
          "text": [
            "337it [08:38,  1.54s/it]\n"
          ]
        },
        {
          "output_type": "stream",
          "name": "stdout",
          "text": [
            "epoch: 0\n",
            "total loss: 1.1167137053396021\n"
          ]
        },
        {
          "output_type": "stream",
          "name": "stderr",
          "text": [
            "18it [00:02,  8.32it/s]                        \n"
          ]
        },
        {
          "output_type": "stream",
          "name": "stdout",
          "text": [
            "Validation F1: 0.716135381587243\n"
          ]
        },
        {
          "output_type": "stream",
          "name": "stderr",
          "text": [
            "\r 50%|████▉     | 167/336 [04:10<20:07,  7.14s/it]"
          ]
        },
        {
          "output_type": "stream",
          "name": "stdout",
          "text": [
            "Model saved for step: 504\n"
          ]
        },
        {
          "output_type": "stream",
          "name": "stderr",
          "text": [
            "18it [00:02,  8.06it/s]                        \n",
            "100%|█████████▉| 335/336 [08:03<00:01,  1.93s/it]"
          ]
        },
        {
          "output_type": "stream",
          "name": "stdout",
          "text": [
            "Validation F1: 0.681932892320098\n"
          ]
        },
        {
          "output_type": "stream",
          "name": "stderr",
          "text": [
            "337it [08:06,  1.44s/it]\n"
          ]
        },
        {
          "output_type": "stream",
          "name": "stdout",
          "text": [
            "epoch: 1\n",
            "total loss: 0.8005551160091445\n"
          ]
        },
        {
          "output_type": "stream",
          "name": "stderr",
          "text": [
            "18it [00:02,  8.08it/s]                        \n",
            " 49%|████▉     | 166/336 [03:49<05:55,  2.09s/it]"
          ]
        },
        {
          "output_type": "stream",
          "name": "stdout",
          "text": [
            "Validation F1: 0.6511056511056512\n"
          ]
        },
        {
          "output_type": "stream",
          "name": "stderr",
          "text": [
            "18it [00:02,  8.20it/s]                        \n",
            " 99%|█████████▉| 334/336 [07:42<00:04,  2.17s/it]"
          ]
        },
        {
          "output_type": "stream",
          "name": "stdout",
          "text": [
            "Validation F1: 0.6867647058823529\n"
          ]
        },
        {
          "output_type": "stream",
          "name": "stderr",
          "text": [
            "337it [07:46,  1.38s/it]\n"
          ]
        },
        {
          "output_type": "stream",
          "name": "stdout",
          "text": [
            "epoch: 2\n",
            "total loss: 0.5349549885085296\n"
          ]
        },
        {
          "output_type": "stream",
          "name": "stderr",
          "text": [
            "18it [00:02,  8.19it/s]                        \n",
            " 49%|████▉     | 165/336 [03:46<06:09,  2.16s/it]"
          ]
        },
        {
          "output_type": "stream",
          "name": "stdout",
          "text": [
            "Validation F1: 0.6843470206853968\n"
          ]
        },
        {
          "output_type": "stream",
          "name": "stderr",
          "text": [
            "18it [00:02,  8.37it/s]                        \n",
            " 99%|█████████▉| 333/336 [07:38<00:06,  2.22s/it]"
          ]
        },
        {
          "output_type": "stream",
          "name": "stdout",
          "text": [
            "Validation F1: 0.6897692997472895\n"
          ]
        },
        {
          "output_type": "stream",
          "name": "stderr",
          "text": [
            "337it [07:43,  1.38s/it]\n"
          ]
        },
        {
          "output_type": "stream",
          "name": "stdout",
          "text": [
            "epoch: 3\n",
            "total loss: 0.3027159272792882\n"
          ]
        },
        {
          "output_type": "stream",
          "name": "stderr",
          "text": [
            "18it [00:02,  7.99it/s]                        \n",
            " 49%|████▉     | 164/336 [03:44<05:29,  1.91s/it]"
          ]
        },
        {
          "output_type": "stream",
          "name": "stdout",
          "text": [
            "Validation F1: 0.6734511027819672\n"
          ]
        },
        {
          "output_type": "stream",
          "name": "stderr",
          "text": [
            "18it [00:02,  7.89it/s]\n",
            " 99%|█████████▉| 332/336 [07:34<00:07,  1.92s/it]"
          ]
        },
        {
          "output_type": "stream",
          "name": "stdout",
          "text": [
            "Validation F1: 0.6811981977825959\n"
          ]
        },
        {
          "output_type": "stream",
          "name": "stderr",
          "text": [
            "18it [00:02,  8.46it/s]                        \n",
            "100%|██████████| 336/336 [07:46<00:00,  2.68s/it]"
          ]
        },
        {
          "output_type": "stream",
          "name": "stdout",
          "text": [
            "Validation F1: 0.6811981977825959\n"
          ]
        },
        {
          "output_type": "stream",
          "name": "stderr",
          "text": [
            "18it [00:02,  8.29it/s]                        \n",
            "337it [07:49,  1.39s/it]"
          ]
        },
        {
          "output_type": "stream",
          "name": "stdout",
          "text": [
            "Validation F1: 0.6811981977825959\n",
            "epoch: 4\n",
            "total loss: 0.16612676974009014\n"
          ]
        },
        {
          "output_type": "stream",
          "name": "stderr",
          "text": [
            "\n"
          ]
        }
      ],
      "source": [
        "trainIters(model, 5, dataload, dataload_val)"
      ]
    },
    {
      "cell_type": "markdown",
      "id": "c1cfb1fe-2c3d-4f0d-b21d-21ce57faa3e5",
      "metadata": {
        "id": "c1cfb1fe-2c3d-4f0d-b21d-21ce57faa3e5"
      },
      "source": [
        "######################## TESTING ######################"
      ]
    },
    {
      "cell_type": "code",
      "source": [
        "lang = 'portuguese'"
      ],
      "metadata": {
        "id": "kMDhVlHvKk8O"
      },
      "id": "kMDhVlHvKk8O",
      "execution_count": 48,
      "outputs": []
    },
    {
      "cell_type": "code",
      "execution_count": 52,
      "id": "19bbbce2-7488-4118-ba55-8a88b7d67a03",
      "metadata": {
        "tags": [],
        "colab": {
          "base_uri": "https://localhost:8080/"
        },
        "id": "19bbbce2-7488-4118-ba55-8a88b7d67a03",
        "outputId": "5ae1f9ce-3f99-449f-df13-5528df743a2f"
      },
      "outputs": [
        {
          "output_type": "stream",
          "name": "stderr",
          "text": [
            "Some weights of XLMRobertaModel were not initialized from the model checkpoint at cardiffnlp/twitter-xlm-roberta-base-sentiment and are newly initialized: ['roberta.pooler.dense.bias', 'roberta.pooler.dense.weight']\n",
            "You should probably TRAIN this model on a down-stream task to be able to use it for predictions and inference.\n"
          ]
        }
      ],
      "source": [
        "model = Classifier()\n",
        "# model = nn.DataParallel(model)\n",
        "model.load_state_dict(torch.load(\"/content/drive/MyDrive/saved_models/model_twitter-xlm-roberta-base-sentiment_\" + lang + \"_easymix_mono\" + \"_redo.pth\", map_location=device))\n",
        "model = model.to(device)"
      ]
    },
    {
      "cell_type": "code",
      "source": [
        "lang='spanish'"
      ],
      "metadata": {
        "id": "o_9Z2r-dJQfk"
      },
      "id": "o_9Z2r-dJQfk",
      "execution_count": 43,
      "outputs": []
    },
    {
      "cell_type": "code",
      "source": [
        "lang='french'"
      ],
      "metadata": {
        "id": "K-bUVBSe3gIW"
      },
      "id": "K-bUVBSe3gIW",
      "execution_count": 53,
      "outputs": []
    },
    {
      "cell_type": "code",
      "source": [
        "lang='arab'"
      ],
      "metadata": {
        "id": "lCp_Hvyb4QFh"
      },
      "id": "lCp_Hvyb4QFh",
      "execution_count": null,
      "outputs": []
    },
    {
      "cell_type": "code",
      "source": [
        "lang='portuguese'"
      ],
      "metadata": {
        "id": "tkAT81Fy4TcG"
      },
      "id": "tkAT81Fy4TcG",
      "execution_count": null,
      "outputs": []
    },
    {
      "cell_type": "code",
      "execution_count": 54,
      "id": "1bb602bc-5bc9-4da0-a92a-3798f2b91dca",
      "metadata": {
        "tags": [],
        "id": "1bb602bc-5bc9-4da0-a92a-3798f2b91dca"
      },
      "outputs": [],
      "source": [
        "# test_data = HateData(data_path=\"/home/jupyter/data/test_data/bq_test_\" + lang + \"_process_10k.csv\")\n",
        "test_data = HateData(data_path=\"/content/drive/MyDrive/data_efficient_hatedetect/data/multilingual/\", split='test', lang=lang)\n",
        "test_loader = DataLoader(test_data, batch_size=1, shuffle=False)"
      ]
    },
    {
      "cell_type": "code",
      "execution_count": 55,
      "id": "1d3a48d8-f73b-41ff-98e9-4ba1734cb2cc",
      "metadata": {
        "colab": {
          "base_uri": "https://localhost:8080/"
        },
        "id": "1d3a48d8-f73b-41ff-98e9-4ba1734cb2cc",
        "outputId": "e21bfb24-e4ce-4951-9970-4ed769c7cea2"
      },
      "outputs": [
        {
          "output_type": "stream",
          "name": "stderr",
          "text": [
            "100%|██████████| 52/52 [00:03<00:00, 16.79it/s]"
          ]
        },
        {
          "output_type": "stream",
          "name": "stdout",
          "text": [
            "Test Loss:  0.4517410524332753\n"
          ]
        },
        {
          "output_type": "stream",
          "name": "stderr",
          "text": [
            "\n"
          ]
        }
      ],
      "source": [
        "model.eval()\n",
        "test_loss = []\n",
        "test_pred = []\n",
        "\n",
        "# wr = open(results_path + \"test_prediction_\" + base_model + \"_\" + lang + \"_process_10k.txt\", \"w\")\n",
        "wr = open(results_path + \"test_prediction_\" + base_model + \"_\" + lang + \".txt\", \"w\")\n",
        "for entry in tqdm(test_loader, total=len(test_data)//test_loader.batch_size, position=0, leave=True):\n",
        "    v_loss, v_pred = evaluate(entry[0], entry[1], entry[2], entry[3], model, mode='test')\n",
        "    test_loss.append(v_loss)\n",
        "    test_pred.append(v_pred)\n",
        "    wr.write(str(v_pred)+\"\\n\")\n",
        "\n",
        "test_loss = np.mean(test_loss)#.item()\n",
        "\n",
        "print(\"Test Loss: \", test_loss)\n",
        "\n",
        "wr.close()"
      ]
    },
    {
      "cell_type": "code",
      "execution_count": 37,
      "id": "fb8b4197-be6d-44f1-b67d-89f8d3834b75",
      "metadata": {
        "id": "fb8b4197-be6d-44f1-b67d-89f8d3834b75"
      },
      "outputs": [],
      "source": [
        "df_test = pd.read_csv(\"/content/drive/MyDrive/data_efficient_hatedetect/data/multilingual/test_spanish.tsv\", sep='\\t', lineterminator='\\n')\n",
        "gt_labels = np.array(df_test['label'])"
      ]
    },
    {
      "cell_type": "code",
      "execution_count": 56,
      "metadata": {
        "id": "C93Yfh7U4ATN"
      },
      "outputs": [],
      "source": [
        "df_test = pd.read_csv(\"/content/drive/MyDrive/data_efficient_hatedetect/data/multilingual/test_french.tsv\", sep='\\t', lineterminator='\\n')\n",
        "gt_labels = np.array(df_test['label'])"
      ],
      "id": "C93Yfh7U4ATN"
    },
    {
      "cell_type": "code",
      "source": [
        "df_test = pd.read_csv(\"/content/drive/MyDrive/data_efficient_hatedetect/data/multilingual/test_arab.tsv\", sep='\\t', lineterminator='\\n')\n",
        "gt_labels = np.array(df_test['label'])"
      ],
      "metadata": {
        "id": "AyyGcP4T3_5o"
      },
      "id": "AyyGcP4T3_5o",
      "execution_count": null,
      "outputs": []
    },
    {
      "cell_type": "code",
      "execution_count": 57,
      "id": "8d23d212-69ff-400c-a4e9-36173cae12a4",
      "metadata": {
        "colab": {
          "base_uri": "https://localhost:8080/"
        },
        "id": "8d23d212-69ff-400c-a4e9-36173cae12a4",
        "outputId": "0aa68e93-e5ce-4cb5-b027-34c0d3b242fd"
      },
      "outputs": [
        {
          "output_type": "stream",
          "name": "stdout",
          "text": [
            "              precision    recall  f1-score   support\n",
            "\n",
            "           0     0.8723    0.9111    0.8913        45\n",
            "           1     0.2000    0.1429    0.1667         7\n",
            "\n",
            "    accuracy                         0.8077        52\n",
            "   macro avg     0.5362    0.5270    0.5290        52\n",
            "weighted avg     0.7818    0.8077    0.7938        52\n",
            "\n"
          ]
        }
      ],
      "source": [
        "print(classification_report(gt_labels, test_pred, digits=4))"
      ]
    },
    {
      "cell_type": "code",
      "execution_count": 58,
      "id": "457197b8-1e12-4075-93ff-1202df2296eb",
      "metadata": {
        "colab": {
          "base_uri": "https://localhost:8080/",
          "height": 466
        },
        "id": "457197b8-1e12-4075-93ff-1202df2296eb",
        "outputId": "cd5adbe3-e4bc-4297-f4dd-e8c42c422d3d"
      },
      "outputs": [
        {
          "output_type": "execute_result",
          "data": {
            "text/plain": [
              "<sklearn.metrics._plot.confusion_matrix.ConfusionMatrixDisplay at 0x7a20df66ffa0>"
            ]
          },
          "metadata": {},
          "execution_count": 58
        },
        {
          "output_type": "display_data",
          "data": {
            "text/plain": [
              "<Figure size 640x480 with 2 Axes>"
            ],
            "image/png": "[encoded data removed]"
          },
          "metadata": {}
        }
      ],
      "source": [
        "ConfusionMatrixDisplay.from_predictions(gt_labels, np.array(test_pred))"
      ]
    }
  ],
  "metadata": {
    "environment": {
      "kernel": "python3",
      "name": "common-cu110.m89",
      "type": "gcloud",
      "uri": "gcr.io/deeplearning-platform-release/base-cu110:m89"
    },
    "kernelspec": {
      "display_name": "Python 3",
      "name": "python3"
    },
    "language_info": {
      "codemirror_mode": {
        "name": "ipython",
        "version": 3
      },
      "file_extension": ".py",
      "mimetype": "text/x-python",
      "name": "python",
      "nbconvert_exporter": "python",
      "pygments_lexer": "ipython3",
      "version": "3.7.12"
    },
    "colab": {
      "provenance": [],
      "machine_shape": "hm",
      "gpuType": "T4"
    },
    "accelerator": "GPU",
    "widgets": {
      "application/vnd.jupyter.widget-state+json": {
        "a097bfc701224c0fab8f7441ecf3a70a": {
          "model_module": "@jupyter-widgets/controls",
          "model_name": "HBoxModel",
          "model_module_version": "1.5.0",
          "state": {
            "_dom_classes": [],
            "_model_module": "@jupyter-widgets/controls",
            "_model_module_version": "1.5.0",
            "_model_name": "HBoxModel",
            "_view_count": null,
            "_view_module": "@jupyter-widgets/controls",
            "_view_module_version": "1.5.0",
            "_view_name": "HBoxView",
            "box_style": "",
            "children": [
              "IPY_MODEL_f4506c512f204b8690f01738da988e57",
              "IPY_MODEL_70894c4f9f18449da63ba189d25a8133",
              "IPY_MODEL_dc5a369ae19a41ccade4de7238351c84"
            ],
            "layout": "IPY_MODEL_1794c504a35147ed922cb633d87f497a"
          }
        },
        "f4506c512f204b8690f01738da988e57": {
          "model_module": "@jupyter-widgets/controls",
          "model_name": "HTMLModel",
          "model_module_version": "1.5.0",
          "state": {
            "_dom_classes": [],
            "_model_module": "@jupyter-widgets/controls",
            "_model_module_version": "1.5.0",
            "_model_name": "HTMLModel",
            "_view_count": null,
            "_view_module": "@jupyter-widgets/controls",
            "_view_module_version": "1.5.0",
            "_view_name": "HTMLView",
            "description": "",
            "description_tooltip": null,
            "layout": "IPY_MODEL_6d8220bfd8d74137987e39adb9f3ea9f",
            "placeholder": "​",
            "style": "IPY_MODEL_d4e1b83294bf477c9f7c53598327acb8",
            "value": "Downloading (…)lve/main/config.json: 100%"
          }
        },
        "70894c4f9f18449da63ba189d25a8133": {
          "model_module": "@jupyter-widgets/controls",
          "model_name": "FloatProgressModel",
          "model_module_version": "1.5.0",
          "state": {
            "_dom_classes": [],
            "_model_module": "@jupyter-widgets/controls",
            "_model_module_version": "1.5.0",
            "_model_name": "FloatProgressModel",
            "_view_count": null,
            "_view_module": "@jupyter-widgets/controls",
            "_view_module_version": "1.5.0",
            "_view_name": "ProgressView",
            "bar_style": "success",
            "description": "",
            "description_tooltip": null,
            "layout": "IPY_MODEL_3fe4a2506566431c9476e05c9cd4f1e3",
            "max": 841,
            "min": 0,
            "orientation": "horizontal",
            "style": "IPY_MODEL_361061f6c55846aa987f2568209bd562",
            "value": 841
          }
        },
        "dc5a369ae19a41ccade4de7238351c84": {
          "model_module": "@jupyter-widgets/controls",
          "model_name": "HTMLModel",
          "model_module_version": "1.5.0",
          "state": {
            "_dom_classes": [],
            "_model_module": "@jupyter-widgets/controls",
            "_model_module_version": "1.5.0",
            "_model_name": "HTMLModel",
            "_view_count": null,
            "_view_module": "@jupyter-widgets/controls",
            "_view_module_version": "1.5.0",
            "_view_name": "HTMLView",
            "description": "",
            "description_tooltip": null,
            "layout": "IPY_MODEL_34caeb63981248a38ffbde20a22d3f4b",
            "placeholder": "​",
            "style": "IPY_MODEL_89ae9b334736406fa097dad4c91d2d6d",
            "value": " 841/841 [00:00&lt;00:00, 44.7kB/s]"
          }
        },
        "1794c504a35147ed922cb633d87f497a": {
          "model_module": "@jupyter-widgets/base",
          "model_name": "LayoutModel",
          "model_module_version": "1.2.0",
          "state": {
            "_model_module": "@jupyter-widgets/base",
            "_model_module_version": "1.2.0",
            "_model_name": "LayoutModel",
            "_view_count": null,
            "_view_module": "@jupyter-widgets/base",
            "_view_module_version": "1.2.0",
            "_view_name": "LayoutView",
            "align_content": null,
            "align_items": null,
            "align_self": null,
            "border": null,
            "bottom": null,
            "display": null,
            "flex": null,
            "flex_flow": null,
            "grid_area": null,
            "grid_auto_columns": null,
            "grid_auto_flow": null,
            "grid_auto_rows": null,
            "grid_column": null,
            "grid_gap": null,
            "grid_row": null,
            "grid_template_areas": null,
            "grid_template_columns": null,
            "grid_template_rows": null,
            "height": null,
            "justify_content": null,
            "justify_items": null,
            "left": null,
            "margin": null,
            "max_height": null,
            "max_width": null,
            "min_height": null,
            "min_width": null,
            "object_fit": null,
            "object_position": null,
            "order": null,
            "overflow": null,
            "overflow_x": null,
            "overflow_y": null,
            "padding": null,
            "right": null,
            "top": null,
            "visibility": null,
            "width": null
          }
        },
        "6d8220bfd8d74137987e39adb9f3ea9f": {
          "model_module": "@jupyter-widgets/base",
          "model_name": "LayoutModel",
          "model_module_version": "1.2.0",
          "state": {
            "_model_module": "@jupyter-widgets/base",
            "_model_module_version": "1.2.0",
            "_model_name": "LayoutModel",
            "_view_count": null,
            "_view_module": "@jupyter-widgets/base",
            "_view_module_version": "1.2.0",
            "_view_name": "LayoutView",
            "align_content": null,
            "align_items": null,
            "align_self": null,
            "border": null,
            "bottom": null,
            "display": null,
            "flex": null,
            "flex_flow": null,
            "grid_area": null,
            "grid_auto_columns": null,
            "grid_auto_flow": null,
            "grid_auto_rows": null,
            "grid_column": null,
            "grid_gap": null,
            "grid_row": null,
            "grid_template_areas": null,
            "grid_template_columns": null,
            "grid_template_rows": null,
            "height": null,
            "justify_content": null,
            "justify_items": null,
            "left": null,
            "margin": null,
            "max_height": null,
            "max_width": null,
            "min_height": null,
            "min_width": null,
            "object_fit": null,
            "object_position": null,
            "order": null,
            "overflow": null,
            "overflow_x": null,
            "overflow_y": null,
            "padding": null,
            "right": null,
            "top": null,
            "visibility": null,
            "width": null
          }
        },
        "d4e1b83294bf477c9f7c53598327acb8": {
          "model_module": "@jupyter-widgets/controls",
          "model_name": "DescriptionStyleModel",
          "model_module_version": "1.5.0",
          "state": {
            "_model_module": "@jupyter-widgets/controls",
            "_model_module_version": "1.5.0",
            "_model_name": "DescriptionStyleModel",
            "_view_count": null,
            "_view_module": "@jupyter-widgets/base",
            "_view_module_version": "1.2.0",
            "_view_name": "StyleView",
            "description_width": ""
          }
        },
        "3fe4a2506566431c9476e05c9cd4f1e3": {
          "model_module": "@jupyter-widgets/base",
          "model_name": "LayoutModel",
          "model_module_version": "1.2.0",
          "state": {
            "_model_module": "@jupyter-widgets/base",
            "_model_module_version": "1.2.0",
            "_model_name": "LayoutModel",
            "_view_count": null,
            "_view_module": "@jupyter-widgets/base",
            "_view_module_version": "1.2.0",
            "_view_name": "LayoutView",
            "align_content": null,
            "align_items": null,
            "align_self": null,
            "border": null,
            "bottom": null,
            "display": null,
            "flex": null,
            "flex_flow": null,
            "grid_area": null,
            "grid_auto_columns": null,
            "grid_auto_flow": null,
            "grid_auto_rows": null,
            "grid_column": null,
            "grid_gap": null,
            "grid_row": null,
            "grid_template_areas": null,
            "grid_template_columns": null,
            "grid_template_rows": null,
            "height": null,
            "justify_content": null,
            "justify_items": null,
            "left": null,
            "margin": null,
            "max_height": null,
            "max_width": null,
            "min_height": null,
            "min_width": null,
            "object_fit": null,
            "object_position": null,
            "order": null,
            "overflow": null,
            "overflow_x": null,
            "overflow_y": null,
            "padding": null,
            "right": null,
            "top": null,
            "visibility": null,
            "width": null
          }
        },
        "361061f6c55846aa987f2568209bd562": {
          "model_module": "@jupyter-widgets/controls",
          "model_name": "ProgressStyleModel",
          "model_module_version": "1.5.0",
          "state": {
            "_model_module": "@jupyter-widgets/controls",
            "_model_module_version": "1.5.0",
            "_model_name": "ProgressStyleModel",
            "_view_count": null,
            "_view_module": "@jupyter-widgets/base",
            "_view_module_version": "1.2.0",
            "_view_name": "StyleView",
            "bar_color": null,
            "description_width": ""
          }
        },
        "34caeb63981248a38ffbde20a22d3f4b": {
          "model_module": "@jupyter-widgets/base",
          "model_name": "LayoutModel",
          "model_module_version": "1.2.0",
          "state": {
            "_model_module": "@jupyter-widgets/base",
            "_model_module_version": "1.2.0",
            "_model_name": "LayoutModel",
            "_view_count": null,
            "_view_module": "@jupyter-widgets/base",
            "_view_module_version": "1.2.0",
            "_view_name": "LayoutView",
            "align_content": null,
            "align_items": null,
            "align_self": null,
            "border": null,
            "bottom": null,
            "display": null,
            "flex": null,
            "flex_flow": null,
            "grid_area": null,
            "grid_auto_columns": null,
            "grid_auto_flow": null,
            "grid_auto_rows": null,
            "grid_column": null,
            "grid_gap": null,
            "grid_row": null,
            "grid_template_areas": null,
            "grid_template_columns": null,
            "grid_template_rows": null,
            "height": null,
            "justify_content": null,
            "justify_items": null,
            "left": null,
            "margin": null,
            "max_height": null,
            "max_width": null,
            "min_height": null,
            "min_width": null,
            "object_fit": null,
            "object_position": null,
            "order": null,
            "overflow": null,
            "overflow_x": null,
            "overflow_y": null,
            "padding": null,
            "right": null,
            "top": null,
            "visibility": null,
            "width": null
          }
        },
        "89ae9b334736406fa097dad4c91d2d6d": {
          "model_module": "@jupyter-widgets/controls",
          "model_name": "DescriptionStyleModel",
          "model_module_version": "1.5.0",
          "state": {
            "_model_module": "@jupyter-widgets/controls",
            "_model_module_version": "1.5.0",
            "_model_name": "DescriptionStyleModel",
            "_view_count": null,
            "_view_module": "@jupyter-widgets/base",
            "_view_module_version": "1.2.0",
            "_view_name": "StyleView",
            "description_width": ""
          }
        },
        "709b577494af462d9c160bd159ce4fd8": {
          "model_module": "@jupyter-widgets/controls",
          "model_name": "HBoxModel",
          "model_module_version": "1.5.0",
          "state": {
            "_dom_classes": [],
            "_model_module": "@jupyter-widgets/controls",
            "_model_module_version": "1.5.0",
            "_model_name": "HBoxModel",
            "_view_count": null,
            "_view_module": "@jupyter-widgets/controls",
            "_view_module_version": "1.5.0",
            "_view_name": "HBoxView",
            "box_style": "",
            "children": [
              "IPY_MODEL_210f2f44f0bd4e71a8409630737b8948",
              "IPY_MODEL_0a85519e897249119ebea914636fd112",
              "IPY_MODEL_437a2e99a3614aa09f1ba2def509fd09"
            ],
            "layout": "IPY_MODEL_e3ca299524b94d2ab1212e7d2d012ce2"
          }
        },
        "210f2f44f0bd4e71a8409630737b8948": {
          "model_module": "@jupyter-widgets/controls",
          "model_name": "HTMLModel",
          "model_module_version": "1.5.0",
          "state": {
            "_dom_classes": [],
            "_model_module": "@jupyter-widgets/controls",
            "_model_module_version": "1.5.0",
            "_model_name": "HTMLModel",
            "_view_count": null,
            "_view_module": "@jupyter-widgets/controls",
            "_view_module_version": "1.5.0",
            "_view_name": "HTMLView",
            "description": "",
            "description_tooltip": null,
            "layout": "IPY_MODEL_a4f347138f784938908bcff6ad746575",
            "placeholder": "​",
            "style": "IPY_MODEL_01be7a8e1c4a4bc2bf8828ec12e8f5a2",
            "value": "Downloading (…)tencepiece.bpe.model: 100%"
          }
        },
        "0a85519e897249119ebea914636fd112": {
          "model_module": "@jupyter-widgets/controls",
          "model_name": "FloatProgressModel",
          "model_module_version": "1.5.0",
          "state": {
            "_dom_classes": [],
            "_model_module": "@jupyter-widgets/controls",
            "_model_module_version": "1.5.0",
            "_model_name": "FloatProgressModel",
            "_view_count": null,
            "_view_module": "@jupyter-widgets/controls",
            "_view_module_version": "1.5.0",
            "_view_name": "ProgressView",
            "bar_style": "success",
            "description": "",
            "description_tooltip": null,
            "layout": "IPY_MODEL_3a2175b104a54dbfad5d998c54736d91",
            "max": 5069051,
            "min": 0,
            "orientation": "horizontal",
            "style": "IPY_MODEL_8f96fc36824248deb80bf7f15d8b2f26",
            "value": 5069051
          }
        },
        "437a2e99a3614aa09f1ba2def509fd09": {
          "model_module": "@jupyter-widgets/controls",
          "model_name": "HTMLModel",
          "model_module_version": "1.5.0",
          "state": {
            "_dom_classes": [],
            "_model_module": "@jupyter-widgets/controls",
            "_model_module_version": "1.5.0",
            "_model_name": "HTMLModel",
            "_view_count": null,
            "_view_module": "@jupyter-widgets/controls",
            "_view_module_version": "1.5.0",
            "_view_name": "HTMLView",
            "description": "",
            "description_tooltip": null,
            "layout": "IPY_MODEL_f2518733c570487ca2a618d1f1768b0d",
            "placeholder": "​",
            "style": "IPY_MODEL_b86aa9531c3f4502a62b857ecf0c5351",
            "value": " 5.07M/5.07M [00:00&lt;00:00, 20.3MB/s]"
          }
        },
        "e3ca299524b94d2ab1212e7d2d012ce2": {
          "model_module": "@jupyter-widgets/base",
          "model_name": "LayoutModel",
          "model_module_version": "1.2.0",
          "state": {
            "_model_module": "@jupyter-widgets/base",
            "_model_module_version": "1.2.0",
            "_model_name": "LayoutModel",
            "_view_count": null,
            "_view_module": "@jupyter-widgets/base",
            "_view_module_version": "1.2.0",
            "_view_name": "LayoutView",
            "align_content": null,
            "align_items": null,
            "align_self": null,
            "border": null,
            "bottom": null,
            "display": null,
            "flex": null,
            "flex_flow": null,
            "grid_area": null,
            "grid_auto_columns": null,
            "grid_auto_flow": null,
            "grid_auto_rows": null,
            "grid_column": null,
            "grid_gap": null,
            "grid_row": null,
            "grid_template_areas": null,
            "grid_template_columns": null,
            "grid_template_rows": null,
            "height": null,
            "justify_content": null,
            "justify_items": null,
            "left": null,
            "margin": null,
            "max_height": null,
            "max_width": null,
            "min_height": null,
            "min_width": null,
            "object_fit": null,
            "object_position": null,
            "order": null,
            "overflow": null,
            "overflow_x": null,
            "overflow_y": null,
            "padding": null,
            "right": null,
            "top": null,
            "visibility": null,
            "width": null
          }
        },
        "a4f347138f784938908bcff6ad746575": {
          "model_module": "@jupyter-widgets/base",
          "model_name": "LayoutModel",
          "model_module_version": "1.2.0",
          "state": {
            "_model_module": "@jupyter-widgets/base",
            "_model_module_version": "1.2.0",
            "_model_name": "LayoutModel",
            "_view_count": null,
            "_view_module": "@jupyter-widgets/base",
            "_view_module_version": "1.2.0",
            "_view_name": "LayoutView",
            "align_content": null,
            "align_items": null,
            "align_self": null,
            "border": null,
            "bottom": null,
            "display": null,
            "flex": null,
            "flex_flow": null,
            "grid_area": null,
            "grid_auto_columns": null,
            "grid_auto_flow": null,
            "grid_auto_rows": null,
            "grid_column": null,
            "grid_gap": null,
            "grid_row": null,
            "grid_template_areas": null,
            "grid_template_columns": null,
            "grid_template_rows": null,
            "height": null,
            "justify_content": null,
            "justify_items": null,
            "left": null,
            "margin": null,
            "max_height": null,
            "max_width": null,
            "min_height": null,
            "min_width": null,
            "object_fit": null,
            "object_position": null,
            "order": null,
            "overflow": null,
            "overflow_x": null,
            "overflow_y": null,
            "padding": null,
            "right": null,
            "top": null,
            "visibility": null,
            "width": null
          }
        },
        "01be7a8e1c4a4bc2bf8828ec12e8f5a2": {
          "model_module": "@jupyter-widgets/controls",
          "model_name": "DescriptionStyleModel",
          "model_module_version": "1.5.0",
          "state": {
            "_model_module": "@jupyter-widgets/controls",
            "_model_module_version": "1.5.0",
            "_model_name": "DescriptionStyleModel",
            "_view_count": null,
            "_view_module": "@jupyter-widgets/base",
            "_view_module_version": "1.2.0",
            "_view_name": "StyleView",
            "description_width": ""
          }
        },
        "3a2175b104a54dbfad5d998c54736d91": {
          "model_module": "@jupyter-widgets/base",
          "model_name": "LayoutModel",
          "model_module_version": "1.2.0",
          "state": {
            "_model_module": "@jupyter-widgets/base",
            "_model_module_version": "1.2.0",
            "_model_name": "LayoutModel",
            "_view_count": null,
            "_view_module": "@jupyter-widgets/base",
            "_view_module_version": "1.2.0",
            "_view_name": "LayoutView",
            "align_content": null,
            "align_items": null,
            "align_self": null,
            "border": null,
            "bottom": null,
            "display": null,
            "flex": null,
            "flex_flow": null,
            "grid_area": null,
            "grid_auto_columns": null,
            "grid_auto_flow": null,
            "grid_auto_rows": null,
            "grid_column": null,
            "grid_gap": null,
            "grid_row": null,
            "grid_template_areas": null,
            "grid_template_columns": null,
            "grid_template_rows": null,
            "height": null,
            "justify_content": null,
            "justify_items": null,
            "left": null,
            "margin": null,
            "max_height": null,
            "max_width": null,
            "min_height": null,
            "min_width": null,
            "object_fit": null,
            "object_position": null,
            "order": null,
            "overflow": null,
            "overflow_x": null,
            "overflow_y": null,
            "padding": null,
            "right": null,
            "top": null,
            "visibility": null,
            "width": null
          }
        },
        "8f96fc36824248deb80bf7f15d8b2f26": {
          "model_module": "@jupyter-widgets/controls",
          "model_name": "ProgressStyleModel",
          "model_module_version": "1.5.0",
          "state": {
            "_model_module": "@jupyter-widgets/controls",
            "_model_module_version": "1.5.0",
            "_model_name": "ProgressStyleModel",
            "_view_count": null,
            "_view_module": "@jupyter-widgets/base",
            "_view_module_version": "1.2.0",
            "_view_name": "StyleView",
            "bar_color": null,
            "description_width": ""
          }
        },
        "f2518733c570487ca2a618d1f1768b0d": {
          "model_module": "@jupyter-widgets/base",
          "model_name": "LayoutModel",
          "model_module_version": "1.2.0",
          "state": {
            "_model_module": "@jupyter-widgets/base",
            "_model_module_version": "1.2.0",
            "_model_name": "LayoutModel",
            "_view_count": null,
            "_view_module": "@jupyter-widgets/base",
            "_view_module_version": "1.2.0",
            "_view_name": "LayoutView",
            "align_content": null,
            "align_items": null,
            "align_self": null,
            "border": null,
            "bottom": null,
            "display": null,
            "flex": null,
            "flex_flow": null,
            "grid_area": null,
            "grid_auto_columns": null,
            "grid_auto_flow": null,
            "grid_auto_rows": null,
            "grid_column": null,
            "grid_gap": null,
            "grid_row": null,
            "grid_template_areas": null,
            "grid_template_columns": null,
            "grid_template_rows": null,
            "height": null,
            "justify_content": null,
            "justify_items": null,
            "left": null,
            "margin": null,
            "max_height": null,
            "max_width": null,
            "min_height": null,
            "min_width": null,
            "object_fit": null,
            "object_position": null,
            "order": null,
            "overflow": null,
            "overflow_x": null,
            "overflow_y": null,
            "padding": null,
            "right": null,
            "top": null,
            "visibility": null,
            "width": null
          }
        },
        "b86aa9531c3f4502a62b857ecf0c5351": {
          "model_module": "@jupyter-widgets/controls",
          "model_name": "DescriptionStyleModel",
          "model_module_version": "1.5.0",
          "state": {
            "_model_module": "@jupyter-widgets/controls",
            "_model_module_version": "1.5.0",
            "_model_name": "DescriptionStyleModel",
            "_view_count": null,
            "_view_module": "@jupyter-widgets/base",
            "_view_module_version": "1.2.0",
            "_view_name": "StyleView",
            "description_width": ""
          }
        },
        "80edc7c1106c4541b6f23b14a596b9f5": {
          "model_module": "@jupyter-widgets/controls",
          "model_name": "HBoxModel",
          "model_module_version": "1.5.0",
          "state": {
            "_dom_classes": [],
            "_model_module": "@jupyter-widgets/controls",
            "_model_module_version": "1.5.0",
            "_model_name": "HBoxModel",
            "_view_count": null,
            "_view_module": "@jupyter-widgets/controls",
            "_view_module_version": "1.5.0",
            "_view_name": "HBoxView",
            "box_style": "",
            "children": [
              "IPY_MODEL_5b217b10b3ea4fffb408f22f8558ce71",
              "IPY_MODEL_9eb5041c43df4e7ebac238edcaf46c8b",
              "IPY_MODEL_49c36466c129485ea756860a88754055"
            ],
            "layout": "IPY_MODEL_2894f4d2857c474990658da2d4839f3a"
          }
        },
        "5b217b10b3ea4fffb408f22f8558ce71": {
          "model_module": "@jupyter-widgets/controls",
          "model_name": "HTMLModel",
          "model_module_version": "1.5.0",
          "state": {
            "_dom_classes": [],
            "_model_module": "@jupyter-widgets/controls",
            "_model_module_version": "1.5.0",
            "_model_name": "HTMLModel",
            "_view_count": null,
            "_view_module": "@jupyter-widgets/controls",
            "_view_module_version": "1.5.0",
            "_view_name": "HTMLView",
            "description": "",
            "description_tooltip": null,
            "layout": "IPY_MODEL_617defb830a1491ebf87fdc8cfe700b7",
            "placeholder": "​",
            "style": "IPY_MODEL_c847e359f2914834800385a909c58d9b",
            "value": "Downloading (…)cial_tokens_map.json: 100%"
          }
        },
        "9eb5041c43df4e7ebac238edcaf46c8b": {
          "model_module": "@jupyter-widgets/controls",
          "model_name": "FloatProgressModel",
          "model_module_version": "1.5.0",
          "state": {
            "_dom_classes": [],
            "_model_module": "@jupyter-widgets/controls",
            "_model_module_version": "1.5.0",
            "_model_name": "FloatProgressModel",
            "_view_count": null,
            "_view_module": "@jupyter-widgets/controls",
            "_view_module_version": "1.5.0",
            "_view_name": "ProgressView",
            "bar_style": "success",
            "description": "",
            "description_tooltip": null,
            "layout": "IPY_MODEL_aa25d70a1acf4c3595ccab78bd64aed1",
            "max": 150,
            "min": 0,
            "orientation": "horizontal",
            "style": "IPY_MODEL_3d1cbba127e14bcab3975929b4a6f53d",
            "value": 150
          }
        },
        "49c36466c129485ea756860a88754055": {
          "model_module": "@jupyter-widgets/controls",
          "model_name": "HTMLModel",
          "model_module_version": "1.5.0",
          "state": {
            "_dom_classes": [],
            "_model_module": "@jupyter-widgets/controls",
            "_model_module_version": "1.5.0",
            "_model_name": "HTMLModel",
            "_view_count": null,
            "_view_module": "@jupyter-widgets/controls",
            "_view_module_version": "1.5.0",
            "_view_name": "HTMLView",
            "description": "",
            "description_tooltip": null,
            "layout": "IPY_MODEL_229a0d7cbbdd4392af0d40c8d566ece5",
            "placeholder": "​",
            "style": "IPY_MODEL_ecf9813b0a37416caf1ddd1051cd4637",
            "value": " 150/150 [00:00&lt;00:00, 7.16kB/s]"
          }
        },
        "2894f4d2857c474990658da2d4839f3a": {
          "model_module": "@jupyter-widgets/base",
          "model_name": "LayoutModel",
          "model_module_version": "1.2.0",
          "state": {
            "_model_module": "@jupyter-widgets/base",
            "_model_module_version": "1.2.0",
            "_model_name": "LayoutModel",
            "_view_count": null,
            "_view_module": "@jupyter-widgets/base",
            "_view_module_version": "1.2.0",
            "_view_name": "LayoutView",
            "align_content": null,
            "align_items": null,
            "align_self": null,
            "border": null,
            "bottom": null,
            "display": null,
            "flex": null,
            "flex_flow": null,
            "grid_area": null,
            "grid_auto_columns": null,
            "grid_auto_flow": null,
            "grid_auto_rows": null,
            "grid_column": null,
            "grid_gap": null,
            "grid_row": null,
            "grid_template_areas": null,
            "grid_template_columns": null,
            "grid_template_rows": null,
            "height": null,
            "justify_content": null,
            "justify_items": null,
            "left": null,
            "margin": null,
            "max_height": null,
            "max_width": null,
            "min_height": null,
            "min_width": null,
            "object_fit": null,
            "object_position": null,
            "order": null,
            "overflow": null,
            "overflow_x": null,
            "overflow_y": null,
            "padding": null,
            "right": null,
            "top": null,
            "visibility": null,
            "width": null
          }
        },
        "617defb830a1491ebf87fdc8cfe700b7": {
          "model_module": "@jupyter-widgets/base",
          "model_name": "LayoutModel",
          "model_module_version": "1.2.0",
          "state": {
            "_model_module": "@jupyter-widgets/base",
            "_model_module_version": "1.2.0",
            "_model_name": "LayoutModel",
            "_view_count": null,
            "_view_module": "@jupyter-widgets/base",
            "_view_module_version": "1.2.0",
            "_view_name": "LayoutView",
            "align_content": null,
            "align_items": null,
            "align_self": null,
            "border": null,
            "bottom": null,
            "display": null,
            "flex": null,
            "flex_flow": null,
            "grid_area": null,
            "grid_auto_columns": null,
            "grid_auto_flow": null,
            "grid_auto_rows": null,
            "grid_column": null,
            "grid_gap": null,
            "grid_row": null,
            "grid_template_areas": null,
            "grid_template_columns": null,
            "grid_template_rows": null,
            "height": null,
            "justify_content": null,
            "justify_items": null,
            "left": null,
            "margin": null,
            "max_height": null,
            "max_width": null,
            "min_height": null,
            "min_width": null,
            "object_fit": null,
            "object_position": null,
            "order": null,
            "overflow": null,
            "overflow_x": null,
            "overflow_y": null,
            "padding": null,
            "right": null,
            "top": null,
            "visibility": null,
            "width": null
          }
        },
        "c847e359f2914834800385a909c58d9b": {
          "model_module": "@jupyter-widgets/controls",
          "model_name": "DescriptionStyleModel",
          "model_module_version": "1.5.0",
          "state": {
            "_model_module": "@jupyter-widgets/controls",
            "_model_module_version": "1.5.0",
            "_model_name": "DescriptionStyleModel",
            "_view_count": null,
            "_view_module": "@jupyter-widgets/base",
            "_view_module_version": "1.2.0",
            "_view_name": "StyleView",
            "description_width": ""
          }
        },
        "aa25d70a1acf4c3595ccab78bd64aed1": {
          "model_module": "@jupyter-widgets/base",
          "model_name": "LayoutModel",
          "model_module_version": "1.2.0",
          "state": {
            "_model_module": "@jupyter-widgets/base",
            "_model_module_version": "1.2.0",
            "_model_name": "LayoutModel",
            "_view_count": null,
            "_view_module": "@jupyter-widgets/base",
            "_view_module_version": "1.2.0",
            "_view_name": "LayoutView",
            "align_content": null,
            "align_items": null,
            "align_self": null,
            "border": null,
            "bottom": null,
            "display": null,
            "flex": null,
            "flex_flow": null,
            "grid_area": null,
            "grid_auto_columns": null,
            "grid_auto_flow": null,
            "grid_auto_rows": null,
            "grid_column": null,
            "grid_gap": null,
            "grid_row": null,
            "grid_template_areas": null,
            "grid_template_columns": null,
            "grid_template_rows": null,
            "height": null,
            "justify_content": null,
            "justify_items": null,
            "left": null,
            "margin": null,
            "max_height": null,
            "max_width": null,
            "min_height": null,
            "min_width": null,
            "object_fit": null,
            "object_position": null,
            "order": null,
            "overflow": null,
            "overflow_x": null,
            "overflow_y": null,
            "padding": null,
            "right": null,
            "top": null,
            "visibility": null,
            "width": null
          }
        },
        "3d1cbba127e14bcab3975929b4a6f53d": {
          "model_module": "@jupyter-widgets/controls",
          "model_name": "ProgressStyleModel",
          "model_module_version": "1.5.0",
          "state": {
            "_model_module": "@jupyter-widgets/controls",
            "_model_module_version": "1.5.0",
            "_model_name": "ProgressStyleModel",
            "_view_count": null,
            "_view_module": "@jupyter-widgets/base",
            "_view_module_version": "1.2.0",
            "_view_name": "StyleView",
            "bar_color": null,
            "description_width": ""
          }
        },
        "229a0d7cbbdd4392af0d40c8d566ece5": {
          "model_module": "@jupyter-widgets/base",
          "model_name": "LayoutModel",
          "model_module_version": "1.2.0",
          "state": {
            "_model_module": "@jupyter-widgets/base",
            "_model_module_version": "1.2.0",
            "_model_name": "LayoutModel",
            "_view_count": null,
            "_view_module": "@jupyter-widgets/base",
            "_view_module_version": "1.2.0",
            "_view_name": "LayoutView",
            "align_content": null,
            "align_items": null,
            "align_self": null,
            "border": null,
            "bottom": null,
            "display": null,
            "flex": null,
            "flex_flow": null,
            "grid_area": null,
            "grid_auto_columns": null,
            "grid_auto_flow": null,
            "grid_auto_rows": null,
            "grid_column": null,
            "grid_gap": null,
            "grid_row": null,
            "grid_template_areas": null,
            "grid_template_columns": null,
            "grid_template_rows": null,
            "height": null,
            "justify_content": null,
            "justify_items": null,
            "left": null,
            "margin": null,
            "max_height": null,
            "max_width": null,
            "min_height": null,
            "min_width": null,
            "object_fit": null,
            "object_position": null,
            "order": null,
            "overflow": null,
            "overflow_x": null,
            "overflow_y": null,
            "padding": null,
            "right": null,
            "top": null,
            "visibility": null,
            "width": null
          }
        },
        "ecf9813b0a37416caf1ddd1051cd4637": {
          "model_module": "@jupyter-widgets/controls",
          "model_name": "DescriptionStyleModel",
          "model_module_version": "1.5.0",
          "state": {
            "_model_module": "@jupyter-widgets/controls",
            "_model_module_version": "1.5.0",
            "_model_name": "DescriptionStyleModel",
            "_view_count": null,
            "_view_module": "@jupyter-widgets/base",
            "_view_module_version": "1.2.0",
            "_view_name": "StyleView",
            "description_width": ""
          }
        },
        "6802eba80ceb4d9183308fd237a54057": {
          "model_module": "@jupyter-widgets/controls",
          "model_name": "HBoxModel",
          "model_module_version": "1.5.0",
          "state": {
            "_dom_classes": [],
            "_model_module": "@jupyter-widgets/controls",
            "_model_module_version": "1.5.0",
            "_model_name": "HBoxModel",
            "_view_count": null,
            "_view_module": "@jupyter-widgets/controls",
            "_view_module_version": "1.5.0",
            "_view_name": "HBoxView",
            "box_style": "",
            "children": [
              "IPY_MODEL_443eb5a10c9c4d57a8508e052fab143c",
              "IPY_MODEL_7228f4d840b04f33bc0189f6d43e1024",
              "IPY_MODEL_60ea112111614934aec2c4e7eeb8d04f"
            ],
            "layout": "IPY_MODEL_181bf8affe314688a2ee25a0b5dfc140"
          }
        },
        "443eb5a10c9c4d57a8508e052fab143c": {
          "model_module": "@jupyter-widgets/controls",
          "model_name": "HTMLModel",
          "model_module_version": "1.5.0",
          "state": {
            "_dom_classes": [],
            "_model_module": "@jupyter-widgets/controls",
            "_model_module_version": "1.5.0",
            "_model_name": "HTMLModel",
            "_view_count": null,
            "_view_module": "@jupyter-widgets/controls",
            "_view_module_version": "1.5.0",
            "_view_name": "HTMLView",
            "description": "",
            "description_tooltip": null,
            "layout": "IPY_MODEL_886e256d1c2342028ce7d642845f9055",
            "placeholder": "​",
            "style": "IPY_MODEL_5576e8e128734ea3a3dfb352e909333b",
            "value": "Downloading pytorch_model.bin: 100%"
          }
        },
        "7228f4d840b04f33bc0189f6d43e1024": {
          "model_module": "@jupyter-widgets/controls",
          "model_name": "FloatProgressModel",
          "model_module_version": "1.5.0",
          "state": {
            "_dom_classes": [],
            "_model_module": "@jupyter-widgets/controls",
            "_model_module_version": "1.5.0",
            "_model_name": "FloatProgressModel",
            "_view_count": null,
            "_view_module": "@jupyter-widgets/controls",
            "_view_module_version": "1.5.0",
            "_view_name": "ProgressView",
            "bar_style": "success",
            "description": "",
            "description_tooltip": null,
            "layout": "IPY_MODEL_128416ee7c1141ad8df018179b2f5326",
            "max": 1112271561,
            "min": 0,
            "orientation": "horizontal",
            "style": "IPY_MODEL_c631b1f13eea45918d41728723d1f4cc",
            "value": 1112271561
          }
        },
        "60ea112111614934aec2c4e7eeb8d04f": {
          "model_module": "@jupyter-widgets/controls",
          "model_name": "HTMLModel",
          "model_module_version": "1.5.0",
          "state": {
            "_dom_classes": [],
            "_model_module": "@jupyter-widgets/controls",
            "_model_module_version": "1.5.0",
            "_model_name": "HTMLModel",
            "_view_count": null,
            "_view_module": "@jupyter-widgets/controls",
            "_view_module_version": "1.5.0",
            "_view_name": "HTMLView",
            "description": "",
            "description_tooltip": null,
            "layout": "IPY_MODEL_fe873d84375646668bd439e659994605",
            "placeholder": "​",
            "style": "IPY_MODEL_c636292f83c842b39f42b9c6f72b3080",
            "value": " 1.11G/1.11G [00:06&lt;00:00, 238MB/s]"
          }
        },
        "181bf8affe314688a2ee25a0b5dfc140": {
          "model_module": "@jupyter-widgets/base",
          "model_name": "LayoutModel",
          "model_module_version": "1.2.0",
          "state": {
            "_model_module": "@jupyter-widgets/base",
            "_model_module_version": "1.2.0",
            "_model_name": "LayoutModel",
            "_view_count": null,
            "_view_module": "@jupyter-widgets/base",
            "_view_module_version": "1.2.0",
            "_view_name": "LayoutView",
            "align_content": null,
            "align_items": null,
            "align_self": null,
            "border": null,
            "bottom": null,
            "display": null,
            "flex": null,
            "flex_flow": null,
            "grid_area": null,
            "grid_auto_columns": null,
            "grid_auto_flow": null,
            "grid_auto_rows": null,
            "grid_column": null,
            "grid_gap": null,
            "grid_row": null,
            "grid_template_areas": null,
            "grid_template_columns": null,
            "grid_template_rows": null,
            "height": null,
            "justify_content": null,
            "justify_items": null,
            "left": null,
            "margin": null,
            "max_height": null,
            "max_width": null,
            "min_height": null,
            "min_width": null,
            "object_fit": null,
            "object_position": null,
            "order": null,
            "overflow": null,
            "overflow_x": null,
            "overflow_y": null,
            "padding": null,
            "right": null,
            "top": null,
            "visibility": null,
            "width": null
          }
        },
        "886e256d1c2342028ce7d642845f9055": {
          "model_module": "@jupyter-widgets/base",
          "model_name": "LayoutModel",
          "model_module_version": "1.2.0",
          "state": {
            "_model_module": "@jupyter-widgets/base",
            "_model_module_version": "1.2.0",
            "_model_name": "LayoutModel",
            "_view_count": null,
            "_view_module": "@jupyter-widgets/base",
            "_view_module_version": "1.2.0",
            "_view_name": "LayoutView",
            "align_content": null,
            "align_items": null,
            "align_self": null,
            "border": null,
            "bottom": null,
            "display": null,
            "flex": null,
            "flex_flow": null,
            "grid_area": null,
            "grid_auto_columns": null,
            "grid_auto_flow": null,
            "grid_auto_rows": null,
            "grid_column": null,
            "grid_gap": null,
            "grid_row": null,
            "grid_template_areas": null,
            "grid_template_columns": null,
            "grid_template_rows": null,
            "height": null,
            "justify_content": null,
            "justify_items": null,
            "left": null,
            "margin": null,
            "max_height": null,
            "max_width": null,
            "min_height": null,
            "min_width": null,
            "object_fit": null,
            "object_position": null,
            "order": null,
            "overflow": null,
            "overflow_x": null,
            "overflow_y": null,
            "padding": null,
            "right": null,
            "top": null,
            "visibility": null,
            "width": null
          }
        },
        "5576e8e128734ea3a3dfb352e909333b": {
          "model_module": "@jupyter-widgets/controls",
          "model_name": "DescriptionStyleModel",
          "model_module_version": "1.5.0",
          "state": {
            "_model_module": "@jupyter-widgets/controls",
            "_model_module_version": "1.5.0",
            "_model_name": "DescriptionStyleModel",
            "_view_count": null,
            "_view_module": "@jupyter-widgets/base",
            "_view_module_version": "1.2.0",
            "_view_name": "StyleView",
            "description_width": ""
          }
        },
        "128416ee7c1141ad8df018179b2f5326": {
          "model_module": "@jupyter-widgets/base",
          "model_name": "LayoutModel",
          "model_module_version": "1.2.0",
          "state": {
            "_model_module": "@jupyter-widgets/base",
            "_model_module_version": "1.2.0",
            "_model_name": "LayoutModel",
            "_view_count": null,
            "_view_module": "@jupyter-widgets/base",
            "_view_module_version": "1.2.0",
            "_view_name": "LayoutView",
            "align_content": null,
            "align_items": null,
            "align_self": null,
            "border": null,
            "bottom": null,
            "display": null,
            "flex": null,
            "flex_flow": null,
            "grid_area": null,
            "grid_auto_columns": null,
            "grid_auto_flow": null,
            "grid_auto_rows": null,
            "grid_column": null,
            "grid_gap": null,
            "grid_row": null,
            "grid_template_areas": null,
            "grid_template_columns": null,
            "grid_template_rows": null,
            "height": null,
            "justify_content": null,
            "justify_items": null,
            "left": null,
            "margin": null,
            "max_height": null,
            "max_width": null,
            "min_height": null,
            "min_width": null,
            "object_fit": null,
            "object_position": null,
            "order": null,
            "overflow": null,
            "overflow_x": null,
            "overflow_y": null,
            "padding": null,
            "right": null,
            "top": null,
            "visibility": null,
            "width": null
          }
        },
        "c631b1f13eea45918d41728723d1f4cc": {
          "model_module": "@jupyter-widgets/controls",
          "model_name": "ProgressStyleModel",
          "model_module_version": "1.5.0",
          "state": {
            "_model_module": "@jupyter-widgets/controls",
            "_model_module_version": "1.5.0",
            "_model_name": "ProgressStyleModel",
            "_view_count": null,
            "_view_module": "@jupyter-widgets/base",
            "_view_module_version": "1.2.0",
            "_view_name": "StyleView",
            "bar_color": null,
            "description_width": ""
          }
        },
        "fe873d84375646668bd439e659994605": {
          "model_module": "@jupyter-widgets/base",
          "model_name": "LayoutModel",
          "model_module_version": "1.2.0",
          "state": {
            "_model_module": "@jupyter-widgets/base",
            "_model_module_version": "1.2.0",
            "_model_name": "LayoutModel",
            "_view_count": null,
            "_view_module": "@jupyter-widgets/base",
            "_view_module_version": "1.2.0",
            "_view_name": "LayoutView",
            "align_content": null,
            "align_items": null,
            "align_self": null,
            "border": null,
            "bottom": null,
            "display": null,
            "flex": null,
            "flex_flow": null,
            "grid_area": null,
            "grid_auto_columns": null,
            "grid_auto_flow": null,
            "grid_auto_rows": null,
            "grid_column": null,
            "grid_gap": null,
            "grid_row": null,
            "grid_template_areas": null,
            "grid_template_columns": null,
            "grid_template_rows": null,
            "height": null,
            "justify_content": null,
            "justify_items": null,
            "left": null,
            "margin": null,
            "max_height": null,
            "max_width": null,
            "min_height": null,
            "min_width": null,
            "object_fit": null,
            "object_position": null,
            "order": null,
            "overflow": null,
            "overflow_x": null,
            "overflow_y": null,
            "padding": null,
            "right": null,
            "top": null,
            "visibility": null,
            "width": null
          }
        },
        "c636292f83c842b39f42b9c6f72b3080": {
          "model_module": "@jupyter-widgets/controls",
          "model_name": "DescriptionStyleModel",
          "model_module_version": "1.5.0",
          "state": {
            "_model_module": "@jupyter-widgets/controls",
            "_model_module_version": "1.5.0",
            "_model_name": "DescriptionStyleModel",
            "_view_count": null,
            "_view_module": "@jupyter-widgets/base",
            "_view_module_version": "1.2.0",
            "_view_name": "StyleView",
            "description_width": ""
          }
        }
      }
    }
  },
  "nbformat": 4,
  "nbformat_minor": 5
}
